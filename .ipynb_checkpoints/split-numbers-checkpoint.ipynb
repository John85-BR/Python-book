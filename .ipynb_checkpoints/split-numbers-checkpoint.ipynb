{
 "cells": [
  {
   "cell_type": "code",
   "execution_count": 17,
   "id": "6025303e-6a68-42b8-bf4b-f941449eb63d",
   "metadata": {},
   "outputs": [
    {
     "name": "stdout",
     "output_type": "stream",
     "text": [
      "['2', '3', '4', '5', '6']\n"
     ]
    }
   ],
   "source": [
    "def split_numbers(num):\n",
    "    \n",
    "    temp = 10**len(str(num))\n",
    "    num_list = []\n",
    "\n",
    "    for i in range(len(str(num))):\n",
    "        num_list+=str(((num%temp)//(temp//10)))\n",
    "        temp = temp//10\n",
    "  \n",
    "    return num_list\n",
    "    \n"
   ]
  },
  {
   "cell_type": "code",
   "execution_count": null,
   "id": "321a19b7-ab0e-4b3a-bb98-588b918a7cd9",
   "metadata": {},
   "outputs": [],
   "source": []
  }
 ],
 "metadata": {
  "kernelspec": {
   "display_name": "Python 3 (ipykernel)",
   "language": "python",
   "name": "python3"
  },
  "language_info": {
   "codemirror_mode": {
    "name": "ipython",
    "version": 3
   },
   "file_extension": ".py",
   "mimetype": "text/x-python",
   "name": "python",
   "nbconvert_exporter": "python",
   "pygments_lexer": "ipython3",
   "version": "3.9.13"
  }
 },
 "nbformat": 4,
 "nbformat_minor": 5
}
