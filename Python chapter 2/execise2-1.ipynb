{
 "cells": [
  {
   "cell_type": "code",
   "execution_count": 1,
   "id": "1435ad78-7f65-49ab-8331-828ff7f9f766",
   "metadata": {},
   "outputs": [
    {
     "name": "stdout",
     "output_type": "stream",
     "text": [
      "x =  2\n",
      "value of 2 + is 4\n",
      "x=\n",
      "5 = 5\n"
     ]
    }
   ],
   "source": [
    "x =2\n",
    "y =3\n",
    "print('x = ',x)\n",
    "print('value of',x,'+','is',(x+x))\n",
    "print('x=')\n",
    "print((x+y),'=',(y+x))"
   ]
  },
  {
   "cell_type": "code",
   "execution_count": null,
   "id": "1a7c1671-15f8-495e-af1c-6aa2ccd53cc6",
   "metadata": {},
   "outputs": [],
   "source": []
  }
 ],
 "metadata": {
  "kernelspec": {
   "display_name": "Python 3 (ipykernel)",
   "language": "python",
   "name": "python3"
  },
  "language_info": {
   "codemirror_mode": {
    "name": "ipython",
    "version": 3
   },
   "file_extension": ".py",
   "mimetype": "text/x-python",
   "name": "python",
   "nbconvert_exporter": "python",
   "pygments_lexer": "ipython3",
   "version": "3.9.13"
  }
 },
 "nbformat": 4,
 "nbformat_minor": 5
}
