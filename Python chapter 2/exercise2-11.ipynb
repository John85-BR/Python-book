{
 "cells": [
  {
   "cell_type": "code",
   "execution_count": 22,
   "id": "d33690e8-7985-46e3-8770-8d28babc2abf",
   "metadata": {},
   "outputs": [
    {
     "name": "stdout",
     "output_type": "stream",
     "text": [
      "4\n",
      "2\n",
      "3\n",
      "3\n",
      "9\n"
     ]
    }
   ],
   "source": [
    "num = 42339\n",
    "num2 = 100000\n",
    "\n",
    "for i in range(5):\n",
    "    print((num%num2)//(num2//10))\n",
    "    num2 = num2//10"
   ]
  },
  {
   "cell_type": "code",
   "execution_count": null,
   "id": "0eba3928-5ddd-4d6a-ac40-ac6968819bb6",
   "metadata": {},
   "outputs": [],
   "source": []
  }
 ],
 "metadata": {
  "kernelspec": {
   "display_name": "Python 3 (ipykernel)",
   "language": "python",
   "name": "python3"
  },
  "language_info": {
   "codemirror_mode": {
    "name": "ipython",
    "version": 3
   },
   "file_extension": ".py",
   "mimetype": "text/x-python",
   "name": "python",
   "nbconvert_exporter": "python",
   "pygments_lexer": "ipython3",
   "version": "3.9.13"
  }
 },
 "nbformat": 4,
 "nbformat_minor": 5
}
