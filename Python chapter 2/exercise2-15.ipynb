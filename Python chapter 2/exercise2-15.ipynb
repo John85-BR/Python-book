{
 "cells": [
  {
   "cell_type": "code",
   "execution_count": 8,
   "id": "e8b2b1b8-50c8-482c-8279-e78345ae5994",
   "metadata": {},
   "outputs": [
    {
     "name": "stdin",
     "output_type": "stream",
     "text": [
      "input 5\n",
      "input 5\n",
      "input 1\n"
     ]
    }
   ],
   "source": [
    "number1 = float(input('input'))\n",
    "number2 = float(input('input'))\n",
    "number3 = float(input('input'))\n",
    "\n",
    "maior = max(number1,number2,number3)\n",
    "menor = min(number1,number2,number3)\n",
    "\n",
    "if maior != number1 and menor != number1:\n",
    "    print(maior,'\\t',number1,'\\t',menor)\n",
    "    \n",
    "if maior != number2 and menor != number2:\n",
    "    print(maior,'\\t',number2,'\\t',menor)\n",
    "    \n",
    "if maior != number3 and menor != number3:\n",
    "    print(maior,'\\t',number3,'\\t',menor)\n",
    "    \n",
    "\n",
    "\n"
   ]
  },
  {
   "cell_type": "code",
   "execution_count": null,
   "id": "5625af0f-d33c-416c-aa6a-45b1506ca0ee",
   "metadata": {},
   "outputs": [],
   "source": []
  }
 ],
 "metadata": {
  "kernelspec": {
   "display_name": "Python 3 (ipykernel)",
   "language": "python",
   "name": "python3"
  },
  "language_info": {
   "codemirror_mode": {
    "name": "ipython",
    "version": 3
   },
   "file_extension": ".py",
   "mimetype": "text/x-python",
   "name": "python",
   "nbconvert_exporter": "python",
   "pygments_lexer": "ipython3",
   "version": "3.9.13"
  }
 },
 "nbformat": 4,
 "nbformat_minor": 5
}
