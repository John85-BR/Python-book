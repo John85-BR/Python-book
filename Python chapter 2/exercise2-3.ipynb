{
 "cells": [
  {
   "cell_type": "code",
   "execution_count": 2,
   "id": "97773236-0a33-44f9-8cad-c4137e031363",
   "metadata": {},
   "outputs": [
    {
     "name": "stdout",
     "output_type": "stream",
     "text": [
      "Congratulations! Your grade of 91 earns you an A in this course\n"
     ]
    }
   ],
   "source": [
    "grade = 99\n",
    "\n",
    "if grade >=90:\n",
    "    print('Congratulations! Your grade of 91 earns you an A in this course')"
   ]
  },
  {
   "cell_type": "code",
   "execution_count": null,
   "id": "c08043d0-5128-4529-bdef-4e3cfb988a35",
   "metadata": {},
   "outputs": [],
   "source": []
  }
 ],
 "metadata": {
  "kernelspec": {
   "display_name": "Python 3 (ipykernel)",
   "language": "python",
   "name": "python3"
  },
  "language_info": {
   "codemirror_mode": {
    "name": "ipython",
    "version": 3
   },
   "file_extension": ".py",
   "mimetype": "text/x-python",
   "name": "python",
   "nbconvert_exporter": "python",
   "pygments_lexer": "ipython3",
   "version": "3.9.13"
  }
 },
 "nbformat": 4,
 "nbformat_minor": 5
}
