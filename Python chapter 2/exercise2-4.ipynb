{
 "cells": [
  {
   "cell_type": "code",
   "execution_count": 2,
   "id": "4be018a8-c384-4219-af52-3996adbfe677",
   "metadata": {},
   "outputs": [
    {
     "name": "stdout",
     "output_type": "stream",
     "text": [
      "55.0\n",
      "25.5\n",
      "29.5\n",
      "13.75\n",
      "13.0\n",
      "756.25\n"
     ]
    }
   ],
   "source": [
    "print(27.5*2)\n",
    "print(27.5-2)\n",
    "print(27.5+2)\n",
    "print(27.5/2)\n",
    "print(27.5//2)\n",
    "print(27.5**2)"
   ]
  },
  {
   "cell_type": "code",
   "execution_count": null,
   "id": "878017e6-a021-4e99-a0d5-a4bed64925e4",
   "metadata": {},
   "outputs": [],
   "source": []
  }
 ],
 "metadata": {
  "kernelspec": {
   "display_name": "Python 3 (ipykernel)",
   "language": "python",
   "name": "python3"
  },
  "language_info": {
   "codemirror_mode": {
    "name": "ipython",
    "version": 3
   },
   "file_extension": ".py",
   "mimetype": "text/x-python",
   "name": "python",
   "nbconvert_exporter": "python",
   "pygments_lexer": "ipython3",
   "version": "3.9.13"
  }
 },
 "nbformat": 4,
 "nbformat_minor": 5
}
