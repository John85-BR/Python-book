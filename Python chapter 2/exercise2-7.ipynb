{
 "cells": [
  {
   "cell_type": "code",
   "execution_count": 4,
   "id": "a9f4a80a-1270-4083-81da-bb51a184137e",
   "metadata": {},
   "outputs": [
    {
     "name": "stdout",
     "output_type": "stream",
     "text": [
      "is multiple of 4\n"
     ]
    }
   ],
   "source": [
    "num = 1024\n",
    "num2 = 2\n",
    "\n",
    "if num%4==0:\n",
    "    print('is multiple of 4')\n",
    "\n",
    "if num2%10==0:\n",
    "    print('is multiple of 10')\n",
    "    "
   ]
  },
  {
   "cell_type": "code",
   "execution_count": null,
   "id": "6fba3e3b-c8f5-438d-b7ff-b12e30ee82b9",
   "metadata": {},
   "outputs": [],
   "source": []
  }
 ],
 "metadata": {
  "kernelspec": {
   "display_name": "Python 3 (ipykernel)",
   "language": "python",
   "name": "python3"
  },
  "language_info": {
   "codemirror_mode": {
    "name": "ipython",
    "version": 3
   },
   "file_extension": ".py",
   "mimetype": "text/x-python",
   "name": "python",
   "nbconvert_exporter": "python",
   "pygments_lexer": "ipython3",
   "version": "3.9.13"
  }
 },
 "nbformat": 4,
 "nbformat_minor": 5
}
