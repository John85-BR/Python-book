{
 "cells": [
  {
   "cell_type": "code",
   "execution_count": 2,
   "id": "c58dd039-261c-4558-a980-0985174000b8",
   "metadata": {},
   "outputs": [
    {
     "name": "stdout",
     "output_type": "stream",
     "text": [
      "66\n",
      "67\n",
      "68\n",
      "98\n",
      "99\n",
      "100\n",
      "48\n",
      "49\n",
      "50\n",
      "36\n",
      "42\n",
      "43\n",
      "32\n"
     ]
    }
   ],
   "source": [
    "for char in ['B','C','D','b','c','d','0','1','2','$','*','+',' ']:\n",
    "    print(ord(char))"
   ]
  },
  {
   "cell_type": "code",
   "execution_count": null,
   "id": "e2757b03-19e2-420e-81cb-3df9d641bac4",
   "metadata": {},
   "outputs": [],
   "source": []
  }
 ],
 "metadata": {
  "kernelspec": {
   "display_name": "Python 3 (ipykernel)",
   "language": "python",
   "name": "python3"
  },
  "language_info": {
   "codemirror_mode": {
    "name": "ipython",
    "version": 3
   },
   "file_extension": ".py",
   "mimetype": "text/x-python",
   "name": "python",
   "nbconvert_exporter": "python",
   "pygments_lexer": "ipython3",
   "version": "3.9.13"
  }
 },
 "nbformat": 4,
 "nbformat_minor": 5
}
