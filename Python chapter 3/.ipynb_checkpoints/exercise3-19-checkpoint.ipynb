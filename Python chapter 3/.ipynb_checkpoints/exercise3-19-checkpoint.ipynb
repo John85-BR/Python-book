{
 "cells": [
  {
   "cell_type": "code",
   "execution_count": 3,
   "id": "57460e3f-b3a7-4a09-9c66-0f042ee94ded",
   "metadata": {},
   "outputs": [
    {
     "name": "stdout",
     "output_type": "stream",
     "text": [
      "0² = 0²+0²\n",
      "1² = 0²+1²\n",
      "2² = 0²+2²\n",
      "3² = 0²+3²\n",
      "4² = 0²+4²\n",
      "5² = 0²+5²\n",
      "6² = 0²+6²\n",
      "7² = 0²+7²\n",
      "8² = 0²+8²\n",
      "9² = 0²+9²\n",
      "10² = 0²+10²\n",
      "11² = 0²+11²\n",
      "12² = 0²+12²\n",
      "13² = 0²+13²\n",
      "14² = 0²+14²\n",
      "15² = 0²+15²\n",
      "16² = 0²+16²\n",
      "17² = 0²+17²\n",
      "18² = 0²+18²\n",
      "19² = 0²+19²\n",
      "20² = 0²+20²\n",
      "1² = 1²+0²\n",
      "2² = 2²+0²\n",
      "3² = 3²+0²\n",
      "5² = 3²+4²\n",
      "4² = 4²+0²\n",
      "5² = 4²+3²\n",
      "5² = 5²+0²\n",
      "13² = 5²+12²\n",
      "6² = 6²+0²\n",
      "10² = 6²+8²\n",
      "7² = 7²+0²\n",
      "8² = 8²+0²\n",
      "10² = 8²+6²\n",
      "17² = 8²+15²\n",
      "9² = 9²+0²\n",
      "15² = 9²+12²\n",
      "10² = 10²+0²\n",
      "11² = 11²+0²\n",
      "12² = 12²+0²\n",
      "13² = 12²+5²\n",
      "15² = 12²+9²\n",
      "20² = 12²+16²\n",
      "13² = 13²+0²\n",
      "14² = 14²+0²\n",
      "15² = 15²+0²\n",
      "17² = 15²+8²\n",
      "16² = 16²+0²\n",
      "20² = 16²+12²\n",
      "17² = 17²+0²\n",
      "18² = 18²+0²\n",
      "19² = 19²+0²\n",
      "20² = 20²+0²\n"
     ]
    }
   ],
   "source": [
    "a = 3\n",
    "b = 4\n",
    "c = (a**2)+(b**2)\n",
    "\n",
    "pit = c**2\n",
    "\n",
    "for a in range(21):\n",
    "    for b in range(21):\n",
    "        for c in range(21):\n",
    "            \n",
    "            if ((a**2)+(b**2))==(c**2):\n",
    "                print(f'{c}² = {a}²+{b}²')"
   ]
  },
  {
   "cell_type": "code",
   "execution_count": null,
   "id": "45011312-2f62-4710-86af-fa282630ca83",
   "metadata": {},
   "outputs": [],
   "source": []
  }
 ],
 "metadata": {
  "kernelspec": {
   "display_name": "Python 3 (ipykernel)",
   "language": "python",
   "name": "python3"
  },
  "language_info": {
   "codemirror_mode": {
    "name": "ipython",
    "version": 3
   },
   "file_extension": ".py",
   "mimetype": "text/x-python",
   "name": "python",
   "nbconvert_exporter": "python",
   "pygments_lexer": "ipython3",
   "version": "3.9.13"
  }
 },
 "nbformat": 4,
 "nbformat_minor": 5
}
