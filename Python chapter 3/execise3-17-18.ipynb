{
 "cells": [
  {
   "cell_type": "code",
   "execution_count": 37,
   "id": "a701c08b-c7c7-4994-a2fe-d5f7a63b4ce3",
   "metadata": {},
   "outputs": [
    {
     "name": "stdout",
     "output_type": "stream",
     "text": [
      "*                         * * * * * * * * * *      * * * * * * * * * *                         * \n",
      "* *                       * * * * * * * * *          * * * * * * * * *                       * * \n",
      "* * *                     * * * * * * * *              * * * * * * * *                     * * * \n",
      "* * * *                   * * * * * * *                  * * * * * * *                   * * * * \n",
      "* * * * *                 * * * * * *                      * * * * * *                 * * * * * \n",
      "* * * * * *               * * * * *                          * * * * *               * * * * * * \n",
      "* * * * * * *             * * * *                              * * * *             * * * * * * * \n",
      "* * * * * * * *           * * *                                  * * *           * * * * * * * * \n",
      "* * * * * * * * *         * *                                      * *         * * * * * * * * * \n",
      "* * * * * * * * * *       *                                          *       * * * * * * * * * * \n"
     ]
    }
   ],
   "source": [
    "column_max1 = 1\n",
    "column_max2 = 10\n",
    "column_blank= 25\n",
    "column_blank2= 5\n",
    "\n",
    "caractere = '*'\n",
    "\n",
    "for row in range(10):\n",
    "    \n",
    "    for column in range(column_max1):\n",
    "        print(f'{caractere}',end=' ')\n",
    "        \n",
    "    for blank in range(column_blank-column_max1):\n",
    "        print(end=' ')\n",
    "        \n",
    "    for column in range(column_max2):\n",
    "        print(f'{caractere}',end=' ')\n",
    "        \n",
    "    for blank in range(column_blank2):\n",
    "        print(end=' ')\n",
    "\n",
    "    for column in range(column_max2):\n",
    "        print(f'{caractere}',end=' ')\n",
    "              \n",
    "    for blank in range(column_blank-column_max1):\n",
    "        print(end=' ')\n",
    "        \n",
    "    for column in range(column_max1):\n",
    "        print(f'{caractere}',end=' ')\n",
    "   \n",
    "    print()\n",
    "    column_max1+=1\n",
    "    column_blank-=1\n",
    "    column_max2-=1\n",
    "    column_blank2+=4\n",
    "     \n",
    "    \n",
    " \n",
    "\n"
   ]
  },
  {
   "cell_type": "code",
   "execution_count": null,
   "id": "afcae7c3-3b0b-48b0-8d2e-f1b2f5e6af98",
   "metadata": {},
   "outputs": [],
   "source": []
  },
  {
   "cell_type": "code",
   "execution_count": null,
   "id": "ffc0474b-45aa-425c-8ce5-1b057c2b9b26",
   "metadata": {},
   "outputs": [],
   "source": []
  },
  {
   "cell_type": "code",
   "execution_count": null,
   "id": "d54af21f-9d9e-460f-ae8b-37ad8b9ff63c",
   "metadata": {},
   "outputs": [],
   "source": []
  },
  {
   "cell_type": "code",
   "execution_count": null,
   "id": "1252b48c-70ff-4237-9b37-f44e772772b5",
   "metadata": {},
   "outputs": [],
   "source": []
  }
 ],
 "metadata": {
  "kernelspec": {
   "display_name": "Python 3 (ipykernel)",
   "language": "python",
   "name": "python3"
  },
  "language_info": {
   "codemirror_mode": {
    "name": "ipython",
    "version": 3
   },
   "file_extension": ".py",
   "mimetype": "text/x-python",
   "name": "python",
   "nbconvert_exporter": "python",
   "pygments_lexer": "ipython3",
   "version": "3.9.13"
  }
 },
 "nbformat": 4,
 "nbformat_minor": 5
}
