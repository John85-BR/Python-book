{
 "cells": [
  {
   "cell_type": "code",
   "execution_count": 38,
   "id": "0ad18146-26ba-4239-be0f-50f337438674",
   "metadata": {},
   "outputs": [
    {
     "name": "stdin",
     "output_type": "stream",
     "text": [
      "Insert a binary digit 149\n"
     ]
    },
    {
     "name": "stdout",
     "output_type": "stream",
     "text": [
      "4\n",
      "12.0\n",
      "21.0\n"
     ]
    }
   ],
   "source": [
    "decimal_temp = 0\n",
    "decimal_result = 0\n",
    "number = int(input('Insert a binary digit'))\n",
    "mult = 1\n",
    "temp = 10**len(str(number))\n",
    "\n",
    "if len(str(number))>1: \n",
    "    for i in range(1,len(str(number))):\n",
    "        mult*=2\n",
    "\n",
    "for i in range(len(str(number))):\n",
    "    decimal_temp=(number%temp)//(temp//10)\n",
    "    decimal_result += decimal_temp*mult\n",
    "    print(decimal_result)\n",
    "    temp = temp//10\n",
    "    mult/=2\n",
    " \n",
    "\n",
    "\n",
    "        \n",
    "        \n"
   ]
  },
  {
   "cell_type": "code",
   "execution_count": null,
   "id": "535b42ed-12ed-44e9-9a14-665a14429796",
   "metadata": {},
   "outputs": [],
   "source": []
  }
 ],
 "metadata": {
  "kernelspec": {
   "display_name": "Python 3 (ipykernel)",
   "language": "python",
   "name": "python3"
  },
  "language_info": {
   "codemirror_mode": {
    "name": "ipython",
    "version": 3
   },
   "file_extension": ".py",
   "mimetype": "text/x-python",
   "name": "python",
   "nbconvert_exporter": "python",
   "pygments_lexer": "ipython3",
   "version": "3.9.13"
  }
 },
 "nbformat": 4,
 "nbformat_minor": 5
}
