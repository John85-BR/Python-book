{
 "cells": [
  {
   "cell_type": "code",
   "execution_count": null,
   "id": "1297790f-56bb-4cfb-8835-0212b360ad49",
   "metadata": {},
   "outputs": [],
   "source": [
    "num = 42339\n",
    "num2 = 100000\n",
    "\n",
    "for i in range(5):\n",
    "    print((num%num2)//(num2//10))\n",
    "    num2 = num2//10"
   ]
  }
 ],
 "metadata": {
  "kernelspec": {
   "display_name": "Python 3 (ipykernel)",
   "language": "python",
   "name": "python3"
  },
  "language_info": {
   "codemirror_mode": {
    "name": "ipython",
    "version": 3
   },
   "file_extension": ".py",
   "mimetype": "text/x-python",
   "name": "python",
   "nbconvert_exporter": "python",
   "pygments_lexer": "ipython3",
   "version": "3.9.13"
  }
 },
 "nbformat": 4,
 "nbformat_minor": 5
}
