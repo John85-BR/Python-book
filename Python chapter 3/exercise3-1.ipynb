{
 "cells": [
  {
   "cell_type": "code",
   "execution_count": 2,
   "id": "f013871d-2684-4c44-8a8d-3a8fe46e82b6",
   "metadata": {},
   "outputs": [
    {
     "name": "stdin",
     "output_type": "stream",
     "text": [
      "Enter result (1=pass,2=fail):  3\n"
     ]
    },
    {
     "name": "stdout",
     "output_type": "stream",
     "text": [
      "Enter with the correct value\n"
     ]
    },
    {
     "name": "stdin",
     "output_type": "stream",
     "text": [
      "Enter result (1=pass,2=fail):  3\n"
     ]
    },
    {
     "name": "stdout",
     "output_type": "stream",
     "text": [
      "Enter with the correct value\n"
     ]
    },
    {
     "name": "stdin",
     "output_type": "stream",
     "text": [
      "Enter result (1=pass,2=fail):  4\n"
     ]
    },
    {
     "name": "stdout",
     "output_type": "stream",
     "text": [
      "Enter with the correct value\n"
     ]
    },
    {
     "name": "stdin",
     "output_type": "stream",
     "text": [
      "Enter result (1=pass,2=fail):  1\n",
      "Enter result (1=pass,2=fail):  2\n",
      "Enter result (1=pass,2=fail):  3\n"
     ]
    },
    {
     "name": "stdout",
     "output_type": "stream",
     "text": [
      "Enter with the correct value\n"
     ]
    },
    {
     "name": "stdin",
     "output_type": "stream",
     "text": [
      "Enter result (1=pass,2=fail):  1\n",
      "Enter result (1=pass,2=fail):  2\n",
      "Enter result (1=pass,2=fail):  4\n"
     ]
    },
    {
     "name": "stdout",
     "output_type": "stream",
     "text": [
      "Enter with the correct value\n"
     ]
    },
    {
     "name": "stdin",
     "output_type": "stream",
     "text": [
      "Enter result (1=pass,2=fail):  2\n",
      "Enter result (1=pass,2=fail):  2\n",
      "Enter result (1=pass,2=fail):  4\n"
     ]
    },
    {
     "name": "stdout",
     "output_type": "stream",
     "text": [
      "Enter with the correct value\n"
     ]
    },
    {
     "name": "stdin",
     "output_type": "stream",
     "text": [
      "Enter result (1=pass,2=fail):  1\n",
      "Enter result (1=pass,2=fail):  1\n",
      "Enter result (1=pass,2=fail):  2\n",
      "Enter result (1=pass,2=fail):  1\n"
     ]
    },
    {
     "name": "stdout",
     "output_type": "stream",
     "text": [
      "passed: 5\n",
      "failed 5\n"
     ]
    }
   ],
   "source": [
    "passes = 0\n",
    "failures = 0\n",
    "cont = 0\n",
    "\n",
    "while(cont<10):\n",
    "    result = int(input('Enter result (1=pass,2=fail): '))\n",
    "    \n",
    "    if result == 1:\n",
    "        passes = passes + 1\n",
    "        cont=cont+1\n",
    "    elif result ==2:\n",
    "        failures = failures + 1\n",
    "        cont=cont+1\n",
    "    else:\n",
    "        print('Enter with the correct value')\n",
    "        \n",
    "print('passed:', passes)\n",
    "print('failed', failures)\n",
    "\n",
    "if passes > 8:\n",
    "    print('Bonus to instructor')"
   ]
  },
  {
   "cell_type": "code",
   "execution_count": null,
   "id": "20ad79c8-8227-4a32-af55-1932fd400bb2",
   "metadata": {},
   "outputs": [],
   "source": []
  }
 ],
 "metadata": {
  "kernelspec": {
   "display_name": "Python 3 (ipykernel)",
   "language": "python",
   "name": "python3"
  },
  "language_info": {
   "codemirror_mode": {
    "name": "ipython",
    "version": 3
   },
   "file_extension": ".py",
   "mimetype": "text/x-python",
   "name": "python",
   "nbconvert_exporter": "python",
   "pygments_lexer": "ipython3",
   "version": "3.9.13"
  }
 },
 "nbformat": 4,
 "nbformat_minor": 5
}
