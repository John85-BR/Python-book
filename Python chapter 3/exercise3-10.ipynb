{
 "cells": [
  {
   "cell_type": "code",
   "execution_count": 10,
   "id": "dbf78fa9-83d5-402e-a39b-efb3170a0c20",
   "metadata": {},
   "outputs": [
    {
     "name": "stdout",
     "output_type": "stream",
     "text": [
      "year\tamount\n",
      "   1\t1070.0\n",
      "   2\t1144.9\n",
      "   3\t1225.0430000000001\n",
      "   4\t1310.7960100000003\n",
      "   5\t1402.5517307000005\n",
      "   6\t1500.7303518490005\n",
      "   7\t1605.7814764784307\n",
      "   8\t1718.186179831921\n",
      "   9\t1838.4592124201556\n",
      "  10\t1967.1513572895665\n",
      "  11\t2104.8519522998363\n",
      "  12\t2252.191588960825\n",
      "  13\t2409.845000188083\n",
      "  14\t2578.534150201249\n",
      "  15\t2759.031540715336\n",
      "  16\t2952.16374856541\n",
      "  17\t3158.8152109649886\n",
      "  18\t3379.932275732538\n",
      "  19\t3616.5275350338165\n",
      "  20\t3869.6844624861833\n",
      "  21\t4140.562374860217\n",
      "  22\t4430.401741100432\n",
      "  23\t4740.5298629774625\n",
      "  24\t5072.366953385886\n",
      "  25\t5427.432640122897\n",
      "  26\t5807.352924931501\n",
      "  27\t6213.867629676706\n",
      "  28\t6648.838363754076\n",
      "  29\t7114.257049216862\n",
      "  30\t7612.255042662042\n"
     ]
    }
   ],
   "source": [
    "p=1000\n",
    "r=0.07\n",
    "\n",
    "\n",
    "print('year\\tamount')\n",
    "for n in range(1,31):\n",
    "    a=p*(1+r)**n\n",
    "    print(f'{n:>4}\\t{a:>6}')\n"
   ]
  },
  {
   "cell_type": "code",
   "execution_count": null,
   "id": "dfeae598-f4fb-40ac-8374-166962522d1e",
   "metadata": {},
   "outputs": [],
   "source": []
  }
 ],
 "metadata": {
  "kernelspec": {
   "display_name": "Python 3 (ipykernel)",
   "language": "python",
   "name": "python3"
  },
  "language_info": {
   "codemirror_mode": {
    "name": "ipython",
    "version": 3
   },
   "file_extension": ".py",
   "mimetype": "text/x-python",
   "name": "python",
   "nbconvert_exporter": "python",
   "pygments_lexer": "ipython3",
   "version": "3.9.13"
  }
 },
 "nbformat": 4,
 "nbformat_minor": 5
}
