{
 "cells": [
  {
   "cell_type": "code",
   "execution_count": 14,
   "id": "abfec058-2406-444c-8c57-1fa2ef222099",
   "metadata": {},
   "outputs": [
    {
     "name": "stdin",
     "output_type": "stream",
     "text": [
      "Enter the gallons used(-1 to end):  12.8\n",
      "Enter the miles driven:  287\n"
     ]
    },
    {
     "name": "stdout",
     "output_type": "stream",
     "text": [
      "The miles/gallon for this tank was: 22.4218750000\n"
     ]
    },
    {
     "name": "stdin",
     "output_type": "stream",
     "text": [
      "Enter the gallons used(-1 to end):  10.3\n",
      "Enter the miles driven:  200\n"
     ]
    },
    {
     "name": "stdout",
     "output_type": "stream",
     "text": [
      "The miles/gallon for this tank was: 19.4174757282\n"
     ]
    },
    {
     "name": "stdin",
     "output_type": "stream",
     "text": [
      "Enter the gallons used(-1 to end):  5\n",
      "Enter the miles driven:  120\n"
     ]
    },
    {
     "name": "stdout",
     "output_type": "stream",
     "text": [
      "The miles/gallon for this tank was: 24.0000000000\n"
     ]
    },
    {
     "name": "stdin",
     "output_type": "stream",
     "text": [
      "Enter the gallons used(-1 to end):  -1\n"
     ]
    },
    {
     "name": "stdout",
     "output_type": "stream",
     "text": [
      "The overall average miles/gallon was: 21.6014234875\n"
     ]
    }
   ],
   "source": [
    "gallons = 0\n",
    "miles = 0\n",
    "gallons_sum = 0\n",
    "miles_sum = 0\n",
    "\n",
    "while True:\n",
    "    \n",
    "    try:\n",
    "        \n",
    "        gallons = float(input('Enter the gallons used(-1 to end): '))\n",
    "        \n",
    "        if gallons == -1:\n",
    "            break\n",
    "            \n",
    "        miles = float(input('Enter the miles driven: '))\n",
    "        \n",
    "    except ValueError:\n",
    "        print('You must insert a valid number value')\n",
    "    else:\n",
    "        gallons_sum += gallons\n",
    "        miles_sum += miles\n",
    "        print(f'The miles/gallon for this tank was: {miles/gallons:.10f}')\n",
    "        \n",
    "print(f'The overall average miles/gallon was: {miles_sum/gallons_sum:.10f}')"
   ]
  },
  {
   "cell_type": "code",
   "execution_count": null,
   "id": "4a8fd299-2376-4be0-b485-cbeb7a2070b3",
   "metadata": {},
   "outputs": [],
   "source": []
  }
 ],
 "metadata": {
  "kernelspec": {
   "display_name": "Python 3 (ipykernel)",
   "language": "python",
   "name": "python3"
  },
  "language_info": {
   "codemirror_mode": {
    "name": "ipython",
    "version": 3
   },
   "file_extension": ".py",
   "mimetype": "text/x-python",
   "name": "python",
   "nbconvert_exporter": "python",
   "pygments_lexer": "ipython3",
   "version": "3.9.13"
  }
 },
 "nbformat": 4,
 "nbformat_minor": 5
}
