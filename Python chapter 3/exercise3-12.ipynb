{
 "cells": [
  {
   "cell_type": "code",
   "execution_count": 4,
   "id": "80b9aa45-3d68-4948-8249-d531c493c237",
   "metadata": {},
   "outputs": [
    {
     "name": "stdin",
     "output_type": "stream",
     "text": [
      "Enter the number:  1253357\n"
     ]
    }
   ],
   "source": [
    "word = ''\n",
    "\n",
    "while True:\n",
    "    \n",
    "    try:\n",
    "        num = int(input('Enter the number: '))\n",
    "    except ValueError:\n",
    "        print('Enter with valid value')\n",
    "    else:\n",
    "        break\n",
    "        \n",
    "temp = 10**len(str(num))\n",
    "\n",
    "for i in range(len(str(num))):\n",
    "    word+=str((num%temp)//(temp//10))\n",
    "    temp = temp//10\n",
    "    \n",
    "    \n",
    "    \n",
    "if word==word[::-1]:\n",
    "    print('The number is a palindrome')\n",
    "\n",
    "    "
   ]
  },
  {
   "cell_type": "code",
   "execution_count": null,
   "id": "752d8de3-bdea-4dfb-a10d-110017f3ba49",
   "metadata": {},
   "outputs": [],
   "source": []
  },
  {
   "cell_type": "code",
   "execution_count": null,
   "id": "9e77c8d0-d8dc-4a8a-bcf6-4ee1d1875542",
   "metadata": {},
   "outputs": [],
   "source": []
  }
 ],
 "metadata": {
  "kernelspec": {
   "display_name": "Python 3 (ipykernel)",
   "language": "python",
   "name": "python3"
  },
  "language_info": {
   "codemirror_mode": {
    "name": "ipython",
    "version": 3
   },
   "file_extension": ".py",
   "mimetype": "text/x-python",
   "name": "python",
   "nbconvert_exporter": "python",
   "pygments_lexer": "ipython3",
   "version": "3.9.13"
  }
 },
 "nbformat": 4,
 "nbformat_minor": 5
}
