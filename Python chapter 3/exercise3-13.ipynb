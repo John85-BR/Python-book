{
 "cells": [
  {
   "cell_type": "code",
   "execution_count": 9,
   "id": "d00cc31c-088c-4779-a32f-b7a6d45085f8",
   "metadata": {},
   "outputs": [
    {
     "name": "stdout",
     "output_type": "stream",
     "text": [
      "120\n"
     ]
    }
   ],
   "source": [
    "num = 50\n",
    "fact = 1\n",
    "\n",
    "def factorial(num):\n",
    "    if num==0:\n",
    "        return 1\n",
    "    \n",
    "    return num * factorial(num-1)\n",
    "\n",
    "for i in range(1,num+1):\n",
    "    fact*=i\n",
    "\n",
    "\n",
    "print(factorial(5)) \n"
   ]
  },
  {
   "cell_type": "code",
   "execution_count": null,
   "id": "d4f21f47-a868-42fa-80ea-b926294d4b8d",
   "metadata": {},
   "outputs": [],
   "source": []
  }
 ],
 "metadata": {
  "kernelspec": {
   "display_name": "Python 3 (ipykernel)",
   "language": "python",
   "name": "python3"
  },
  "language_info": {
   "codemirror_mode": {
    "name": "ipython",
    "version": 3
   },
   "file_extension": ".py",
   "mimetype": "text/x-python",
   "name": "python",
   "nbconvert_exporter": "python",
   "pygments_lexer": "ipython3",
   "version": "3.9.13"
  }
 },
 "nbformat": 4,
 "nbformat_minor": 5
}
