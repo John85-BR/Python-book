{
 "cells": [
  {
   "cell_type": "code",
   "execution_count": 15,
   "id": "b1723099-df21-4631-a83a-d2933c8a4a5a",
   "metadata": {},
   "outputs": [
    {
     "name": "stdout",
     "output_type": "stream",
     "text": [
      "3.1597729697623063\n",
      "55\n"
     ]
    }
   ],
   "source": [
    "numerador = 4\n",
    "denominador = 3\n",
    "pi = 4\n",
    "i=1\n",
    "\n",
    "while True:\n",
    "    \n",
    "    if i%2==0:\n",
    "        pi+= (numerador/denominador)\n",
    "    else:\n",
    "        pi-= (numerador/denominador)\n",
    "    \n",
    "    denominador+=2\n",
    "    i+=1\n",
    "    \n",
    "    if pi>=3.15 and pi<=3.16 :\n",
    "        print(pi)\n",
    "        print(i)\n",
    "        break\n",
    "    \n"
   ]
  },
  {
   "cell_type": "code",
   "execution_count": null,
   "id": "dc05beb2-3155-47c0-a21d-5339b1c65505",
   "metadata": {},
   "outputs": [],
   "source": []
  }
 ],
 "metadata": {
  "kernelspec": {
   "display_name": "Python 3 (ipykernel)",
   "language": "python",
   "name": "python3"
  },
  "language_info": {
   "codemirror_mode": {
    "name": "ipython",
    "version": 3
   },
   "file_extension": ".py",
   "mimetype": "text/x-python",
   "name": "python",
   "nbconvert_exporter": "python",
   "pygments_lexer": "ipython3",
   "version": "3.9.13"
  }
 },
 "nbformat": 4,
 "nbformat_minor": 5
}
