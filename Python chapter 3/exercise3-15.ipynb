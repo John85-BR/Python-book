{
 "cells": [
  {
   "cell_type": "code",
   "execution_count": 1,
   "id": "d29999df-4f04-47f6-b3aa-4f1f41c60159",
   "metadata": {},
   "outputs": [
    {
     "name": "stdout",
     "output_type": "stream",
     "text": [
      "2.7182818011463845\n"
     ]
    }
   ],
   "source": [
    "e = 1\n",
    "\n",
    "def factorial(num):\n",
    "    if num==0:\n",
    "        return 1\n",
    "    \n",
    "    return num * factorial(num-1)\n",
    "\n",
    "for i in range(1,11):\n",
    "    \n",
    "    e+=(1/factorial(i))\n",
    "   \n",
    "\n",
    "print(e)"
   ]
  },
  {
   "cell_type": "code",
   "execution_count": null,
   "id": "26e6290f-6fb0-47b5-9da2-1b042a91287f",
   "metadata": {},
   "outputs": [],
   "source": []
  }
 ],
 "metadata": {
  "kernelspec": {
   "display_name": "Python 3 (ipykernel)",
   "language": "python",
   "name": "python3"
  },
  "language_info": {
   "codemirror_mode": {
    "name": "ipython",
    "version": 3
   },
   "file_extension": ".py",
   "mimetype": "text/x-python",
   "name": "python",
   "nbconvert_exporter": "python",
   "pygments_lexer": "ipython3",
   "version": "3.9.13"
  }
 },
 "nbformat": 4,
 "nbformat_minor": 5
}
