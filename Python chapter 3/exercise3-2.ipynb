{
 "cells": [
  {
   "cell_type": "code",
   "execution_count": 2,
   "id": "74a48e16-b221-4c34-a9c2-580a394e6aec",
   "metadata": {},
   "outputs": [
    {
     "name": "stdout",
     "output_type": "stream",
     "text": [
      "a= 7 \n",
      "b= 7\n"
     ]
    }
   ],
   "source": [
    "a=b=7\n",
    "print('a=',a,'\\nb=',b)"
   ]
  },
  {
   "cell_type": "code",
   "execution_count": null,
   "id": "fc03c029-f5ad-489a-b3f6-8dd9980ae443",
   "metadata": {},
   "outputs": [],
   "source": []
  }
 ],
 "metadata": {
  "kernelspec": {
   "display_name": "Python 3 (ipykernel)",
   "language": "python",
   "name": "python3"
  },
  "language_info": {
   "codemirror_mode": {
    "name": "ipython",
    "version": 3
   },
   "file_extension": ".py",
   "mimetype": "text/x-python",
   "name": "python",
   "nbconvert_exporter": "python",
   "pygments_lexer": "ipython3",
   "version": "3.9.13"
  }
 },
 "nbformat": 4,
 "nbformat_minor": 5
}
