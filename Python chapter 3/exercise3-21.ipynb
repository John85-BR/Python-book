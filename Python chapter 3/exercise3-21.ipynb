{
 "cells": [
  {
   "cell_type": "code",
   "execution_count": 190,
   "id": "6a4e4f1c-e044-4e47-9b2e-4a549be8a281",
   "metadata": {},
   "outputs": [
    {
     "name": "stdout",
     "output_type": "stream",
     "text": [
      "10 quarters\n",
      "0 dimes\n",
      "7 pennies\n"
     ]
    }
   ],
   "source": [
    "from decimal import Decimal\n",
    "\n",
    "num = Decimal(2.57)\n",
    "dimes = Decimal(0.0)\n",
    "pennies = Decimal(0.0)\n",
    "quarter = Decimal(0.0)\n",
    "\n",
    "quarter = num//Decimal(0.25)\n",
    "num=f\"{num-(quarter*Decimal(0.25)):.2f}\"\n",
    "\n",
    "if Decimal(num)>0.10:   \n",
    "    dimes = f'{Decimal(num)//Decimal(0.10):.0f}'\n",
    "    \n",
    "\n",
    "num=f\"{Decimal(num)-(Decimal(dimes)*Decimal(0.10)):.2f}\"\n",
    "\n",
    "pennies = f\"{Decimal(num)*100:.0f}\"\n",
    "    \n",
    "print(f'{quarter} quarters')\n",
    "print(f'{dimes} dimes')\n",
    "print(f'{pennies} pennies')\n",
    "        "
   ]
  },
  {
   "cell_type": "code",
   "execution_count": null,
   "id": "024ebf3e-e2c9-4c73-834a-8a1fdc67c3c5",
   "metadata": {},
   "outputs": [],
   "source": []
  },
  {
   "cell_type": "code",
   "execution_count": null,
   "id": "579b9028-9a62-47e7-bd7f-b320314780ca",
   "metadata": {},
   "outputs": [],
   "source": []
  },
  {
   "cell_type": "code",
   "execution_count": null,
   "id": "41126b8c-1ffe-4843-8bcb-880aba341f79",
   "metadata": {},
   "outputs": [],
   "source": []
  },
  {
   "cell_type": "code",
   "execution_count": null,
   "id": "4b792fec-c015-47c9-9320-6185a62e3930",
   "metadata": {},
   "outputs": [],
   "source": []
  }
 ],
 "metadata": {
  "kernelspec": {
   "display_name": "Python 3 (ipykernel)",
   "language": "python",
   "name": "python3"
  },
  "language_info": {
   "codemirror_mode": {
    "name": "ipython",
    "version": 3
   },
   "file_extension": ".py",
   "mimetype": "text/x-python",
   "name": "python",
   "nbconvert_exporter": "python",
   "pygments_lexer": "ipython3",
   "version": "3.9.13"
  }
 },
 "nbformat": 4,
 "nbformat_minor": 5
}
