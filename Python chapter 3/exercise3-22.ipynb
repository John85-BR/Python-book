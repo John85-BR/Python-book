{
 "cells": [
  {
   "cell_type": "code",
   "execution_count": 4,
   "id": "34b2f0cb-1801-4c63-ac27-a82107fda848",
   "metadata": {},
   "outputs": [
    {
     "name": "stdin",
     "output_type": "stream",
     "text": [
      "Enter an integer (-1 to break):  3\n"
     ]
    },
    {
     "name": "stdout",
     "output_type": "stream",
     "text": [
      "you entered:  3\n"
     ]
    },
    {
     "name": "stdin",
     "output_type": "stream",
     "text": [
      "Enter an integer (-1 to break):  3\n"
     ]
    },
    {
     "name": "stdout",
     "output_type": "stream",
     "text": [
      "you entered:  3\n",
      "The loop terminated without executing the break\n"
     ]
    }
   ],
   "source": [
    "for i in range(2):\n",
    "    value = int(input('Enter an integer (-1 to break): '))\n",
    "    print('you entered: ', value)\n",
    "    \n",
    "    if value ==-1:\n",
    "        break\n",
    "        \n",
    "else:\n",
    "    print('The loop terminated without executing the break')"
   ]
  },
  {
   "cell_type": "code",
   "execution_count": null,
   "id": "30d6617b-70a2-47ce-9963-cb87a8322040",
   "metadata": {},
   "outputs": [],
   "source": []
  }
 ],
 "metadata": {
  "kernelspec": {
   "display_name": "Python 3 (ipykernel)",
   "language": "python",
   "name": "python3"
  },
  "language_info": {
   "codemirror_mode": {
    "name": "ipython",
    "version": 3
   },
   "file_extension": ".py",
   "mimetype": "text/x-python",
   "name": "python",
   "nbconvert_exporter": "python",
   "pygments_lexer": "ipython3",
   "version": "3.9.13"
  }
 },
 "nbformat": 4,
 "nbformat_minor": 5
}
