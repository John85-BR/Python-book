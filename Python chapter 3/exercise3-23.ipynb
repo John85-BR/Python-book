{
 "cells": [
  {
   "cell_type": "code",
   "execution_count": 4,
   "id": "a2d998cf-dd65-4754-b89a-99b7fbfe6232",
   "metadata": {},
   "outputs": [
    {
     "name": "stdout",
     "output_type": "stream",
     "text": [
      "A\n",
      "Great Job\n",
      "Take a break from studying\n"
     ]
    }
   ],
   "source": [
    "grade = 93\n",
    "\n",
    "if grade>=90:\n",
    "    print('A')\n",
    "    print('Great Job')\n",
    "    print('Take a break from studying')"
   ]
  },
  {
   "cell_type": "code",
   "execution_count": null,
   "id": "e43ae4c1-a870-4ce4-9fdf-2aa061a53243",
   "metadata": {},
   "outputs": [],
   "source": []
  }
 ],
 "metadata": {
  "kernelspec": {
   "display_name": "Python 3 (ipykernel)",
   "language": "python",
   "name": "python3"
  },
  "language_info": {
   "codemirror_mode": {
    "name": "ipython",
    "version": 3
   },
   "file_extension": ".py",
   "mimetype": "text/x-python",
   "name": "python",
   "nbconvert_exporter": "python",
   "pygments_lexer": "ipython3",
   "version": "3.9.13"
  }
 },
 "nbformat": 4,
 "nbformat_minor": 5
}
