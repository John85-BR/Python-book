{
 "cells": [
  {
   "cell_type": "code",
   "execution_count": 10,
   "id": "bdf73fc5-f61f-4289-8a4a-22f1db493160",
   "metadata": {},
   "outputs": [
    {
     "name": "stdout",
     "output_type": "stream",
     "text": [
      "mean\tmedia\tmode\n",
      "23.44\t22.00\t22.00\n"
     ]
    }
   ],
   "source": [
    "import statistics\n",
    "from decimal import Decimal\n",
    "\n",
    "num = [9,11,22,34,17,22,34,22,40]\n",
    "mean = Decimal(f'{statistics.mean(num):.2f}')\n",
    "media = Decimal(f'{statistics.median(num):.2f}')\n",
    "mode = Decimal(f'{statistics.mode(num):.2f}')\n",
    "\n",
    "print('mean\\tmedia\\tmode')\n",
    "print(f'{mean:<4}\\t{media:<5}\\t{mode:<4}')"
   ]
  },
  {
   "cell_type": "code",
   "execution_count": null,
   "id": "057ca90a-9438-47fe-bffb-aa59f23bed09",
   "metadata": {},
   "outputs": [],
   "source": []
  }
 ],
 "metadata": {
  "kernelspec": {
   "display_name": "Python 3 (ipykernel)",
   "language": "python",
   "name": "python3"
  },
  "language_info": {
   "codemirror_mode": {
    "name": "ipython",
    "version": 3
   },
   "file_extension": ".py",
   "mimetype": "text/x-python",
   "name": "python",
   "nbconvert_exporter": "python",
   "pygments_lexer": "ipython3",
   "version": "3.9.13"
  }
 },
 "nbformat": 4,
 "nbformat_minor": 5
}
