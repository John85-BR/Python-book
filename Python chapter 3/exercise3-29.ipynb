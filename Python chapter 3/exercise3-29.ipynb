{
 "cells": [
  {
   "cell_type": "code",
   "execution_count": 7,
   "id": "19427f8a-f12c-4600-9e19-4fb5b77c7d42",
   "metadata": {},
   "outputs": [
    {
     "name": "stdout",
     "output_type": "stream",
     "text": [
      "[9, 11, 17, 22, 22, 34, 34, 34, 40, 43]\n",
      "mean\tmedian\tmode\n",
      "26.60\t28.00\t34.00\n"
     ]
    }
   ],
   "source": [
    "import statistics\n",
    "from decimal import Decimal\n",
    "\n",
    "num = [9,11,22,34,17,43,34,22,40,34]\n",
    "num = sorted(num)\n",
    "print(num)\n",
    "mean = Decimal(f'{statistics.mean(num):.2f}')\n",
    "median = Decimal(f'{statistics.median(num):.2f}')\n",
    "mode = Decimal(f'{statistics.mode(num):.2f}')\n",
    "\n",
    "print('mean\\tmedian\\tmode')\n",
    "print(f'{mean:<4}\\t{median:<5}\\t{mode:<4}')"
   ]
  },
  {
   "cell_type": "code",
   "execution_count": null,
   "id": "eff2c55a-a276-46d5-b4ae-92cfedbfe915",
   "metadata": {},
   "outputs": [],
   "source": []
  },
  {
   "cell_type": "code",
   "execution_count": null,
   "id": "7adb3e7e-58d7-46cb-bb16-afaf43a3cad3",
   "metadata": {},
   "outputs": [],
   "source": []
  }
 ],
 "metadata": {
  "kernelspec": {
   "display_name": "Python 3 (ipykernel)",
   "language": "python",
   "name": "python3"
  },
  "language_info": {
   "codemirror_mode": {
    "name": "ipython",
    "version": 3
   },
   "file_extension": ".py",
   "mimetype": "text/x-python",
   "name": "python",
   "nbconvert_exporter": "python",
   "pygments_lexer": "ipython3",
   "version": "3.9.13"
  }
 },
 "nbformat": 4,
 "nbformat_minor": 5
}
