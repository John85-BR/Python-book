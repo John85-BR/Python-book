{
 "cells": [
  {
   "cell_type": "code",
   "execution_count": 1,
   "id": "1054d360-2112-495c-a02c-7b63a09ccfba",
   "metadata": {},
   "outputs": [
    {
     "name": "stdout",
     "output_type": "stream",
     "text": [
      "> > > > > > > > > > \n",
      "< < < < < < < < < < \n",
      "> > > > > > > > > > \n",
      "< < < < < < < < < < \n",
      "> > > > > > > > > > \n",
      "< < < < < < < < < < \n",
      "> > > > > > > > > > \n",
      "< < < < < < < < < < \n",
      "> > > > > > > > > > \n",
      "< < < < < < < < < < \n"
     ]
    }
   ],
   "source": [
    "for row in range(10):\n",
    "    for column in range(10):\n",
    "        print('<'if row%2==1 else'>',end=' ')\n",
    "    print()"
   ]
  },
  {
   "cell_type": "code",
   "execution_count": null,
   "id": "b8f9861d-cf52-4836-8c22-66f755998092",
   "metadata": {},
   "outputs": [],
   "source": []
  }
 ],
 "metadata": {
  "kernelspec": {
   "display_name": "Python 3 (ipykernel)",
   "language": "python",
   "name": "python3"
  },
  "language_info": {
   "codemirror_mode": {
    "name": "ipython",
    "version": 3
   },
   "file_extension": ".py",
   "mimetype": "text/x-python",
   "name": "python",
   "nbconvert_exporter": "python",
   "pygments_lexer": "ipython3",
   "version": "3.9.13"
  }
 },
 "nbformat": 4,
 "nbformat_minor": 5
}
