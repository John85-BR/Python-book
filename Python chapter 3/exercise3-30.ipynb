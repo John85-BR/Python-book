{
 "cells": [
  {
   "cell_type": "code",
   "execution_count": 1,
   "id": "09787c2e-01a2-47bc-83ed-76467c3300fc",
   "metadata": {},
   "outputs": [
    {
     "name": "stdout",
     "output_type": "stream",
     "text": [
      "[9, 11, 17, 22, 22, 34, 34, 34, 40, 43, 800]\n",
      "mean\tmedian\tmode\n",
      "96.91\t34.00\t34.00\n"
     ]
    }
   ],
   "source": [
    "import statistics\n",
    "from decimal import Decimal\n",
    "\n",
    "num = [9,11,22,34,17,43,34,22,40,34,800]\n",
    "num = sorted(num)\n",
    "print(num)\n",
    "mean = Decimal(f'{statistics.mean(num):.2f}')\n",
    "median = Decimal(f'{statistics.median(num):.2f}')\n",
    "mode = Decimal(f'{statistics.mode(num):.2f}')\n",
    "\n",
    "print('mean\\tmedian\\tmode')\n",
    "print(f'{mean:<4}\\t{median:<5}\\t{mode:<4}')"
   ]
  },
  {
   "cell_type": "code",
   "execution_count": null,
   "id": "8d33519f-6464-4f8c-9f67-c5ba76bb50e3",
   "metadata": {},
   "outputs": [],
   "source": []
  }
 ],
 "metadata": {
  "kernelspec": {
   "display_name": "Python 3 (ipykernel)",
   "language": "python",
   "name": "python3"
  },
  "language_info": {
   "codemirror_mode": {
    "name": "ipython",
    "version": 3
   },
   "file_extension": ".py",
   "mimetype": "text/x-python",
   "name": "python",
   "nbconvert_exporter": "python",
   "pygments_lexer": "ipython3",
   "version": "3.9.13"
  }
 },
 "nbformat": 4,
 "nbformat_minor": 5
}
