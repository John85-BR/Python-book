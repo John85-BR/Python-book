{
 "cells": [
  {
   "cell_type": "code",
   "execution_count": 15,
   "id": "eb896f61-1a06-44f3-b2ab-07888047d633",
   "metadata": {},
   "outputs": [
    {
     "name": "stdout",
     "output_type": "stream",
     "text": [
      "count          6\n",
      "unique         6\n",
      "top       Beagle\n",
      "freq           1\n",
      "dtype: object\n"
     ]
    }
   ],
   "source": [
    "import pandas as pd\n",
    "\n",
    "num = pd.Series(['Boxer','Poodle','Collie','Beagle','Bulldog','Chihuahua'],dtype=\"category\")\n",
    "\n",
    "print(num.describe())"
   ]
  },
  {
   "cell_type": "code",
   "execution_count": null,
   "id": "ebf4f672-17fe-4d5c-8948-84759bf935b8",
   "metadata": {},
   "outputs": [],
   "source": []
  }
 ],
 "metadata": {
  "kernelspec": {
   "display_name": "Python 3 (ipykernel)",
   "language": "python",
   "name": "python3"
  },
  "language_info": {
   "codemirror_mode": {
    "name": "ipython",
    "version": 3
   },
   "file_extension": ".py",
   "mimetype": "text/x-python",
   "name": "python",
   "nbconvert_exporter": "python",
   "pygments_lexer": "ipython3",
   "version": "3.9.13"
  }
 },
 "nbformat": 4,
 "nbformat_minor": 5
}
