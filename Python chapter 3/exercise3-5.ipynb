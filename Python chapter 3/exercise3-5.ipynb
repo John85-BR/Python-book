{
 "cells": [
  {
   "cell_type": "code",
   "execution_count": 1,
   "id": "8d4282e2-776d-4871-ab3d-2b7652adf501",
   "metadata": {},
   "outputs": [
    {
     "name": "stdout",
     "output_type": "stream",
     "text": [
      "Enter two integers and I will tell you the relationships they satisfy.\n"
     ]
    },
    {
     "name": "stdin",
     "output_type": "stream",
     "text": [
      "Enter first integer:  5\n",
      "Enter second integer:  6\n"
     ]
    },
    {
     "name": "stdout",
     "output_type": "stream",
     "text": [
      "5 is not equal to 6\n",
      "5 is less than 6\n",
      "5 is less than or equal to 6\n"
     ]
    }
   ],
   "source": [
    "print('Enter two integers and I will tell you', \n",
    "      'the relationships they satisfy.')\n",
    "\n",
    "# read first integer\n",
    "number1 = int(input('Enter first integer: '))\n",
    "\n",
    "# read second integer\n",
    "number2 = int(input('Enter second integer: '))\n",
    "\n",
    "if number1 == number2:\n",
    "    print(number1, 'is equal to', number2)\n",
    "else:\n",
    "    print(number1, 'is not equal to', number2)\n",
    "\n",
    "if number1 < number2:\n",
    "    print(number1, 'is less than', number2)\n",
    "else:\n",
    "    print(number1, 'is greater than', number2)\n",
    "\n",
    "if number1 <= number2:\n",
    "    print(number1, 'is less than or equal to', number2)\n",
    "else:\n",
    "    print(number1, 'is greater than or equal to', number2)"
   ]
  },
  {
   "cell_type": "code",
   "execution_count": null,
   "id": "b7a7696c-e259-4b9f-aee0-fe39496c0da1",
   "metadata": {},
   "outputs": [],
   "source": []
  }
 ],
 "metadata": {
  "kernelspec": {
   "display_name": "Python 3 (ipykernel)",
   "language": "python",
   "name": "python3"
  },
  "language_info": {
   "codemirror_mode": {
    "name": "ipython",
    "version": 3
   },
   "file_extension": ".py",
   "mimetype": "text/x-python",
   "name": "python",
   "nbconvert_exporter": "python",
   "pygments_lexer": "ipython3",
   "version": "3.9.13"
  }
 },
 "nbformat": 4,
 "nbformat_minor": 5
}
