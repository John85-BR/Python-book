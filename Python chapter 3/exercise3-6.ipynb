{
 "cells": [
  {
   "cell_type": "code",
   "execution_count": 11,
   "id": "34356464-2019-4175-b786-fc83b9d00e7f",
   "metadata": {},
   "outputs": [
    {
     "name": "stdin",
     "output_type": "stream",
     "text": [
      "What s your problem? \n"
     ]
    },
    {
     "name": "stdout",
     "output_type": "stream",
     "text": [
      "Write something\n"
     ]
    },
    {
     "name": "stdin",
     "output_type": "stream",
     "text": [
      "What s your problem?  \n"
     ]
    },
    {
     "name": "stdout",
     "output_type": "stream",
     "text": [
      "Write something\n"
     ]
    },
    {
     "name": "stdin",
     "output_type": "stream",
     "text": [
      "What s your problem? e\n",
      "Have you have this problem before?(yes or no) ye\n"
     ]
    },
    {
     "name": "stdout",
     "output_type": "stream",
     "text": [
      "YE\n"
     ]
    },
    {
     "name": "stdin",
     "output_type": "stream",
     "text": [
      "Enter with yes or no yes\n"
     ]
    },
    {
     "name": "stdout",
     "output_type": "stream",
     "text": [
      "Well, you have it again\n"
     ]
    }
   ],
   "source": [
    "\n",
    "while(True):\n",
    "    first_enter = input('What s your problem?')\n",
    "    if len(first_enter)>0 and first_enter!=' ':\n",
    "        break\n",
    "    else:\n",
    "        print('Write something')\n",
    " \n",
    "\n",
    "enter = input('Have you have this problem before?(yes or no)')\n",
    "print(enter.upper())\n",
    "while(True):\n",
    "    \n",
    "    if enter.upper()=='YES':\n",
    "        print('Well, you have it again')\n",
    "        break\n",
    "    elif enter.upper()=='NO':\n",
    "        print('Well, you have it now')\n",
    "        break\n",
    "    else:\n",
    "        enter = input('Enter with yes or no')\n",
    "\n"
   ]
  },
  {
   "cell_type": "code",
   "execution_count": null,
   "id": "e93eb9f6-056f-48d6-a442-2e76348c1bb5",
   "metadata": {},
   "outputs": [],
   "source": [
    "\n",
    "\n",
    "\n"
   ]
  },
  {
   "cell_type": "code",
   "execution_count": null,
   "id": "f08d314b-2e4e-424d-92b6-be2b5166c7c3",
   "metadata": {},
   "outputs": [],
   "source": []
  },
  {
   "cell_type": "code",
   "execution_count": null,
   "id": "16efe4b6-91b4-40db-a42f-4cd9dca223bb",
   "metadata": {},
   "outputs": [],
   "source": []
  }
 ],
 "metadata": {
  "kernelspec": {
   "display_name": "Python 3 (ipykernel)",
   "language": "python",
   "name": "python3"
  },
  "language_info": {
   "codemirror_mode": {
    "name": "ipython",
    "version": 3
   },
   "file_extension": ".py",
   "mimetype": "text/x-python",
   "name": "python",
   "nbconvert_exporter": "python",
   "pygments_lexer": "ipython3",
   "version": "3.9.13"
  }
 },
 "nbformat": 4,
 "nbformat_minor": 5
}
