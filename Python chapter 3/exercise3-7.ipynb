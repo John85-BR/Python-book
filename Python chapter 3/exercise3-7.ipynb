{
 "cells": [
  {
   "cell_type": "code",
   "execution_count": 7,
   "id": "52c191fc-3a4b-4aa8-985a-45d2a8c66cae",
   "metadata": {},
   "outputs": [
    {
     "name": "stdout",
     "output_type": "stream",
     "text": [
      "number\tsquare\tcube\n",
      "     0\t     0\t   0\n",
      "     1\t     1\t   1\n",
      "     2\t     4\t   8\n",
      "     3\t     9\t  27\n",
      "     4\t    16\t  64\n",
      "     5\t    25\t 125\n",
      "     6\t    36\t 216\n",
      "     7\t    49\t 343\n",
      "     8\t    64\t 512\n",
      "     9\t    81\t 729\n"
     ]
    }
   ],
   "source": [
    "print('number\\tsquare\\tcube')\n",
    "for number in range(10):\n",
    "    print(f'{number:>6}\\t{number**2:>6}\\t{number**3:>4}')"
   ]
  },
  {
   "cell_type": "code",
   "execution_count": null,
   "id": "90cafd86-5306-4e40-b501-4c12aafb52ca",
   "metadata": {},
   "outputs": [],
   "source": []
  }
 ],
 "metadata": {
  "kernelspec": {
   "display_name": "Python 3 (ipykernel)",
   "language": "python",
   "name": "python3"
  },
  "language_info": {
   "codemirror_mode": {
    "name": "ipython",
    "version": 3
   },
   "file_extension": ".py",
   "mimetype": "text/x-python",
   "name": "python",
   "nbconvert_exporter": "python",
   "pygments_lexer": "ipython3",
   "version": "3.9.13"
  }
 },
 "nbformat": 4,
 "nbformat_minor": 5
}
