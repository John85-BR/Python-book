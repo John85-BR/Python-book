{
 "cells": [
  {
   "cell_type": "code",
   "execution_count": 2,
   "id": "e29e2cc8-e5d3-42b3-bd86-5e751bcef570",
   "metadata": {},
   "outputs": [
    {
     "name": "stdout",
     "output_type": "stream",
     "text": [
      "Num 1:2, Num2:3, Num3:4\n",
      "Sum 9\n",
      "Product 24\n",
      "Min 2\n",
      "Max 4\n",
      "Num 1:7, Num2:8, Num3:4\n",
      "Sum 19\n",
      "Product 224\n",
      "Min 4\n",
      "Max 8\n",
      "Num 1:8, Num2:8, Num3:1\n",
      "Sum 17\n",
      "Product 64\n",
      "Min 1\n",
      "Max 8\n",
      "Num 1:2, Num2:7, Num3:6\n",
      "Sum 15\n",
      "Product 84\n",
      "Min 2\n",
      "Max 7\n"
     ]
    }
   ],
   "source": [
    "import random\n",
    "\n",
    "a = 2\n",
    "b = 3\n",
    "c = 4\n",
    "\n",
    "for num in range(4):\n",
    "    \n",
    "    print(f'Num 1:{a}, Num2:{b}, Num3:{c}')\n",
    "    \n",
    "    print('Sum',(a+b+c))\n",
    "    print('Product',(a*b*c))\n",
    "    print('Min',min(a,b,c))\n",
    "    print('Max',max(a,b,c))\n",
    "    a = random.randrange(1,9)\n",
    "    b = random.randrange(1,9)\n",
    "    c = random.randrange(1,9)\n",
    "    "
   ]
  },
  {
   "cell_type": "code",
   "execution_count": null,
   "id": "6ba565a6-da7d-405d-8981-33e72b003f0a",
   "metadata": {},
   "outputs": [],
   "source": []
  }
 ],
 "metadata": {
  "kernelspec": {
   "display_name": "Python 3 (ipykernel)",
   "language": "python",
   "name": "python3"
  },
  "language_info": {
   "codemirror_mode": {
    "name": "ipython",
    "version": 3
   },
   "file_extension": ".py",
   "mimetype": "text/x-python",
   "name": "python",
   "nbconvert_exporter": "python",
   "pygments_lexer": "ipython3",
   "version": "3.9.13"
  }
 },
 "nbformat": 4,
 "nbformat_minor": 5
}
