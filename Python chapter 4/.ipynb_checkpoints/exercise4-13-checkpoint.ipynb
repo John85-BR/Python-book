{
 "cells": [
  {
   "cell_type": "code",
   "execution_count": 4,
   "id": "76b5bc79-d53f-4d1f-89db-d02675effb90",
   "metadata": {},
   "outputs": [
    {
     "name": "stdout",
     "output_type": "stream",
     "text": [
      "20000\n",
      "14000000\n"
     ]
    }
   ],
   "source": [
    "def product(*args):\n",
    "    num = 1\n",
    "    for i in args:\n",
    "        num*=i\n",
    "        \n",
    "    return num\n",
    "\n",
    "\n",
    "print(product(10,10,200))\n",
    "\n",
    "print(product(10,10,200,700))"
   ]
  },
  {
   "cell_type": "code",
   "execution_count": null,
   "id": "4b16c04e-5665-4fcb-ac91-53bd3a7a5b4e",
   "metadata": {},
   "outputs": [],
   "source": []
  }
 ],
 "metadata": {
  "kernelspec": {
   "display_name": "Python 3 (ipykernel)",
   "language": "python",
   "name": "python3"
  },
  "language_info": {
   "codemirror_mode": {
    "name": "ipython",
    "version": 3
   },
   "file_extension": ".py",
   "mimetype": "text/x-python",
   "name": "python",
   "nbconvert_exporter": "python",
   "pygments_lexer": "ipython3",
   "version": "3.9.13"
  }
 },
 "nbformat": 4,
 "nbformat_minor": 5
}
