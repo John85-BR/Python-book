{
 "cells": [
  {
   "cell_type": "code",
   "execution_count": 20,
   "id": "6fb7844e-126c-4f2e-85e1-493ff8f85c6c",
   "metadata": {},
   "outputs": [
    {
     "name": "stdin",
     "output_type": "stream",
     "text": [
      "Enter with a difficulty level (1 or 2) 1\n",
      "Enter with a type of arithmetic problem (1 = adition, 2 = subtration, 3 = multiplication, 4 = division, 5=mix) 5\n",
      "How much is 3 times 7? 21\n"
     ]
    },
    {
     "name": "stdout",
     "output_type": "stream",
     "text": [
      "Keep up the good work\n"
     ]
    }
   ],
   "source": [
    "import random as rd\n",
    "\n",
    "def multiplication(difficulty = 1):\n",
    "    \n",
    "    if difficulty==1:\n",
    "        return(rd.randrange(1,10),rd.randrange(1,10))\n",
    "    if difficulty==2:\n",
    "        return(rd.randrange(10,99),rd.randrange(10,99))\n",
    "    \n",
    "dif = int(input(('Enter with a difficulty level (1 or 2)')))\n",
    "a, b = multiplication(dif)\n",
    "\n",
    "aleat = rd.randrange(1,4)\n",
    "result = 0\n",
    "\n",
    "type_problem = int(input(('Enter with a type of arithmetic problem (1 = adition, 2 = subtration, 3 = multiplication, 4 = division, 5=mix)')))\n",
    "\n",
    "mix = rd.randrange(1,5)\n",
    "word = ''\n",
    "while True:\n",
    "\n",
    "    if type_problem==1:\n",
    "        result = a+b\n",
    "        word='plus'\n",
    "        break\n",
    "    elif type_problem==2:\n",
    "        result = a-b\n",
    "        word='less'\n",
    "        break\n",
    "    elif type_problem==3:\n",
    "        result = a*b\n",
    "        word='times'\n",
    "        break\n",
    "    elif type_problem==4:\n",
    "        result = a/b\n",
    "        word='division'\n",
    "        break\n",
    "    elif type_problem==5:\n",
    "        type_problem = mix\n",
    "        \n",
    "pos_response = ['Very good','Nice work','Keep up the good work']\n",
    "neg_response = ['No. Please try again','Wrong. Try once more','No. Keep trying']\n",
    "\n",
    "while True:\n",
    "    \n",
    "    aleat = rd.randrange(3)\n",
    "    \n",
    "    response = int(input(f'How much is {a} {word} {b}?'))\n",
    "    \n",
    "    if response == result:\n",
    "        print(pos_response[aleat])\n",
    "        break\n",
    "    else:\n",
    "        print(neg_response[aleat])"
   ]
  },
  {
   "cell_type": "code",
   "execution_count": null,
   "id": "0faf4e5b-d1ab-4073-acdb-51426fda6b96",
   "metadata": {},
   "outputs": [],
   "source": []
  }
 ],
 "metadata": {
  "kernelspec": {
   "display_name": "Python 3 (ipykernel)",
   "language": "python",
   "name": "python3"
  },
  "language_info": {
   "codemirror_mode": {
    "name": "ipython",
    "version": 3
   },
   "file_extension": ".py",
   "mimetype": "text/x-python",
   "name": "python",
   "nbconvert_exporter": "python",
   "pygments_lexer": "ipython3",
   "version": "3.9.13"
  }
 },
 "nbformat": 4,
 "nbformat_minor": 5
}
