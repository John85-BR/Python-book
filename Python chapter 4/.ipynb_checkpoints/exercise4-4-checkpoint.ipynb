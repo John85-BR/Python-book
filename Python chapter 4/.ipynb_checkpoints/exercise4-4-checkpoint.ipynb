{
 "cells": [
  {
   "cell_type": "code",
   "execution_count": 1,
   "id": "d4d14e00-841a-4e39-b9d4-070924b6f338",
   "metadata": {},
   "outputs": [
    {
     "name": "stdout",
     "output_type": "stream",
     "text": [
      "55\n"
     ]
    }
   ],
   "source": [
    "def mystery(x):\n",
    "    y = 0\n",
    "    \n",
    "    for value in x:\n",
    "        y+=value ** 2\n",
    "    \n",
    "    return y\n",
    "\n",
    "data = [1,2,3,4,5]\n",
    "\n",
    "print(mystery(data))"
   ]
  },
  {
   "cell_type": "code",
   "execution_count": null,
   "id": "d07930aa-9915-48e7-9718-fb0ed2e4a990",
   "metadata": {},
   "outputs": [],
   "source": []
  }
 ],
 "metadata": {
  "kernelspec": {
   "display_name": "Python 3 (ipykernel)",
   "language": "python",
   "name": "python3"
  },
  "language_info": {
   "codemirror_mode": {
    "name": "ipython",
    "version": 3
   },
   "file_extension": ".py",
   "mimetype": "text/x-python",
   "name": "python",
   "nbconvert_exporter": "python",
   "pygments_lexer": "ipython3",
   "version": "3.9.13"
  }
 },
 "nbformat": 4,
 "nbformat_minor": 5
}
