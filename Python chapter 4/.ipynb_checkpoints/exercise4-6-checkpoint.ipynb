{
 "cells": [
  {
   "cell_type": "code",
   "execution_count": 7,
   "id": "9cb736fe-192c-4db1-8505-1a0d15eb0cb0",
   "metadata": {},
   "outputs": [
    {
     "name": "stdout",
     "output_type": "stream",
     "text": [
      "15.0\n"
     ]
    }
   ],
   "source": [
    "def average(*args):\n",
    "    \n",
    "    if len(args)==0:\n",
    "        raise TypeError\n",
    "        \n",
    "    return sum(args) / len(args)\n",
    "    \n",
    "try:\n",
    "    print(average(10,20))\n",
    "except TypeError:\n",
    "     print(\"insira um argumento\")"
   ]
  },
  {
   "cell_type": "code",
   "execution_count": null,
   "id": "ba22b8f8-8d1c-4e52-9d03-633d49751692",
   "metadata": {},
   "outputs": [],
   "source": []
  }
 ],
 "metadata": {
  "kernelspec": {
   "display_name": "Python 3 (ipykernel)",
   "language": "python",
   "name": "python3"
  },
  "language_info": {
   "codemirror_mode": {
    "name": "ipython",
    "version": 3
   },
   "file_extension": ".py",
   "mimetype": "text/x-python",
   "name": "python",
   "nbconvert_exporter": "python",
   "pygments_lexer": "ipython3",
   "version": "3.9.13"
  }
 },
 "nbformat": 4,
 "nbformat_minor": 5
}
