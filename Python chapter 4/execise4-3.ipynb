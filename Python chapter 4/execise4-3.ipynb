{
 "cells": [
  {
   "cell_type": "code",
   "execution_count": null,
   "id": "08efdf09-fab6-4638-9248-d2b25e9d2b9c",
   "metadata": {},
   "outputs": [],
   "source": [
    "def cube(x):\n",
    "    \"\"\"Calculate the cube of x\"\"\"\n",
    "    x ** 3 #error\n",
    "    print('Thecube of 2 is',cube(4))#error\n",
    "    \n",
    "cube(4)"
   ]
  },
  {
   "cell_type": "code",
   "execution_count": null,
   "id": "fd5a3e53-3e11-4b10-b275-1412cd7ed941",
   "metadata": {},
   "outputs": [],
   "source": []
  }
 ],
 "metadata": {
  "kernelspec": {
   "display_name": "Python 3 (ipykernel)",
   "language": "python",
   "name": "python3"
  },
  "language_info": {
   "codemirror_mode": {
    "name": "ipython",
    "version": 3
   },
   "file_extension": ".py",
   "mimetype": "text/x-python",
   "name": "python",
   "nbconvert_exporter": "python",
   "pygments_lexer": "ipython3",
   "version": "3.9.13"
  }
 },
 "nbformat": 4,
 "nbformat_minor": 5
}
