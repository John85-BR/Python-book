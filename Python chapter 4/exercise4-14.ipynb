{
 "cells": [
  {
   "cell_type": "code",
   "execution_count": 9,
   "id": "0d136737-89ad-4d5f-9f1b-ee075d2c31bd",
   "metadata": {},
   "outputs": [
    {
     "name": "stdin",
     "output_type": "stream",
     "text": [
      "How much is 9 times 6? 54\n"
     ]
    },
    {
     "name": "stdout",
     "output_type": "stream",
     "text": [
      "Very good\n"
     ]
    }
   ],
   "source": [
    "import random as rd\n",
    "\n",
    "def multiplication():\n",
    "    \n",
    "    return(rd.randrange(1,10),rd.randrange(1,10))\n",
    "\n",
    "a, b = multiplication()\n",
    "result = a*b\n",
    "\n",
    "\n",
    "while True:\n",
    "    \n",
    "    response = int(input(f'How much is {a} times {b}?'))\n",
    "    \n",
    "    if response == result:\n",
    "        print('Very good')\n",
    "        break\n",
    "    else:\n",
    "        print('No. Please try again')\n",
    "\n",
    "\n"
   ]
  },
  {
   "cell_type": "code",
   "execution_count": null,
   "id": "e34dc3ca-d118-49d5-9536-6e281a75c48f",
   "metadata": {},
   "outputs": [],
   "source": []
  },
  {
   "cell_type": "code",
   "execution_count": null,
   "id": "e78241ed-ad05-4d8b-a72f-c9cd06e27259",
   "metadata": {},
   "outputs": [],
   "source": []
  }
 ],
 "metadata": {
  "kernelspec": {
   "display_name": "Python 3 (ipykernel)",
   "language": "python",
   "name": "python3"
  },
  "language_info": {
   "codemirror_mode": {
    "name": "ipython",
    "version": 3
   },
   "file_extension": ".py",
   "mimetype": "text/x-python",
   "name": "python",
   "nbconvert_exporter": "python",
   "pygments_lexer": "ipython3",
   "version": "3.9.13"
  }
 },
 "nbformat": 4,
 "nbformat_minor": 5
}
