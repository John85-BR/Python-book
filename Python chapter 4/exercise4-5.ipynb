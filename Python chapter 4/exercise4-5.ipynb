{
 "cells": [
  {
   "cell_type": "code",
   "execution_count": 20,
   "id": "bf66e3e7-19a5-46ac-ab25-abebbbea927f",
   "metadata": {},
   "outputs": [
    {
     "name": "stdout",
     "output_type": "stream",
     "text": [
      "48645\n"
     ]
    }
   ],
   "source": [
    "def seconds_since_midnight(hour, minute, second):\n",
    "   \n",
    "    hour_in_seconds = hour * 60 * 60\n",
    "    minute_in_seconds = minute * 60\n",
    "    return (hour_in_seconds+minute_in_seconds+second)\n",
    "\n",
    "print(seconds_since_midnight(13,30,45))"
   ]
  },
  {
   "cell_type": "code",
   "execution_count": null,
   "id": "be3fcdae-9535-4ea3-aeb5-316f4279c28a",
   "metadata": {},
   "outputs": [],
   "source": []
  }
 ],
 "metadata": {
  "kernelspec": {
   "display_name": "Python 3 (ipykernel)",
   "language": "python",
   "name": "python3"
  },
  "language_info": {
   "codemirror_mode": {
    "name": "ipython",
    "version": 3
   },
   "file_extension": ".py",
   "mimetype": "text/x-python",
   "name": "python",
   "nbconvert_exporter": "python",
   "pygments_lexer": "ipython3",
   "version": "3.9.13"
  }
 },
 "nbformat": 4,
 "nbformat_minor": 5
}
