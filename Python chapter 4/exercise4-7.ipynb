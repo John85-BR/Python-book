{
 "cells": [
  {
   "cell_type": "code",
   "execution_count": 6,
   "id": "a5bb9234-5c8a-43d9-af46-ffe20523361f",
   "metadata": {},
   "outputs": [
    {
     "name": "stdout",
     "output_type": "stream",
     "text": [
      "2023-01-04 13:56:43.993651\n"
     ]
    }
   ],
   "source": [
    "import datetime as dt\n",
    "\n",
    "def date_and_time():\n",
    "    \n",
    "    print(dt.datetime.today())\n",
    "\n",
    "\n",
    "date_and_time()"
   ]
  },
  {
   "cell_type": "code",
   "execution_count": null,
   "id": "f349e3a9-6da6-4d51-845e-04ff6753763e",
   "metadata": {},
   "outputs": [],
   "source": []
  }
 ],
 "metadata": {
  "kernelspec": {
   "display_name": "Python 3 (ipykernel)",
   "language": "python",
   "name": "python3"
  },
  "language_info": {
   "codemirror_mode": {
    "name": "ipython",
    "version": 3
   },
   "file_extension": ".py",
   "mimetype": "text/x-python",
   "name": "python",
   "nbconvert_exporter": "python",
   "pygments_lexer": "ipython3",
   "version": "3.9.13"
  }
 },
 "nbformat": 4,
 "nbformat_minor": 5
}
