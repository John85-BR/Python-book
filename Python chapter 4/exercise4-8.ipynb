{
 "cells": [
  {
   "cell_type": "code",
   "execution_count": 8,
   "id": "6ee33662-e762-4575-a2bd-1615f97d675e",
   "metadata": {},
   "outputs": [
    {
     "name": "stdout",
     "output_type": "stream",
     "text": [
      "14\n",
      "13.56\n",
      "13.564\n",
      "13.5645\n"
     ]
    }
   ],
   "source": [
    "print(round(13.56449))#int\n",
    "print(round(13.56449,2))#tenths\n",
    "print(round(13.56449,3))#hundredths\n",
    "print(round(13.56449,4))#thousandsths\n"
   ]
  },
  {
   "cell_type": "code",
   "execution_count": null,
   "id": "36a9468a-80ee-4749-b370-d7bfe24642bf",
   "metadata": {},
   "outputs": [],
   "source": []
  }
 ],
 "metadata": {
  "kernelspec": {
   "display_name": "Python 3 (ipykernel)",
   "language": "python",
   "name": "python3"
  },
  "language_info": {
   "codemirror_mode": {
    "name": "ipython",
    "version": 3
   },
   "file_extension": ".py",
   "mimetype": "text/x-python",
   "name": "python",
   "nbconvert_exporter": "python",
   "pygments_lexer": "ipython3",
   "version": "3.9.13"
  }
 },
 "nbformat": 4,
 "nbformat_minor": 5
}
