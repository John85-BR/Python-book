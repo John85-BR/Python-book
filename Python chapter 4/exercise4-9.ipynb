{
 "cells": [
  {
   "cell_type": "code",
   "execution_count": 2,
   "id": "cdf4517e-1dc2-47cf-a06a-576bc83e6207",
   "metadata": {},
   "outputs": [
    {
     "name": "stdout",
     "output_type": "stream",
     "text": [
      "86.0\n"
     ]
    }
   ],
   "source": [
    "def fahrenheit(celsius):\n",
    "    return ((9/5)*celsius+32)\n",
    "\n",
    "print(fahrenheit(30))"
   ]
  },
  {
   "cell_type": "code",
   "execution_count": null,
   "id": "6de05bff-4ba7-4dbb-a40e-e967bd773510",
   "metadata": {},
   "outputs": [],
   "source": []
  }
 ],
 "metadata": {
  "kernelspec": {
   "display_name": "Python 3 (ipykernel)",
   "language": "python",
   "name": "python3"
  },
  "language_info": {
   "codemirror_mode": {
    "name": "ipython",
    "version": 3
   },
   "file_extension": ".py",
   "mimetype": "text/x-python",
   "name": "python",
   "nbconvert_exporter": "python",
   "pygments_lexer": "ipython3",
   "version": "3.9.13"
  }
 },
 "nbformat": 4,
 "nbformat_minor": 5
}
