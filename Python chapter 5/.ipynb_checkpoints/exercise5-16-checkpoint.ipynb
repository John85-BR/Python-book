{
 "cells": [
  {
   "cell_type": "code",
   "execution_count": 25,
   "id": "5861f824-c0d8-4080-a67c-a427faada970",
   "metadata": {},
   "outputs": [
    {
     "name": "stdout",
     "output_type": "stream",
     "text": [
      "['f', 'e', 'c', 'a', 'd', 'c', 'd', 'a', 'e', 'f', 'f', 'd', 'c', 'a', 'e', 'a', 'e', 'b', 'f', 'a', 'd']\n",
      "['a', 'a', 'a', 'a', 'a', 'b', 'c', 'c', 'c', 'd', 'd', 'd', 'd', 'e', 'e', 'e', 'e', 'f', 'f', 'f', 'f']\n",
      "['f', 'f', 'f', 'f', 'e', 'e', 'e', 'e', 'd', 'd', 'd', 'd', 'c', 'c', 'c', 'b', 'a', 'a', 'a', 'a', 'a']\n",
      "['a' 'b' 'c' 'd' 'e' 'f']\n"
     ]
    }
   ],
   "source": [
    "import random as rd\n",
    "import numpy as np\n",
    "\n",
    "rand_letters = [\"a\",\"b\",\"c\",\"d\",\"e\",\"f\"]\n",
    "max_index = 21\n",
    "\n",
    "rand = [rd.randrange(len(rand_letters)) for i in range(max_index)]\n",
    "\n",
    "rand_text = []\n",
    "\n",
    "for i in range(max_index):\n",
    "    rand_text.append(rand_letters[rand[i]])\n",
    "    \n",
    "print(rand_text)\n",
    "\n",
    "\n",
    "ascending_order = sorted(rand_text)\n",
    "\n",
    "print(ascending_order)\n",
    "\n",
    "\n",
    "rand_text.sort(reverse = True)\n",
    "\n",
    "print(rand_text)\n",
    "\n",
    "\n",
    "uniq = np.unique(rand_text)\n",
    "\n",
    "print(uniq)"
   ]
  },
  {
   "cell_type": "code",
   "execution_count": null,
   "id": "7a9275b0-9a96-4f1b-9dc5-13a74196a6ba",
   "metadata": {},
   "outputs": [],
   "source": []
  }
 ],
 "metadata": {
  "kernelspec": {
   "display_name": "Python 3 (ipykernel)",
   "language": "python",
   "name": "python3"
  },
  "language_info": {
   "codemirror_mode": {
    "name": "ipython",
    "version": 3
   },
   "file_extension": ".py",
   "mimetype": "text/x-python",
   "name": "python",
   "nbconvert_exporter": "python",
   "pygments_lexer": "ipython3",
   "version": "3.9.13"
  }
 },
 "nbformat": 4,
 "nbformat_minor": 5
}
