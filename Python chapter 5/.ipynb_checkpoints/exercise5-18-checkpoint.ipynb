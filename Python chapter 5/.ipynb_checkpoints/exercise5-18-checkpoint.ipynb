{
 "cells": [
  {
   "cell_type": "code",
   "execution_count": 14,
   "id": "1ad04a86-6488-4f73-b9ba-a74a94154aef",
   "metadata": {},
   "outputs": [
    {
     "name": "stdout",
     "output_type": "stream",
     "text": [
      "[9, 15, 21, 27]\n",
      "[9, 15, 21, 27]\n"
     ]
    }
   ],
   "source": [
    "numbers = [1,2,3,4,5,6,7,8,9,10]\n",
    "\n",
    "triplo_list = list(map(lambda x:x*3,filter(lambda x:x%2!=0 and x!=1,numbers)))\n",
    "\n",
    "print(triplo_list)\n",
    "\n",
    "triplo_list_c = [i*3 for i in numbers if i%2!=0 and i!=1]\n",
    "\n",
    "print(triplo_list_c)"
   ]
  },
  {
   "cell_type": "code",
   "execution_count": null,
   "id": "8156e828-eb7f-4605-96ac-8b11983f2183",
   "metadata": {},
   "outputs": [],
   "source": []
  }
 ],
 "metadata": {
  "kernelspec": {
   "display_name": "Python 3 (ipykernel)",
   "language": "python",
   "name": "python3"
  },
  "language_info": {
   "codemirror_mode": {
    "name": "ipython",
    "version": 3
   },
   "file_extension": ".py",
   "mimetype": "text/x-python",
   "name": "python",
   "nbconvert_exporter": "python",
   "pygments_lexer": "ipython3",
   "version": "3.9.13"
  }
 },
 "nbformat": 4,
 "nbformat_minor": 5
}
