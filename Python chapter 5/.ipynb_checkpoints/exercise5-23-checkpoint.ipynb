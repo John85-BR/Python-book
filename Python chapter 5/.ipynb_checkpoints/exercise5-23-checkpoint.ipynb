{
 "cells": [
  {
   "cell_type": "code",
   "execution_count": 9,
   "id": "db5ed5af-4cff-4fa6-8512-5143f5b689ed",
   "metadata": {},
   "outputs": [
    {
     "name": "stdout",
     "output_type": "stream",
     "text": [
      "[20, 8, 4, 16, 12]\n",
      "[20, 6, 14, 2, 18, 8, 4, 16, 10, 12]\n"
     ]
    }
   ],
   "source": [
    "numbers = [10,3,7,1,9,4,2,8,5,6]\n",
    "\n",
    "print(list(map(lambda x:x*2, filter(lambda x:x%2==0,numbers))))\n",
    "\n",
    "print(list(filter(lambda x:x%2==0,map(lambda x:x*2,numbers))))\n",
    "\n",
    "#os valores multiplicados na segunda operação são pares e por isso aparecem no resultado\n",
    "#no primeiro o filtro para saber o numero é par vem primeiro e por isso só chega no map os valores pares"
   ]
  },
  {
   "cell_type": "code",
   "execution_count": null,
   "id": "91d9680e-d2ef-4c03-9629-8deb58e7ba8e",
   "metadata": {},
   "outputs": [],
   "source": []
  }
 ],
 "metadata": {
  "kernelspec": {
   "display_name": "Python 3 (ipykernel)",
   "language": "python",
   "name": "python3"
  },
  "language_info": {
   "codemirror_mode": {
    "name": "ipython",
    "version": 3
   },
   "file_extension": ".py",
   "mimetype": "text/x-python",
   "name": "python",
   "nbconvert_exporter": "python",
   "pygments_lexer": "ipython3",
   "version": "3.9.13"
  }
 },
 "nbformat": 4,
 "nbformat_minor": 5
}
