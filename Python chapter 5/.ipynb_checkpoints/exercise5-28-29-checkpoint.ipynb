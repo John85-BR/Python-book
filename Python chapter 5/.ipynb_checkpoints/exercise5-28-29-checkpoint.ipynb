{
 "cells": [
  {
   "cell_type": "code",
   "execution_count": 17,
   "id": "983c3005-7d11-4ea6-8c38-20e9994e2cde",
   "metadata": {},
   "outputs": [
    {
     "name": "stdout",
     "output_type": "stream",
     "text": [
      "[3 4 8 2 3]\n",
      "[1 2 3 4 5]\n",
      "Min 1\n",
      "Max 5\n",
      "Range:1 to 5\n",
      "Mean 2.9\n",
      "Median 3.0\n",
      "Mode 3\n",
      "Variance 1.49\n",
      "Standart deviation 1.2206555615733703\n"
     ]
    }
   ],
   "source": [
    "import numpy as np\n",
    "import statistics as st\n",
    "\n",
    "\n",
    "\n",
    "numbers = [1,2,5,4,3,5,2,1,3,3,1,4,3,3,3,2,3,3,2,5]\n",
    "\n",
    "uniq, freq = np.unique(numbers, return_counts = True)\n",
    "print(freq)\n",
    "print(uniq)\n",
    "\n",
    "print(f'Min {min(uniq)}')\n",
    "print(f'Max {max(uniq)}')\n",
    "\n",
    "print(f'Range:{min(uniq)} to {max(uniq)}')\n",
    "print(f'Mean {st.mean(numbers)}')\n",
    "print(f'Median {st.median(numbers)}')\n",
    "print(f'Mode {st.mode(numbers)}')\n",
    "print(f'Variance {st.pvariance(numbers)}')\n",
    "print(f'Standart deviation {st.pstdev(numbers)}')"
   ]
  },
  {
   "cell_type": "code",
   "execution_count": null,
   "id": "5babf90c-6042-47ce-9106-764283f8beaa",
   "metadata": {},
   "outputs": [],
   "source": []
  }
 ],
 "metadata": {
  "kernelspec": {
   "display_name": "Python 3 (ipykernel)",
   "language": "python",
   "name": "python3"
  },
  "language_info": {
   "codemirror_mode": {
    "name": "ipython",
    "version": 3
   },
   "file_extension": ".py",
   "mimetype": "text/x-python",
   "name": "python",
   "nbconvert_exporter": "python",
   "pygments_lexer": "ipython3",
   "version": "3.9.13"
  }
 },
 "nbformat": 4,
 "nbformat_minor": 5
}
