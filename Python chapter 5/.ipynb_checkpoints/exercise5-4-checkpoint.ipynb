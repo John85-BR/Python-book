{
 "cells": [
  {
   "cell_type": "code",
   "execution_count": 52,
   "id": "440c7e26-b228-4c02-bb7f-9869904e18da",
   "metadata": {},
   "outputs": [
    {
     "name": "stdout",
     "output_type": "stream",
     "text": [
      "    0  1  2 \n",
      "0:  45 56 99 \n",
      "1:  78 56 22 \n"
     ]
    }
   ],
   "source": [
    "dimensional_list = [[45,56,99],[78,56,22]]\n",
    "\n",
    "for row in dimensional_list:\n",
    "    print('   ',end='')\n",
    "    for j, item in enumerate(row):\n",
    "        print(f'{j:>2}', end = ' ')\n",
    "    print()\n",
    "    break\n",
    "    \n",
    "for i, row in enumerate(dimensional_list):\n",
    "    print(f'{i}: ', end= ' ')\n",
    "    for j, item in enumerate(row):\n",
    "        print(f'{item}', end = ' ')\n",
    "    print()"
   ]
  },
  {
   "cell_type": "code",
   "execution_count": null,
   "id": "0756bae5-11ac-43df-9a93-ea814c7dbaae",
   "metadata": {},
   "outputs": [],
   "source": []
  }
 ],
 "metadata": {
  "kernelspec": {
   "display_name": "Python 3 (ipykernel)",
   "language": "python",
   "name": "python3"
  },
  "language_info": {
   "codemirror_mode": {
    "name": "ipython",
    "version": 3
   },
   "file_extension": ".py",
   "mimetype": "text/x-python",
   "name": "python",
   "nbconvert_exporter": "python",
   "pygments_lexer": "ipython3",
   "version": "3.9.13"
  }
 },
 "nbformat": 4,
 "nbformat_minor": 5
}
