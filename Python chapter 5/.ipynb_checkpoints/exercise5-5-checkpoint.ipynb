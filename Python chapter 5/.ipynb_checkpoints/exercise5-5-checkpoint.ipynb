{
 "cells": [
  {
   "cell_type": "code",
   "execution_count": 36,
   "id": "918e5f6a-ee68-4ec4-acff-60b58675686b",
   "metadata": {},
   "outputs": [
    {
     "name": "stdout",
     "output_type": "stream",
     "text": [
      "13\n",
      "abcdefghijklm\n",
      "abcdefghijklm\n",
      "nopqrstuvwxyz\n",
      "nopqrstuvwxyz\n",
      "acegikmoqsuwy\n",
      "zyxwvutsrqponmlkjihgfedcba\n",
      "zwtqnkheb\n"
     ]
    }
   ],
   "source": [
    "def pick_half(x):\n",
    "    return int(len(x)/2 if len(x)%2==0 else (len(x)-1)/2)\n",
    "\n",
    "\n",
    "alphabet = 'abcdefghijklmnopqrstuvwxyz'\n",
    "\n",
    "#a\n",
    "\n",
    "print(pick_half(alphabet))\n",
    "\n",
    "print(alphabet[0:pick_half(alphabet)])\n",
    "\n",
    "#b\n",
    "\n",
    "print(alphabet[:pick_half(alphabet)])\n",
    "\n",
    "#c\n",
    "\n",
    "print(alphabet[pick_half(alphabet):len(alphabet)])\n",
    "\n",
    "#d\n",
    "\n",
    "print(alphabet[pick_half(alphabet):])\n",
    "\n",
    "#e\n",
    "\n",
    "print(alphabet[::2])\n",
    "\n",
    "#f\n",
    "\n",
    "print(alphabet[::-1])\n",
    "\n",
    "#g\n",
    "\n",
    "alphabet_temp = alphabet[::-1]\n",
    "print(alphabet_temp[::3])\n"
   ]
  },
  {
   "cell_type": "code",
   "execution_count": null,
   "id": "18da7f50-0f66-4ca0-a881-0c76626c7e25",
   "metadata": {},
   "outputs": [],
   "source": []
  }
 ],
 "metadata": {
  "kernelspec": {
   "display_name": "Python 3 (ipykernel)",
   "language": "python",
   "name": "python3"
  },
  "language_info": {
   "codemirror_mode": {
    "name": "ipython",
    "version": 3
   },
   "file_extension": ".py",
   "mimetype": "text/x-python",
   "name": "python",
   "nbconvert_exporter": "python",
   "pygments_lexer": "ipython3",
   "version": "3.9.13"
  }
 },
 "nbformat": 4,
 "nbformat_minor": 5
}
