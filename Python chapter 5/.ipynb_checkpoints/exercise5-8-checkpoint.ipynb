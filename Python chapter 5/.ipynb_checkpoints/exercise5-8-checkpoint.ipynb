{
 "cells": [
  {
   "cell_type": "code",
   "execution_count": 43,
   "id": "d49b4c1c-d07a-4ee1-91ad-065e14f03418",
   "metadata": {},
   "outputs": [
    {
     "name": "stdout",
     "output_type": "stream",
     "text": [
      "[2, 3, 5, 7, 11, 13, 17, 19, 23, 29, 31, 37, 41, 43, 47, 53, 59, 61, 67, 71, 73, 79, 83, 89, 97, 101, 103, 107, 109, 113, 127, 131, 137, 139, 149, 151, 157, 163, 167, 173, 179, 181, 191, 193, 197, 199, 211, 223, 227, 229, 233, 239, 241, 251, 257, 263, 269, 271, 277, 281, 283, 293, 307, 311, 313, 317, 331, 337, 347, 349, 353, 359, 367, 373, 379, 383, 389, 397, 401, 409, 419, 421, 431, 433, 439, 443, 449, 457, 461, 463, 467, 479, 487, 491, 499, 503, 509, 521, 523, 541, 547, 557, 563, 569, 571, 577, 587, 593, 599, 601, 607, 613, 617, 619, 631, 641, 643, 647, 653, 659, 661, 673, 677, 683, 691, 701, 709, 719, 727, 733, 739, 743, 751, 757, 761, 769, 773, 787, 797, 809, 811, 821, 823, 827, 829, 839, 853, 857, 859, 863, 877, 881, 883, 887, 907, 911, 919, 929, 937, 941, 947, 953, 967, 971, 977, 983, 991, 997]\n"
     ]
    }
   ],
   "source": [
    "def prime_number(list_numbers):\n",
    "    list_temp = []\n",
    "    att_ex = False\n",
    "    for i in range(len(list_numbers)):\n",
    "        try:\n",
    "            list_numbers[i].append(True)\n",
    "        except AttributeError:\n",
    "            for i in list_numbers:\n",
    "                list_temp.append([i])\n",
    "                \n",
    "            for i in range(len(list_temp)):\n",
    "                list_temp[i].append(True)\n",
    "            att_ex = True\n",
    "            break\n",
    "         \n",
    "    if not att_ex:\n",
    "        for index1 in range(len(list_numbers)):\n",
    "            for index2 in range(len(list_numbers)):\n",
    "                if list_numbers[index1][0]!=list_numbers[index2][0]:         \n",
    "                    if list_numbers[index1][0]%list_numbers[index2][0]==0:\n",
    "                        list_numbers[index1][1]=False\n",
    "                        break\n",
    "                        \n",
    "        final_list_prime = list(map(lambda x: x[0],filter(lambda x: x[1]==True, list_numbers)))\n",
    "    \n",
    "        return final_list_prime\n",
    "    else:\n",
    "        for index1 in range(len(list_temp)):\n",
    "            for index2 in range(len(list_temp)):\n",
    "                if list_temp[index1][0]!=list_temp[index2][0]:         \n",
    "                    if list_temp[index1][0]%list_temp[index2][0]==0:\n",
    "                        list_temp[index1][1]=False\n",
    "                        break\n",
    "\n",
    "        final_list_prime = list(map(lambda x: x[0],filter(lambda x: x[1]==True, list_temp)))\n",
    "    \n",
    "        return final_list_prime\n",
    "    \n",
    "    \n",
    "#testando a função\n",
    "list_ = list(range(2,1001))\n",
    "\n",
    "print(prime_number(list_))\n",
    "\n"
   ]
  },
  {
   "cell_type": "code",
   "execution_count": null,
   "id": "3740440f-2bb0-4dd0-936c-43fb5c0c927b",
   "metadata": {},
   "outputs": [],
   "source": []
  }
 ],
 "metadata": {
  "kernelspec": {
   "display_name": "Python 3 (ipykernel)",
   "language": "python",
   "name": "python3"
  },
  "language_info": {
   "codemirror_mode": {
    "name": "ipython",
    "version": 3
   },
   "file_extension": ".py",
   "mimetype": "text/x-python",
   "name": "python",
   "nbconvert_exporter": "python",
   "pygments_lexer": "ipython3",
   "version": "3.9.13"
  }
 },
 "nbformat": 4,
 "nbformat_minor": 5
}
