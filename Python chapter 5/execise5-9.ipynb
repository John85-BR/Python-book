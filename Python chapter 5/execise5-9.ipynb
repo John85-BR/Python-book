{
 "cells": [
  {
   "cell_type": "code",
   "execution_count": 1,
   "id": "dc8d17d9-72b0-44a1-9d49-c2650c62b530",
   "metadata": {},
   "outputs": [
    {
     "name": "stdout",
     "output_type": "stream",
     "text": [
      "raDar\n",
      "palindrome\n"
     ]
    }
   ],
   "source": [
    "text = 'raD.,/ ar'\n",
    "ex = ['.','/',' ',',']\n",
    "\n",
    "text_temp = ''\n",
    "\n",
    "for i in text:\n",
    "    text_temp+= i if i not in ex else ''\n",
    "\n",
    "print(text_temp)\n",
    "\n",
    "if text_temp.upper()==text_temp[::-1].upper():\n",
    "    print('palindrome')\n",
    "    \n",
    "else:\n",
    "    print('not palindrome')"
   ]
  },
  {
   "cell_type": "code",
   "execution_count": null,
   "id": "526a64aa-33ce-409a-8cb9-f85e5a0b42a5",
   "metadata": {},
   "outputs": [],
   "source": []
  }
 ],
 "metadata": {
  "kernelspec": {
   "display_name": "Python 3 (ipykernel)",
   "language": "python",
   "name": "python3"
  },
  "language_info": {
   "codemirror_mode": {
    "name": "ipython",
    "version": 3
   },
   "file_extension": ".py",
   "mimetype": "text/x-python",
   "name": "python",
   "nbconvert_exporter": "python",
   "pygments_lexer": "ipython3",
   "version": "3.9.13"
  }
 },
 "nbformat": 4,
 "nbformat_minor": 5
}
