{
 "cells": [
  {
   "cell_type": "code",
   "execution_count": 16,
   "id": "d6132278-e0af-4192-abdf-ea30b8d320b9",
   "metadata": {},
   "outputs": [
    {
     "name": "stdout",
     "output_type": "stream",
     "text": [
      "Letter\tFrequencie\n",
      "g\t1\n",
      "i\t1\n",
      "n\t1\n",
      "r\t1\n",
      "s\t3\n",
      "t\t1\n"
     ]
    }
   ],
   "source": [
    "def summarize_letters(string):\n",
    "    import numpy as np\n",
    "    \n",
    "    abc = \"abcdefghijklmnopqrstuvxwyz\"\n",
    "    \n",
    "    if string==abc:\n",
    "        print(\"All letters of the alphabet\")\n",
    "\n",
    "       \n",
    "    return np.unique(list(string), return_counts = True)\n",
    "    \n",
    "ex = \"ssstring\"\n",
    "abc = \"abcdefghijklmnopqrstuvxwyz\"\n",
    "\n",
    "uniq, freq = summarize_letters(ex)\n",
    "\n",
    "print(\"Letter\\tFrequencie\")\n",
    "for i,j in zip(uniq,freq):\n",
    "    print(f'{i}\\t{j}')\n"
   ]
  },
  {
   "cell_type": "code",
   "execution_count": null,
   "id": "7b580746-4bd4-4a26-80d0-7b664e0c6db6",
   "metadata": {},
   "outputs": [],
   "source": []
  }
 ],
 "metadata": {
  "kernelspec": {
   "display_name": "Python 3 (ipykernel)",
   "language": "python",
   "name": "python3"
  },
  "language_info": {
   "codemirror_mode": {
    "name": "ipython",
    "version": 3
   },
   "file_extension": ".py",
   "mimetype": "text/x-python",
   "name": "python",
   "nbconvert_exporter": "python",
   "pygments_lexer": "ipython3",
   "version": "3.9.13"
  }
 },
 "nbformat": 4,
 "nbformat_minor": 5
}
