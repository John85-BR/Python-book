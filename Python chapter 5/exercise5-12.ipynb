{
 "cells": [
  {
   "cell_type": "code",
   "execution_count": 31,
   "id": "11db31ea-87c0-497f-a22d-acb72cd0eb5f",
   "metadata": {},
   "outputs": [
    {
     "name": "stdout",
     "output_type": "stream",
     "text": [
      "2 [('A', 'B', 'C'), ('A', 'C', 'B'), ('B', 'A', 'C'), ('B', 'C', 'A'), ('C', 'A', 'B'), ('C', 'B', 'A')]\n",
      "4 [('G', 'H', 'I'), ('G', 'I', 'H'), ('H', 'G', 'I'), ('H', 'I', 'G'), ('I', 'G', 'H'), ('I', 'H', 'G')]\n",
      "4 [('G', 'H', 'I'), ('G', 'I', 'H'), ('H', 'G', 'I'), ('H', 'I', 'G'), ('I', 'G', 'H'), ('I', 'H', 'G')]\n",
      "3 [('D', 'E', 'F'), ('D', 'F', 'E'), ('E', 'D', 'F'), ('E', 'F', 'D'), ('F', 'D', 'E'), ('F', 'E', 'D')]\n",
      "2 [('A', 'B', 'C'), ('A', 'C', 'B'), ('B', 'A', 'C'), ('B', 'C', 'A'), ('C', 'A', 'B'), ('C', 'B', 'A')]\n",
      "8 [('T', 'U', 'V'), ('T', 'V', 'U'), ('U', 'T', 'V'), ('U', 'V', 'T'), ('V', 'T', 'U'), ('V', 'U', 'T')]\n",
      "2 [('A', 'B', 'C'), ('A', 'C', 'B'), ('B', 'A', 'C'), ('B', 'C', 'A'), ('C', 'A', 'B'), ('C', 'B', 'A')]\n"
     ]
    }
   ],
   "source": [
    "import itertools as it\n",
    "\n",
    "digits = [0,0,['A','B','C'],['D','E','F'],['G','H','I'],['J','K','L'],['M','N','O'],['P','R','S'],['T','U','V'],['W','X','Y']]\n",
    "\n",
    "enter = \"2443282\"\n",
    "l =[]\n",
    "\n",
    "for i in enter:\n",
    "    print(i, list(it.permutations(digits[int(i)])))\n",
    "    l+=[list(it.permutations(digits[int(i)]))]\n",
    "    \n",
    "\n",
    "\n"
   ]
  },
  {
   "cell_type": "code",
   "execution_count": null,
   "id": "b2efa763-e155-41e5-9631-14784e5c8a75",
   "metadata": {},
   "outputs": [],
   "source": []
  },
  {
   "cell_type": "code",
   "execution_count": null,
   "id": "5154609f-bdc7-4ed9-b8ef-2bf6514be4d0",
   "metadata": {},
   "outputs": [],
   "source": []
  },
  {
   "cell_type": "code",
   "execution_count": null,
   "id": "ce443b6a-a01d-4453-8e4a-6a7d31b9efb9",
   "metadata": {},
   "outputs": [],
   "source": []
  }
 ],
 "metadata": {
  "kernelspec": {
   "display_name": "Python 3 (ipykernel)",
   "language": "python",
   "name": "python3"
  },
  "language_info": {
   "codemirror_mode": {
    "name": "ipython",
    "version": 3
   },
   "file_extension": ".py",
   "mimetype": "text/x-python",
   "name": "python",
   "nbconvert_exporter": "python",
   "pygments_lexer": "ipython3",
   "version": "3.9.13"
  }
 },
 "nbformat": 4,
 "nbformat_minor": 5
}
