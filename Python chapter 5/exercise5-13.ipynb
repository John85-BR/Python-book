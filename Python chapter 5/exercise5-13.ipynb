{
 "cells": [
  {
   "cell_type": "code",
   "execution_count": 20,
   "id": "602a36a0-c3f7-4ca3-af5d-8f92e857a6b5",
   "metadata": {},
   "outputs": [
    {
     "name": "stdout",
     "output_type": "stream",
     "text": [
      "b i g d a t a [2, 4, 4, 3, 2, 8, 2]\n"
     ]
    }
   ],
   "source": [
    "import itertools as it\n",
    "\n",
    "digits = [0,0,['A','B','C'],['D','E','F'],['G','H','I'],['J','K','L'],['M','N','O'],['P','R','S'],['T','U','V'],['W','X','Y']]\n",
    "\n",
    "enter = \"bigdata\"\n",
    "l = []\n",
    "\n",
    "for j in enter:\n",
    "    print(j, end=' ')\n",
    "    for i in range(2,len(digits)):\n",
    "        if j.upper() in digits[i]:\n",
    "            l+=[i]   \n",
    "print(l)\n",
    "    \n",
    "    \n"
   ]
  },
  {
   "cell_type": "code",
   "execution_count": null,
   "id": "7f9f1269-4831-48a0-a63d-aa2e4d824cf2",
   "metadata": {},
   "outputs": [],
   "source": []
  },
  {
   "cell_type": "code",
   "execution_count": null,
   "id": "1d448772-9ba6-4ad7-bc9c-7929d52754f6",
   "metadata": {},
   "outputs": [],
   "source": []
  }
 ],
 "metadata": {
  "kernelspec": {
   "display_name": "Python 3 (ipykernel)",
   "language": "python",
   "name": "python3"
  },
  "language_info": {
   "codemirror_mode": {
    "name": "ipython",
    "version": 3
   },
   "file_extension": ".py",
   "mimetype": "text/x-python",
   "name": "python",
   "nbconvert_exporter": "python",
   "pygments_lexer": "ipython3",
   "version": "3.9.13"
  }
 },
 "nbformat": 4,
 "nbformat_minor": 5
}
