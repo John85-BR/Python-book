{
 "cells": [
  {
   "cell_type": "code",
   "execution_count": 7,
   "id": "6aaa05df-1e75-4e50-9c5d-639c60aefcb0",
   "metadata": {},
   "outputs": [
    {
     "name": "stdout",
     "output_type": "stream",
     "text": [
      "False\n",
      "True\n",
      "True\n",
      "False\n"
     ]
    }
   ],
   "source": [
    "def is_ordered(sequence):\n",
    "    l = []\n",
    "    l+=sequence\n",
    "    return l == sorted(l)\n",
    "\n",
    "\n",
    "print(is_ordered([2,5,1,0,-1]))\n",
    "print(is_ordered([1,2,3,4,5]))\n",
    "print(is_ordered((1,2,3,4,5)))\n",
    "print(is_ordered(\"fgadfg\"))"
   ]
  },
  {
   "cell_type": "code",
   "execution_count": null,
   "id": "dbf58103-5ea9-4c40-8de6-b003a71a173e",
   "metadata": {},
   "outputs": [],
   "source": []
  }
 ],
 "metadata": {
  "kernelspec": {
   "display_name": "Python 3 (ipykernel)",
   "language": "python",
   "name": "python3"
  },
  "language_info": {
   "codemirror_mode": {
    "name": "ipython",
    "version": 3
   },
   "file_extension": ".py",
   "mimetype": "text/x-python",
   "name": "python",
   "nbconvert_exporter": "python",
   "pygments_lexer": "ipython3",
   "version": "3.9.13"
  }
 },
 "nbformat": 4,
 "nbformat_minor": 5
}
