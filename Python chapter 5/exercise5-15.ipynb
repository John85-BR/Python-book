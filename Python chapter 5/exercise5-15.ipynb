{
 "cells": [
  {
   "cell_type": "code",
   "execution_count": 43,
   "id": "be588673-87b3-4bc4-b553-aa47c9712a52",
   "metadata": {},
   "outputs": [
    {
     "name": "stdout",
     "output_type": "stream",
     "text": [
      "[('83', 'Eletric sander', 7, 57.98), ('39', 'Jig saw', 3, 79.5), ('24', 'Power saw', 18, 99.99), ('7', 'Sledge hammer', 11, 21.5)]\n",
      "[('7', 'Sledge hammer', 11, 21.5), ('83', 'Eletric sander', 7, 57.98), ('39', 'Jig saw', 3, 79.5), ('24', 'Power saw', 18, 99.99)]\n",
      "(('Eletric sander', 405.85999999999996), ('Sledge hammer', 236.5), ('Jig saw', 238.5))\n",
      "(405.85999999999996, 1799.82, 236.5, 238.5)\n",
      "2680.68\n"
     ]
    }
   ],
   "source": [
    "from operator import itemgetter\n",
    "\n",
    "list_hardware = ((\"83\", \"Eletric sander\", 7, 57.98 ), \n",
    "                 (\"24\", \"Power saw\", 18, 99.99 ), \n",
    "                 (\"7\", \"Sledge hammer\", 11, 21.50),\n",
    "                 (\"39\", \"Jig saw\", 3, 79.50))\n",
    "\n",
    "print(sorted(list_hardware, key = itemgetter(1)))\n",
    "print(sorted(list_hardware, key = itemgetter(3)))\n",
    "\n",
    "results = tuple(map\n",
    "                (lambda x: (x[1], x[2]*x[3]),\n",
    "                 filter(lambda x: (x[2]*x[3])>=200 and (x[2]*x[3])<=500, \n",
    "                        list_hardware)))\n",
    "\n",
    "print(results)\n",
    "\n",
    "temp = tuple(map(lambda x:(x[2]*x[3]), list_hardware))\n",
    "print(temp)\n",
    "total = 0\n",
    "for i in temp:\n",
    "    total+=i\n",
    "print(total)"
   ]
  },
  {
   "cell_type": "code",
   "execution_count": null,
   "id": "9bc50143-5513-47b2-a720-50f5cb8942f1",
   "metadata": {},
   "outputs": [],
   "source": []
  },
  {
   "cell_type": "code",
   "execution_count": null,
   "id": "5c75b238-acba-4178-8fa9-570d42e321a9",
   "metadata": {},
   "outputs": [],
   "source": []
  }
 ],
 "metadata": {
  "kernelspec": {
   "display_name": "Python 3 (ipykernel)",
   "language": "python",
   "name": "python3"
  },
  "language_info": {
   "codemirror_mode": {
    "name": "ipython",
    "version": 3
   },
   "file_extension": ".py",
   "mimetype": "text/x-python",
   "name": "python",
   "nbconvert_exporter": "python",
   "pygments_lexer": "ipython3",
   "version": "3.9.13"
  }
 },
 "nbformat": 4,
 "nbformat_minor": 5
}
