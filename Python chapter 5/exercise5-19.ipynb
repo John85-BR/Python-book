{
 "cells": [
  {
   "cell_type": "code",
   "execution_count": 4,
   "id": "1c288c54-ee31-4d09-a2d8-58a8024af086",
   "metadata": {},
   "outputs": [
    {
     "name": "stdout",
     "output_type": "stream",
     "text": [
      "[('Davi', 'Jones'), ('Saul', 'Jones'), ('Sansao', 'Jones')]\n"
     ]
    }
   ],
   "source": [
    "tuple_names = ((\"Joao\",\"Bezerra\"),(\"Aline\",\"Danielle\"),(\"Davi\",\"Jones\"),(\"Saul\",\"Jones\"),(\"Sansao\",\"Jones\"),(\"Saul\",\"\"))\n",
    "\n",
    "last_names_jones = list(filter(lambda x:x[1]==\"Jones\",tuple_names))\n",
    "\n",
    "print(last_names_jones)\n"
   ]
  },
  {
   "cell_type": "code",
   "execution_count": null,
   "id": "6d84b916-3e49-46ce-8ab4-b8bdf9d6a453",
   "metadata": {},
   "outputs": [],
   "source": []
  }
 ],
 "metadata": {
  "kernelspec": {
   "display_name": "Python 3 (ipykernel)",
   "language": "python",
   "name": "python3"
  },
  "language_info": {
   "codemirror_mode": {
    "name": "ipython",
    "version": 3
   },
   "file_extension": ".py",
   "mimetype": "text/x-python",
   "name": "python",
   "nbconvert_exporter": "python",
   "pygments_lexer": "ipython3",
   "version": "3.9.13"
  }
 },
 "nbformat": 4,
 "nbformat_minor": 5
}
