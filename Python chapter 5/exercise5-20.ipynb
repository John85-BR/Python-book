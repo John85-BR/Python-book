{
 "cells": [
  {
   "cell_type": "code",
   "execution_count": 18,
   "id": "34f3ceec-e73c-44bd-9c77-a792eb65b4e0",
   "metadata": {},
   "outputs": [
    {
     "name": "stdout",
     "output_type": "stream",
     "text": [
      "    0     1 \n",
      "0 Joao Bezerra \n",
      "1 Aline Danielle \n",
      "2 Davi Jones \n",
      "3 Saul Jones \n",
      "4 Sansao Jones \n",
      "5 Saul  \n"
     ]
    }
   ],
   "source": [
    "display_table = [[\"Joao\",\"Bezerra\"],[\"Aline\",\"Danielle\"],[\"Davi\",\"Jones\"],[\"Saul\",\"Jones\"],[\"Sansao\",\"Jones\"],[\"Saul\",\"\"]]\n",
    "\n",
    "for i, row in enumerate(display_table):\n",
    "    for j, item in enumerate(row):\n",
    "        print(f'{j:>5}',end = ' ')\n",
    "    print()\n",
    "    break\n",
    "\n",
    "for i, row in enumerate(display_table):\n",
    "    print(i, end=' ')\n",
    "    for j, item in enumerate(row):\n",
    "        print(f'{item}',end = ' ')\n",
    "        \n",
    "    print()"
   ]
  },
  {
   "cell_type": "code",
   "execution_count": null,
   "id": "15f7d01b-4b1e-4217-9450-fb8711ac6b87",
   "metadata": {},
   "outputs": [],
   "source": []
  }
 ],
 "metadata": {
  "kernelspec": {
   "display_name": "Python 3 (ipykernel)",
   "language": "python",
   "name": "python3"
  },
  "language_info": {
   "codemirror_mode": {
    "name": "ipython",
    "version": 3
   },
   "file_extension": ".py",
   "mimetype": "text/x-python",
   "name": "python",
   "nbconvert_exporter": "python",
   "pygments_lexer": "ipython3",
   "version": "3.9.13"
  }
 },
 "nbformat": 4,
 "nbformat_minor": 5
}
