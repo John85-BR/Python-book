{
 "cells": [
  {
   "cell_type": "code",
   "execution_count": 13,
   "id": "4318ac06-a679-46a4-872e-b4d21c2d5750",
   "metadata": {},
   "outputs": [
    {
     "name": "stdout",
     "output_type": "stream",
     "text": [
      "[]\n",
      "[3, 2, 1]\n",
      "[3, 2]\n",
      "[3]\n",
      "[]\n"
     ]
    }
   ],
   "source": [
    "fifo = []\n",
    "\n",
    "print(fifo)\n",
    "\n",
    "fifo.append(3)\n",
    "fifo.append(2)\n",
    "fifo.append(1)\n",
    "\n",
    "print(fifo)\n",
    "\n",
    "fifo.pop()\n",
    "\n",
    "print(fifo)\n",
    "\n",
    "fifo.pop()\n",
    "\n",
    "print(fifo)\n",
    "\n",
    "fifo.pop()\n",
    "\n",
    "print(fifo)"
   ]
  },
  {
   "cell_type": "code",
   "execution_count": null,
   "id": "7e28989f-1c29-4172-abf7-8fb4491cd393",
   "metadata": {},
   "outputs": [],
   "source": []
  },
  {
   "cell_type": "code",
   "execution_count": null,
   "id": "4bc8fe55-5a30-4bef-a429-c7077bbbf31b",
   "metadata": {},
   "outputs": [],
   "source": []
  }
 ],
 "metadata": {
  "kernelspec": {
   "display_name": "Python 3 (ipykernel)",
   "language": "python",
   "name": "python3"
  },
  "language_info": {
   "codemirror_mode": {
    "name": "ipython",
    "version": 3
   },
   "file_extension": ".py",
   "mimetype": "text/x-python",
   "name": "python",
   "nbconvert_exporter": "python",
   "pygments_lexer": "ipython3",
   "version": "3.9.13"
  }
 },
 "nbformat": 4,
 "nbformat_minor": 5
}
