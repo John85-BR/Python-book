{
 "cells": [
  {
   "cell_type": "code",
   "execution_count": 18,
   "id": "ac2038e5-401c-484f-a125-abb4a6ad43d7",
   "metadata": {},
   "outputs": [
    {
     "name": "stdout",
     "output_type": "stream",
     "text": [
      "[(69, 1.7526035052070106), (77, 1.9558039116078234), (54, 1.3716027432054865)]\n",
      "[(69, 1.7526035052070106), (77, 1.9558039116078234), (54, 1.3716027432054865)]\n"
     ]
    }
   ],
   "source": [
    "def convert(x):\n",
    "    return x/39.37\n",
    "\n",
    "print([(x, convert(x)) for x in [69,77,54]])\n",
    "\n",
    "print(list(map(lambda x: (x, convert(x)),[69,77,54])))"
   ]
  },
  {
   "cell_type": "code",
   "execution_count": null,
   "id": "f7e8a279-3b66-47d4-9436-b5189fbfc7b0",
   "metadata": {},
   "outputs": [],
   "source": []
  }
 ],
 "metadata": {
  "kernelspec": {
   "display_name": "Python 3 (ipykernel)",
   "language": "python",
   "name": "python3"
  },
  "language_info": {
   "codemirror_mode": {
    "name": "ipython",
    "version": 3
   },
   "file_extension": ".py",
   "mimetype": "text/x-python",
   "name": "python",
   "nbconvert_exporter": "python",
   "pygments_lexer": "ipython3",
   "version": "3.9.13"
  }
 },
 "nbformat": 4,
 "nbformat_minor": 5
}
