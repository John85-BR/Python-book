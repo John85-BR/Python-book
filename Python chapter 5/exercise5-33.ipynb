{
 "cells": [
  {
   "cell_type": "code",
   "execution_count": 1,
   "id": "0e2cb474-386c-41ae-a61a-5cf3752a31f7",
   "metadata": {},
   "outputs": [
    {
     "name": "stdout",
     "output_type": "stream",
     "text": [
      "Player rolled 5 + 5 = 10\n",
      "Point is 10\n",
      "Player rolled 5 + 4 = 9\n",
      "Player rolled 5 + 1 = 6\n",
      "Player rolled 2 + 1 = 3\n",
      "Player rolled 1 + 1 = 2\n",
      "Player rolled 3 + 2 = 5\n",
      "Player rolled 6 + 5 = 11\n",
      "Player rolled 6 + 5 = 11\n",
      "Player rolled 2 + 5 = 7\n",
      "Player loses\n",
      "Player rolled 1 + 2 = 3\n",
      "Player loses\n",
      "Player rolled 4 + 5 = 9\n",
      "Point is 9\n",
      "Player rolled 6 + 4 = 10\n",
      "Player rolled 1 + 6 = 7\n",
      "Player loses\n",
      "Player rolled 1 + 3 = 4\n",
      "Point is 4\n",
      "Player rolled 6 + 6 = 12\n",
      "Player rolled 5 + 5 = 10\n",
      "Player rolled 6 + 3 = 9\n",
      "Player rolled 5 + 1 = 6\n",
      "Player rolled 3 + 4 = 7\n",
      "Player loses\n",
      "Player rolled 4 + 4 = 8\n",
      "Point is 8\n",
      "Player rolled 5 + 5 = 10\n",
      "Player rolled 6 + 4 = 10\n",
      "Player rolled 1 + 5 = 6\n",
      "Player rolled 4 + 4 = 8\n",
      "Player wins\n",
      "Player rolled 1 + 2 = 3\n",
      "Player loses\n",
      "Player rolled 5 + 1 = 6\n",
      "Point is 6\n",
      "Player rolled 1 + 1 = 2\n",
      "Player rolled 3 + 5 = 8\n",
      "Player rolled 5 + 6 = 11\n",
      "Player rolled 5 + 6 = 11\n",
      "Player rolled 6 + 3 = 9\n",
      "Player rolled 3 + 3 = 6\n",
      "Player wins\n",
      "Player rolled 3 + 6 = 9\n",
      "Point is 9\n",
      "Player rolled 5 + 3 = 8\n",
      "Player rolled 6 + 2 = 8\n",
      "Player rolled 1 + 2 = 3\n",
      "Player rolled 2 + 6 = 8\n",
      "Player rolled 5 + 2 = 7\n",
      "Player loses\n",
      "Player rolled 5 + 2 = 7\n",
      "Player wins\n",
      "Player rolled 3 + 5 = 8\n",
      "Point is 8\n",
      "Player rolled 6 + 1 = 7\n",
      "Player loses\n",
      "Player rolled 4 + 1 = 5\n",
      "Point is 5\n",
      "Player rolled 4 + 4 = 8\n",
      "Player rolled 5 + 1 = 6\n",
      "Player rolled 5 + 3 = 8\n",
      "Player rolled 6 + 4 = 10\n",
      "Player rolled 3 + 1 = 4\n",
      "Player rolled 1 + 5 = 6\n",
      "Player rolled 4 + 3 = 7\n",
      "Player loses\n",
      "Player rolled 1 + 2 = 3\n",
      "Player loses\n",
      "Player rolled 2 + 2 = 4\n",
      "Point is 4\n",
      "Player rolled 2 + 3 = 5\n",
      "Player rolled 1 + 1 = 2\n",
      "Player rolled 2 + 6 = 8\n",
      "Player rolled 2 + 1 = 3\n",
      "Player rolled 3 + 1 = 4\n",
      "Player wins\n",
      "Player rolled 4 + 6 = 10\n",
      "Point is 10\n",
      "Player rolled 2 + 2 = 4\n",
      "Player rolled 6 + 5 = 11\n",
      "Player rolled 4 + 4 = 8\n",
      "Player rolled 6 + 4 = 10\n",
      "Player wins\n",
      "Player rolled 3 + 4 = 7\n",
      "Player wins\n",
      "Player rolled 5 + 5 = 10\n",
      "Point is 10\n",
      "Player rolled 1 + 5 = 6\n",
      "Player rolled 3 + 2 = 5\n",
      "Player rolled 3 + 1 = 4\n",
      "Player rolled 1 + 3 = 4\n",
      "Player rolled 5 + 3 = 8\n",
      "Player rolled 6 + 2 = 8\n",
      "Player rolled 3 + 1 = 4\n",
      "Player rolled 3 + 4 = 7\n",
      "Player loses\n",
      "Player rolled 4 + 5 = 9\n",
      "Point is 9\n",
      "Player rolled 4 + 5 = 9\n",
      "Player wins\n",
      "Player rolled 3 + 5 = 8\n",
      "Point is 8\n",
      "Player rolled 1 + 3 = 4\n",
      "Player rolled 1 + 3 = 4\n",
      "Player rolled 2 + 2 = 4\n",
      "Player rolled 2 + 6 = 8\n",
      "Player wins\n",
      "Player rolled 6 + 3 = 9\n",
      "Point is 9\n",
      "Player rolled 4 + 5 = 9\n",
      "Player wins\n"
     ]
    }
   ],
   "source": [
    "\"\"\"Simulating the dice game Craps.\"\"\"\n",
    "import random\n",
    "import matplotlib.pyplot as plt\n",
    "%matplotlib inline\n",
    "import numpy as np\n",
    "import random\n",
    "import seaborn as sns\n",
    "\n",
    "def roll_dice():\n",
    "    \"\"\"Roll two dice and return their face values as a tuple.\"\"\"\n",
    "    die1 = random.randrange(1, 7)\n",
    "    die2 = random.randrange(1, 7)\n",
    "    return (die1, die2)  # pack die face values into a tuple\n",
    "\n",
    "def display_dice(dice):\n",
    "    \"\"\"Display one roll of the two dice.\"\"\"\n",
    "    die1, die2 = dice  # unpack the tuple into variables die1 and die2\n",
    "    print(f'Player rolled {die1} + {die2} = {sum(dice)}')\n",
    "    \n",
    "games = 1\n",
    "total = 10\n",
    "list_won = []\n",
    "list_lost = []\n",
    "\n",
    "\n",
    "\n",
    "while games<20:\n",
    "    \n",
    "        die_values = roll_dice()  # first roll\n",
    "        display_dice(die_values)\n",
    "        rolls = 1\n",
    "        game_won = 0\n",
    "        game_lost = 0\n",
    "\n",
    "        # determine game status and point, based on first roll\n",
    "        sum_of_dice = sum(die_values)\n",
    "\n",
    "\n",
    "\n",
    "        if sum_of_dice in (7, 11):  # win\n",
    "            game_status = 'WON'\n",
    "            game_won+=1\n",
    "            list_won.append(rolls)\n",
    "\n",
    "        elif sum_of_dice in (2, 3, 12):  # lose\n",
    "            game_status = 'LOST'\n",
    "            game_lost+=1\n",
    "            list_lost.append(rolls)\n",
    "\n",
    "        else:  # remember point\n",
    "            game_status = 'CONTINUE'\n",
    "            my_point = sum_of_dice\n",
    "            print('Point is', my_point)\n",
    "\n",
    "\n",
    "        # continue rolling until player wins or loses\n",
    "        while game_status == 'CONTINUE':\n",
    "            die_values = roll_dice()\n",
    "            rolls+=1\n",
    "            display_dice(die_values)\n",
    "            sum_of_dice = sum(die_values)\n",
    "\n",
    "            if sum_of_dice == my_point:  # win by making point\n",
    "                game_status = 'WON'\n",
    "                game_won+=1\n",
    "                list_won.append(rolls)\n",
    "\n",
    "            elif sum_of_dice == 7:  # lose by rolling 7\n",
    "                game_status = 'LOST'\n",
    "                game_lost+=1\n",
    "                list_lost.append(rolls)\n",
    "\n",
    "        # display \"wins\" or \"loses\" message\n",
    "        if game_status == 'WON':\n",
    "            print('Player wins')\n",
    "            games+=1\n",
    "        else:\n",
    "            print('Player loses')\n",
    "            games+=1\n",
    "    \n",
    "\n"
   ]
  },
  {
   "cell_type": "code",
   "execution_count": 2,
   "id": "6edf1f87-3fd9-4c7e-b016-b95a511d765a",
   "metadata": {},
   "outputs": [
    {
     "data": {
      "text/plain": [
       "Text(0.5, 1.0, 'Lost 10 Times')"
      ]
     },
     "execution_count": 2,
     "metadata": {},
     "output_type": "execute_result"
    },
    {
     "data": {
      "image/png": "[encoded data removed]",
      "text/plain": [
       "<Figure size 640x480 with 1 Axes>"
      ]
     },
     "metadata": {},
     "output_type": "display_data"
    }
   ],
   "source": [
    "values, frequencies = np.unique(list_lost, return_counts=True)\n",
    "\n",
    "axes = sns.barplot(y=values, x=frequencies, orient='h')\n",
    "axes.set(ylabel='Rolls', xlabel='Frequency') \n",
    "title = f'Lost {len(list_lost)} Times'\n",
    "axes.set_title(title)"
   ]
  },
  {
   "cell_type": "code",
   "execution_count": 3,
   "id": "35b4f981-bafc-4d40-9cd5-157a655dae60",
   "metadata": {},
   "outputs": [],
   "source": [
    "%recall 2"
   ]
  },
  {
   "cell_type": "code",
   "execution_count": 7,
   "id": "a71ac8de-9feb-4471-8a05-3b8a5fd6b333",
   "metadata": {},
   "outputs": [
    {
     "data": {
      "text/plain": [
       "Text(0.5, 1.0, 'Won 9 Times')"
      ]
     },
     "execution_count": 7,
     "metadata": {},
     "output_type": "execute_result"
    },
    {
     "data": {
      "image/png": "[encoded data removed]",
      "text/plain": [
       "<Figure size 640x480 with 1 Axes>"
      ]
     },
     "metadata": {},
     "output_type": "display_data"
    }
   ],
   "source": [
    "values, frequencies = np.unique(list_won, return_counts=True)\n",
    "\n",
    "axes = sns.barplot(y=values, x=frequencies, orient='h')\n",
    "axes.set(ylabel='Rolls', xlabel='Frequency') \n",
    "title = f'Won {len(list_won)} Times'\n",
    "axes.set_title(title)"
   ]
  },
  {
   "cell_type": "code",
   "execution_count": null,
   "id": "0397a0aa-060b-4b39-af4e-ea0fcb50c4f4",
   "metadata": {},
   "outputs": [],
   "source": []
  }
 ],
 "metadata": {
  "kernelspec": {
   "display_name": "Python 3 (ipykernel)",
   "language": "python",
   "name": "python3"
  },
  "language_info": {
   "codemirror_mode": {
    "name": "ipython",
    "version": 3
   },
   "file_extension": ".py",
   "mimetype": "text/x-python",
   "name": "python",
   "nbconvert_exporter": "python",
   "pygments_lexer": "ipython3",
   "version": "3.9.13"
  }
 },
 "nbformat": 4,
 "nbformat_minor": 5
}
