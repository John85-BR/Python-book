{
 "cells": [
  {
   "cell_type": "code",
   "execution_count": 2,
   "id": "ccdd782b-78ad-46fa-ad4b-79ee373d3f9c",
   "metadata": {},
   "outputs": [
    {
     "name": "stdout",
     "output_type": "stream",
     "text": [
      "22 1984 Doug\n",
      "1984 Doug 22\n"
     ]
    }
   ],
   "source": [
    "def rotate(a,b,c):\n",
    "    return (b,c,a)\n",
    "\n",
    "a = 'Doug'\n",
    "b = 22\n",
    "c = 1984\n",
    "\n",
    "a,b,c = rotate(a,b,c)\n",
    "\n",
    "print(a,b,c)\n",
    "\n",
    "\n",
    "a,b,c = rotate(a,b,c)\n",
    "\n",
    "print(a,b,c)"
   ]
  },
  {
   "cell_type": "code",
   "execution_count": null,
   "id": "5801cc2c-73ec-40e7-b492-858c0a40d5b0",
   "metadata": {},
   "outputs": [],
   "source": []
  }
 ],
 "metadata": {
  "kernelspec": {
   "display_name": "Python 3 (ipykernel)",
   "language": "python",
   "name": "python3"
  },
  "language_info": {
   "codemirror_mode": {
    "name": "ipython",
    "version": 3
   },
   "file_extension": ".py",
   "mimetype": "text/x-python",
   "name": "python",
   "nbconvert_exporter": "python",
   "pygments_lexer": "ipython3",
   "version": "3.9.13"
  }
 },
 "nbformat": 4,
 "nbformat_minor": 5
}
