{
 "cells": [
  {
   "cell_type": "code",
   "execution_count": 10,
   "id": "294943e7-2b6e-45c5-9354-cadf1fe04fe1",
   "metadata": {},
   "outputs": [
    {
     "name": "stdout",
     "output_type": "stream",
     "text": [
      "[2 3 4]\n",
      "['a' 'b' 'c']\n"
     ]
    }
   ],
   "source": [
    "import numpy as np\n",
    "\n",
    "def unique_values(var):\n",
    "    return np.unique(var)\n",
    "\n",
    "print(unique_values([2,2,3,3,4,4]))\n",
    "\n",
    "print(unique_values(['a','a','b','b','c','c']))"
   ]
  },
  {
   "cell_type": "code",
   "execution_count": null,
   "id": "afec50a5-42ee-481b-bb0a-b5a1cfa5ffc3",
   "metadata": {},
   "outputs": [],
   "source": []
  }
 ],
 "metadata": {
  "kernelspec": {
   "display_name": "Python 3 (ipykernel)",
   "language": "python",
   "name": "python3"
  },
  "language_info": {
   "codemirror_mode": {
    "name": "ipython",
    "version": 3
   },
   "file_extension": ".py",
   "mimetype": "text/x-python",
   "name": "python",
   "nbconvert_exporter": "python",
   "pygments_lexer": "ipython3",
   "version": "3.9.13"
  }
 },
 "nbformat": 4,
 "nbformat_minor": 5
}
