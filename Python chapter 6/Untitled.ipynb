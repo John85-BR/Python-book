{
 "cells": [
  {
   "cell_type": "code",
   "execution_count": 5,
   "id": "1a813bd1-67ff-4fbd-b1fb-a56bb4317f9f",
   "metadata": {},
   "outputs": [
    {
     "name": "stdout",
     "output_type": "stream",
     "text": [
      "{'cup sour cream': ' cup yogurt', 'cup milk': ['1/2 cup evaporate milk', '1/2 cup water'], '1 teaspoon lemon juice': '1/2 teaspoon vinegar'}\n"
     ]
    }
   ],
   "source": [
    "ingredients_dictionary = {'cup sour cream':' cup yogurt', 'cup milk':['1/2 cup evaporate milk','1/2 cup water'], \n",
    "                          '1 teaspoon lemon juice':'1/2 teaspoon vinegar'}\n",
    "\n",
    "print(ingredients_dictionary)"
   ]
  },
  {
   "cell_type": "code",
   "execution_count": null,
   "id": "d94d919f-57c7-4a3c-a1ff-79a4a81ebdec",
   "metadata": {},
   "outputs": [],
   "source": []
  }
 ],
 "metadata": {
  "kernelspec": {
   "display_name": "Python 3 (ipykernel)",
   "language": "python",
   "name": "python3"
  },
  "language_info": {
   "codemirror_mode": {
    "name": "ipython",
    "version": 3
   },
   "file_extension": ".py",
   "mimetype": "text/x-python",
   "name": "python",
   "nbconvert_exporter": "python",
   "pygments_lexer": "ipython3",
   "version": "3.9.13"
  }
 },
 "nbformat": 4,
 "nbformat_minor": 5
}
