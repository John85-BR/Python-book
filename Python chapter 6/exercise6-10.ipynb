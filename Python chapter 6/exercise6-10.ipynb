{
 "cells": [
  {
   "cell_type": "code",
   "execution_count": 2,
   "id": "db925415-45c4-4a8b-b460-fb23ca3d8dea",
   "metadata": {},
   "outputs": [
    {
     "name": "stdout",
     "output_type": "stream",
     "text": [
      "{'green', 'blue', 'red'}\n"
     ]
    }
   ],
   "source": [
    "names = {'red','green','blue'}\n",
    "names2 = {'cyan', 'green','blue','magenta','red'}\n",
    "\n",
    "print(names)\n",
    "\n",
    "\n"
   ]
  },
  {
   "cell_type": "code",
   "execution_count": 6,
   "id": "448011dd-42fc-4339-bf6a-7ddcc362a0ef",
   "metadata": {},
   "outputs": [
    {
     "data": {
      "text/plain": [
       "{'blue', 'cyan', 'green', 'magenta', 'red'}"
      ]
     },
     "execution_count": 6,
     "metadata": {},
     "output_type": "execute_result"
    }
   ],
   "source": [
    "names.union(names2)\n"
   ]
  },
  {
   "cell_type": "code",
   "execution_count": 7,
   "id": "2d4ed3c4-e285-4565-ba34-46d010c654bc",
   "metadata": {},
   "outputs": [
    {
     "data": {
      "text/plain": [
       "{'blue', 'green', 'red'}"
      ]
     },
     "execution_count": 7,
     "metadata": {},
     "output_type": "execute_result"
    }
   ],
   "source": [
    "names.intersection(names2)"
   ]
  },
  {
   "cell_type": "code",
   "execution_count": 12,
   "id": "1d6df60a-39be-47e4-97a7-7323b2d16130",
   "metadata": {},
   "outputs": [
    {
     "data": {
      "text/plain": [
       "set()"
      ]
     },
     "execution_count": 12,
     "metadata": {},
     "output_type": "execute_result"
    }
   ],
   "source": [
    "names.difference(names2)"
   ]
  },
  {
   "cell_type": "code",
   "execution_count": 10,
   "id": "ae275132-cdaa-45b4-a9b1-3f8152641667",
   "metadata": {},
   "outputs": [
    {
     "data": {
      "text/plain": [
       "{'cyan', 'magenta'}"
      ]
     },
     "execution_count": 10,
     "metadata": {},
     "output_type": "execute_result"
    }
   ],
   "source": [
    "names.symmetric_difference(names2)"
   ]
  },
  {
   "cell_type": "code",
   "execution_count": 15,
   "id": "5f39d806-0149-409a-a11b-d95787a9c24c",
   "metadata": {},
   "outputs": [
    {
     "data": {
      "text/plain": [
       "False"
      ]
     },
     "execution_count": 15,
     "metadata": {},
     "output_type": "execute_result"
    }
   ],
   "source": [
    "names.isdisjoint(names2)"
   ]
  },
  {
   "cell_type": "code",
   "execution_count": 16,
   "id": "785bfe97-8d8e-4c1b-8cef-797ddc908d09",
   "metadata": {},
   "outputs": [
    {
     "data": {
      "text/plain": [
       "False"
      ]
     },
     "execution_count": 16,
     "metadata": {},
     "output_type": "execute_result"
    }
   ],
   "source": [
    "names==names2"
   ]
  },
  {
   "cell_type": "code",
   "execution_count": 19,
   "id": "7d56a012-b0a0-48ea-b74e-5281505a2480",
   "metadata": {},
   "outputs": [
    {
     "data": {
      "text/plain": [
       "True"
      ]
     },
     "execution_count": 19,
     "metadata": {},
     "output_type": "execute_result"
    }
   ],
   "source": [
    "names.issubset(names2)"
   ]
  },
  {
   "cell_type": "code",
   "execution_count": 20,
   "id": "39b76ef6-fcfa-40a4-a21c-77cb2ce40193",
   "metadata": {},
   "outputs": [
    {
     "data": {
      "text/plain": [
       "False"
      ]
     },
     "execution_count": 20,
     "metadata": {},
     "output_type": "execute_result"
    }
   ],
   "source": [
    "names.issuperset(names2)"
   ]
  },
  {
   "cell_type": "code",
   "execution_count": null,
   "id": "2728a380-df70-4d0e-b201-db3302b4e2f8",
   "metadata": {},
   "outputs": [],
   "source": []
  }
 ],
 "metadata": {
  "kernelspec": {
   "display_name": "Python 3 (ipykernel)",
   "language": "python",
   "name": "python3"
  },
  "language_info": {
   "codemirror_mode": {
    "name": "ipython",
    "version": 3
   },
   "file_extension": ".py",
   "mimetype": "text/x-python",
   "name": "python",
   "nbconvert_exporter": "python",
   "pygments_lexer": "ipython3",
   "version": "3.9.13"
  }
 },
 "nbformat": 4,
 "nbformat_minor": 5
}
