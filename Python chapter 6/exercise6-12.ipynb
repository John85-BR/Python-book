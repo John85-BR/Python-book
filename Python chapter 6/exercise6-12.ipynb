{
 "cells": [
  {
   "cell_type": "code",
   "execution_count": 2,
   "id": "2eceefec-19a3-4eb7-807c-af7987c83785",
   "metadata": {},
   "outputs": [
    {
     "name": "stdout",
     "output_type": "stream",
     "text": [
      "English\tPortuguese\n",
      "True\t   Verdade\n",
      "Justice\t   Justiça\n",
      "Food\t    Comida\n",
      "Pen\t    Caneta\n",
      "Book\t     Livro\n"
     ]
    }
   ],
   "source": [
    "translation_dictionary = {'True':'Verdade', 'Justice':'Justiça','Food':'Comida','Pen':'Caneta','Book':'Livro'}\n",
    "\n",
    "print(f'English\\tPortuguese')\n",
    "for english, portuguese in translation_dictionary.items():\n",
    "    print(f'{english}\\t{portuguese:>10}')"
   ]
  },
  {
   "cell_type": "code",
   "execution_count": null,
   "id": "f76341b9-ce5e-48b1-b779-a37515cc33c0",
   "metadata": {},
   "outputs": [],
   "source": []
  }
 ],
 "metadata": {
  "kernelspec": {
   "display_name": "Python 3 (ipykernel)",
   "language": "python",
   "name": "python3"
  },
  "language_info": {
   "codemirror_mode": {
    "name": "ipython",
    "version": 3
   },
   "file_extension": ".py",
   "mimetype": "text/x-python",
   "name": "python",
   "nbconvert_exporter": "python",
   "pygments_lexer": "ipython3",
   "version": "3.9.13"
  }
 },
 "nbformat": 4,
 "nbformat_minor": 5
}
