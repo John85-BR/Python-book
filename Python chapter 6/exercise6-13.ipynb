{
 "cells": [
  {
   "cell_type": "code",
   "execution_count": 5,
   "id": "4eb7e79b-93e9-4b55-91ad-63006b3a4ff2",
   "metadata": {},
   "outputs": [
    {
     "name": "stdout",
     "output_type": "stream",
     "text": [
      "Offer\n",
      "\taction\n",
      "\tattempt\n",
      "\tbid\n",
      "Try\n",
      "\tseek\n",
      "\tessay\n",
      "\tundertake\n"
     ]
    }
   ],
   "source": [
    "synonyms_dictionary = {'Offer':['action','attempt','bid'], 'Try':['seek','essay','undertake']}\n",
    "\n",
    "\n",
    "for keys, values in synonyms_dictionary.items():\n",
    "    print(f'{keys}')\n",
    "    for i in values:\n",
    "        print(f'\\t{i}')"
   ]
  },
  {
   "cell_type": "code",
   "execution_count": null,
   "id": "a4e06e6f-efdc-45d3-950e-d0cbbfd839b6",
   "metadata": {},
   "outputs": [],
   "source": []
  }
 ],
 "metadata": {
  "kernelspec": {
   "display_name": "Python 3 (ipykernel)",
   "language": "python",
   "name": "python3"
  },
  "language_info": {
   "codemirror_mode": {
    "name": "ipython",
    "version": 3
   },
   "file_extension": ".py",
   "mimetype": "text/x-python",
   "name": "python",
   "nbconvert_exporter": "python",
   "pygments_lexer": "ipython3",
   "version": "3.9.13"
  }
 },
 "nbformat": 4,
 "nbformat_minor": 5
}
