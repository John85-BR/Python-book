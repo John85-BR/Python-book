{
 "cells": [
  {
   "cell_type": "code",
   "execution_count": 1,
   "id": "22cfe853-ca1e-4b72-8be9-640d854dfd24",
   "metadata": {},
   "outputs": [
    {
     "data": {
      "text/plain": [
       "{1, 2, 4, 8, 16, 64, 256}"
      ]
     },
     "execution_count": 1,
     "metadata": {},
     "output_type": "execute_result"
    }
   ],
   "source": [
    "{1,2,4,8,16}|{1,4,16,64,256} #{1,2,4,8,16,64,256}"
   ]
  },
  {
   "cell_type": "code",
   "execution_count": 2,
   "id": "efc437e0-7ddb-487a-9b3e-c365e6de80da",
   "metadata": {},
   "outputs": [
    {
     "data": {
      "text/plain": [
       "{1, 4, 16}"
      ]
     },
     "execution_count": 2,
     "metadata": {},
     "output_type": "execute_result"
    }
   ],
   "source": [
    "{1,2,4,8,16}&{1,4,16,64,256}#{1,4,16}"
   ]
  },
  {
   "cell_type": "code",
   "execution_count": 4,
   "id": "54df2ce6-7c35-4371-a781-a75046de1c5c",
   "metadata": {},
   "outputs": [
    {
     "data": {
      "text/plain": [
       "{2, 8}"
      ]
     },
     "execution_count": 4,
     "metadata": {},
     "output_type": "execute_result"
    }
   ],
   "source": [
    "{1,2,4,8,16}-{1,4,16,64,256}#{2,8}"
   ]
  },
  {
   "cell_type": "code",
   "execution_count": 5,
   "id": "0189b673-eaa2-4c44-9249-473188663333",
   "metadata": {},
   "outputs": [
    {
     "data": {
      "text/plain": [
       "{2, 8, 64, 256}"
      ]
     },
     "execution_count": 5,
     "metadata": {},
     "output_type": "execute_result"
    }
   ],
   "source": [
    "{1,2,4,8,16}^{1,4,16,64,256}#{2,8,64,256}"
   ]
  },
  {
   "cell_type": "code",
   "execution_count": 6,
   "id": "3aa7bae0-24d6-436b-92c7-336aa1d627bb",
   "metadata": {},
   "outputs": [
    {
     "data": {
      "text/plain": [
       "False"
      ]
     },
     "execution_count": 6,
     "metadata": {},
     "output_type": "execute_result"
    }
   ],
   "source": [
    "{1,2,4,8,16}<{1,4,16,64,256}#{False}"
   ]
  },
  {
   "cell_type": "code",
   "execution_count": null,
   "id": "41d0f48a-4498-42ff-8145-a4308f7e3a6c",
   "metadata": {},
   "outputs": [],
   "source": []
  }
 ],
 "metadata": {
  "kernelspec": {
   "display_name": "Python 3 (ipykernel)",
   "language": "python",
   "name": "python3"
  },
  "language_info": {
   "codemirror_mode": {
    "name": "ipython",
    "version": 3
   },
   "file_extension": ".py",
   "mimetype": "text/x-python",
   "name": "python",
   "nbconvert_exporter": "python",
   "pygments_lexer": "ipython3",
   "version": "3.9.13"
  }
 },
 "nbformat": 4,
 "nbformat_minor": 5
}
