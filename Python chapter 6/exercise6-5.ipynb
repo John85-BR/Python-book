{
 "cells": [
  {
   "cell_type": "code",
   "execution_count": 25,
   "id": "17390393-da4e-4be3-a575-33340ee8c493",
   "metadata": {},
   "outputs": [
    {
     "name": "stdout",
     "output_type": "stream",
     "text": [
      "BE          2\n",
      "TO          2\n"
     ]
    }
   ],
   "source": [
    "from collections import Counter\n",
    "\n",
    "text = ('to be or not to be that is . the question . ?')\n",
    "treatment_text = [i for i in text.split() if i not in ['.',',','?',':']]\n",
    "\n",
    "text2 = ''\n",
    "for i in treatment_text:\n",
    "    text2+=i+' '\n",
    " \n",
    "\n",
    "counter = Counter(text2.upper().split())\n",
    "for word, count in sorted(counter.items()):\n",
    "    if count>1:\n",
    "        print(f'{word:<12}{count}') "
   ]
  },
  {
   "cell_type": "code",
   "execution_count": null,
   "id": "8a8b1c39-a1ed-4e10-b8b5-a45ac362f1a6",
   "metadata": {},
   "outputs": [],
   "source": []
  }
 ],
 "metadata": {
  "kernelspec": {
   "display_name": "Python 3 (ipykernel)",
   "language": "python",
   "name": "python3"
  },
  "language_info": {
   "codemirror_mode": {
    "name": "ipython",
    "version": 3
   },
   "file_extension": ".py",
   "mimetype": "text/x-python",
   "name": "python",
   "nbconvert_exporter": "python",
   "pygments_lexer": "ipython3",
   "version": "3.9.13"
  }
 },
 "nbformat": 4,
 "nbformat_minor": 5
}
