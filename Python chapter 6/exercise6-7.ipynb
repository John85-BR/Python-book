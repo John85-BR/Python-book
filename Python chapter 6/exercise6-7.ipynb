{
 "cells": [
  {
   "cell_type": "code",
   "execution_count": 48,
   "id": "f6268f6f-f23d-4995-ae4f-c0e862bf3637",
   "metadata": {},
   "outputs": [
    {
     "name": "stdout",
     "output_type": "stream",
     "text": [
      "a           3\n",
      "d           3\n",
      "e           10\n",
      "f           2\n",
      "h           4\n",
      "i           7\n",
      "l           3\n",
      "m           4\n",
      "n           1\n",
      "o           4\n",
      "p           2\n",
      "r           5\n",
      "s           10\n",
      "t           9\n",
      "v           1\n",
      "w           4\n",
      "x           2\n",
      "Number of unique keys: 17\n",
      "Alphabet letter not in sentence: ['b', 'c', 'g', 'j', 'k', 'q', 'u', 'y', 'z']\n"
     ]
    }
   ],
   "source": [
    "from collections import Counter\n",
    "\n",
    "text = ('this is sample text with several words '\n",
    "        'this is more sample text with some different words')\n",
    "\n",
    "list_letters = [i for i in text if i!=' ']\n",
    "\n",
    "counter = Counter(list_letters)\n",
    "\n",
    "for letter, count in sorted(counter.items()):\n",
    "    print(f'{letter:<12}{count}')\n",
    "    \n",
    "print('Number of unique keys:', len(counter.keys()))\n",
    "\n",
    "alphabet = set('abcdefghijklmnopqrstuvxwyz')\n",
    "\n",
    "print(f'Alphabet letter not in sentence: {sorted(alphabet.difference(list_letters))}')"
   ]
  },
  {
   "cell_type": "code",
   "execution_count": null,
   "id": "26457f65-5150-4cb9-ac56-9aaf1904b9b2",
   "metadata": {},
   "outputs": [],
   "source": []
  }
 ],
 "metadata": {
  "kernelspec": {
   "display_name": "Python 3 (ipykernel)",
   "language": "python",
   "name": "python3"
  },
  "language_info": {
   "codemirror_mode": {
    "name": "ipython",
    "version": 3
   },
   "file_extension": ".py",
   "mimetype": "text/x-python",
   "name": "python",
   "nbconvert_exporter": "python",
   "pygments_lexer": "ipython3",
   "version": "3.9.13"
  }
 },
 "nbformat": 4,
 "nbformat_minor": 5
}
