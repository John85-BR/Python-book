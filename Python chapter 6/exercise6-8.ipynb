{
 "cells": [
  {
   "cell_type": "code",
   "execution_count": 150,
   "id": "a29634da-aaad-48a6-8a07-8368def94e80",
   "metadata": {},
   "outputs": [
    {
     "name": "stdout",
     "output_type": "stream",
     "text": [
      "ONE THOUSANDS ONE HUNDRED NINETY  AND ELEVEN CENTS\n"
     ]
    }
   ],
   "source": [
    "dictionary_numbers = {'0':'','1':'ONE','2':'TWO','3':'THREE','4':'FOUR','5':'FIVE','6':'SIX','7':'SEVEN','8':'EIGHT','9':'NINE','10':'TEN',\n",
    "                      '11':'eleven','12':'twelve','13':'thirteen','14':'fourteen','15':'fifteen','16':'sixteen','17':'seventeen','18':'eighteen','19':'nineteen',\n",
    "                      '20':'twenty','30':'thirty','40':'forty','50':'fifty','60':'sixty','70':'seventy','80':'eighty','90':'ninety',3:'HUNDRED',4:'THOUSANDS'}\n",
    "text = '1190.11'\n",
    "word=''\n",
    "b_pont = ''\n",
    "a_pont = ''\n",
    "\n",
    "try:\n",
    "    for i in range(text.index('.')):\n",
    "        b_pont += text[i]\n",
    "    for i in range(text.index('.')+1, len(text)):\n",
    "        a_pont += text[i]\n",
    "        \n",
    "except ValueError:\n",
    "    for i in range(len(text)):\n",
    "        b_pont += text[i]\n",
    "        \n",
    "if len(b_pont)>2:\n",
    "    word+=dictionary_numbers[b_pont[0]]+ ' '\n",
    "    word+=dictionary_numbers[len(b_pont)]+ ' '\n",
    "    \n",
    "if len(b_pont)==1:\n",
    "    word+=dictionary_numbers[b_pont[0]]\n",
    "elif len(b_pont)==2 and int(b_pont)<20:\n",
    "    word+=dictionary_numbers[b_pont]\n",
    "elif len(b_pont)==2 and int(b_pont)>=20:\n",
    "    word+=dictionary_numbers[b_pont[0]+'0']+' '  if b_pont[0]!='0' else '' \n",
    "    word+=dictionary_numbers[b_pont[1]]\n",
    "    \n",
    "elif len(b_pont)==3:\n",
    "    if int(b_pont[1]+b_pont[2])<20:\n",
    "        word+=dictionary_numbers[b_pont[1]+b_pont[2]]\n",
    "    else:\n",
    "        word+=dictionary_numbers[b_pont[1]+'0']+' '  if b_pont[1]!='0' else '' \n",
    "        word+=dictionary_numbers[b_pont[2]]\n",
    "elif len(b_pont)==4:\n",
    "    word+=dictionary_numbers[b_pont[1]]+' '\n",
    "    word+=dictionary_numbers[len(b_pont)-1]+' ' if b_pont[1]!='0' else '' \n",
    "    if int(b_pont[2]+b_pont[3])<20:\n",
    "        word+=dictionary_numbers[b_pont[2]+b_pont[3]]\n",
    "    elif int(b_pont)>=20:\n",
    "        word+=dictionary_numbers[b_pont[2]+'0']+' '  if b_pont[2]!='0' else '' \n",
    "        word+=dictionary_numbers[b_pont[3]]\n",
    "\n",
    "if len(a_pont)>0:\n",
    "    if a_pont not in ['0','00']:\n",
    "        word+=' and '\n",
    "        if len(a_pont)==2:\n",
    "            if int(a_pont[0]+a_pont[1])<20:\n",
    "                word+=dictionary_numbers[b_pont[0]+b_pont[1]]\n",
    "            else:\n",
    "                word+=dictionary_numbers[a_pont[0]+'0']  + ' ' if a_pont[0]!='0' else '' \n",
    "                word+=dictionary_numbers[a_pont[1]]\n",
    "        elif len(a_pont)==1:\n",
    "            word+=dictionary_numbers[a_pont[0]]\n",
    "\n",
    "        word+=' cents'\n",
    "    \n",
    "print(word.upper())"
   ]
  },
  {
   "cell_type": "code",
   "execution_count": null,
   "id": "77c707ee-0dd7-4519-b415-aca642d65860",
   "metadata": {},
   "outputs": [],
   "source": []
  },
  {
   "cell_type": "code",
   "execution_count": null,
   "id": "73046ebf-6099-45f6-b048-77f041826901",
   "metadata": {},
   "outputs": [],
   "source": []
  }
 ],
 "metadata": {
  "kernelspec": {
   "display_name": "Python 3 (ipykernel)",
   "language": "python",
   "name": "python3"
  },
  "language_info": {
   "codemirror_mode": {
    "name": "ipython",
    "version": 3
   },
   "file_extension": ".py",
   "mimetype": "text/x-python",
   "name": "python",
   "nbconvert_exporter": "python",
   "pygments_lexer": "ipython3",
   "version": "3.9.13"
  }
 },
 "nbformat": 4,
 "nbformat_minor": 5
}
