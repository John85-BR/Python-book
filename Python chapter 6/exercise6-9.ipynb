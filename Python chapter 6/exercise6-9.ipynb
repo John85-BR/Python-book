{
 "cells": [
  {
   "cell_type": "code",
   "execution_count": 22,
   "id": "ac233852-2437-4406-b02c-e022f6b1f5b4",
   "metadata": {},
   "outputs": [
    {
     "name": "stdout",
     "output_type": "stream",
     "text": [
      "ca\n",
      "Canada ca\n",
      "United States us\n",
      "Mexico mx\n",
      "Canada ca\n",
      "United States us\n",
      "Mexico mx\n",
      "Sweden sw\n",
      "Canada ca\n",
      "United States us\n",
      "Mexico mx\n",
      "Sweden se\n",
      "{'ca': 'Canada', 'us': 'United States', 'mx': 'Mexico', 'se': 'Sweden'}\n",
      "{'CANADA': 'ca', 'UNITED STATES': 'us', 'MEXICO': 'mx', 'SWEDEN': 'se'}\n"
     ]
    }
   ],
   "source": [
    "tlds = {'Canada':'ca','United States':'us','Mexico':'mx'}\n",
    "\n",
    "if 'Canada' in tlds:\n",
    "    print(tlds['Canada'])\n",
    "    \n",
    "if 'France' in tlds:\n",
    "    print(tlds['France'])\n",
    "    \n",
    "for keys, value in tlds.items():\n",
    "    print(f'{keys} {value}')\n",
    "    \n",
    "tlds['Sweden'] = 'sw'\n",
    "\n",
    "for keys, value in tlds.items():\n",
    "    print(f'{keys} {value}')\n",
    "    \n",
    "tlds.update(Sweden = 'se')\n",
    "\n",
    "for keys, value in tlds.items():\n",
    "    print(f'{keys} {value}')\n",
    "    \n",
    "    \n",
    "reverse_dic =  {number: name for name,number in tlds.items()} \n",
    "\n",
    "\n",
    "print(reverse_dic)\n",
    "\n",
    "\n",
    "upper = {country.upper() : tld for country,tld in tlds.items()} \n",
    "\n",
    "\n",
    "print(upper)"
   ]
  },
  {
   "cell_type": "code",
   "execution_count": null,
   "id": "e1186a36-baf6-48d0-96e0-fba3e56dd4c1",
   "metadata": {},
   "outputs": [],
   "source": []
  }
 ],
 "metadata": {
  "kernelspec": {
   "display_name": "Python 3 (ipykernel)",
   "language": "python",
   "name": "python3"
  },
  "language_info": {
   "codemirror_mode": {
    "name": "ipython",
    "version": 3
   },
   "file_extension": ".py",
   "mimetype": "text/x-python",
   "name": "python",
   "nbconvert_exporter": "python",
   "pygments_lexer": "ipython3",
   "version": "3.9.13"
  }
 },
 "nbformat": 4,
 "nbformat_minor": 5
}
