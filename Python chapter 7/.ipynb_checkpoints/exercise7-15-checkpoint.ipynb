{
 "cells": [
  {
   "cell_type": "code",
   "execution_count": 3,
   "id": "5be32914-3dca-41b4-b7c9-048080349f37",
   "metadata": {},
   "outputs": [
    {
     "name": "stdout",
     "output_type": "stream",
     "text": [
      "[[0 1]\n",
      " [2 3]\n",
      " [4 5]\n",
      " [6 7]]\n",
      "[[0 1 4 5]\n",
      " [2 3 6 7]]\n",
      "[[0 1 4 5]\n",
      " [2 3 6 7]\n",
      " [0 1 4 5]\n",
      " [2 3 6 7]]\n",
      "[[0 1 0 1]\n",
      " [2 3 2 3]\n",
      " [4 5 4 5]\n",
      " [6 7 6 7]]\n"
     ]
    }
   ],
   "source": [
    "import numpy as np\n",
    "\n",
    "array1 = np.array([[0,1],[2,3]])\n",
    "array2 = np.array([[4,5],[6,7]])\n",
    "\n",
    "array3 = np.concatenate((array1, array2), axis=0) #np.vstack((array1,array2))\n",
    "\n",
    "array4 = np.concatenate((array1, array2), axis=1) #np.hstack((array1,array2))\n",
    "\n",
    "array5 = np.concatenate((array4, array4), axis=0) #np.vstack((array4,array4))\n",
    "\n",
    "array6 = np.concatenate((array3, array3), axis=1) #np.hstack((array3,array3))\n",
    "\n",
    "print(array3)\n",
    "\n",
    "print(array4)\n",
    "\n",
    "print(array5)\n",
    "\n",
    "print(array6)\n",
    "\n"
   ]
  },
  {
   "cell_type": "code",
   "execution_count": null,
   "id": "83c3a2d0-078c-4ef0-b6fa-a4afbfcb98b6",
   "metadata": {},
   "outputs": [],
   "source": []
  }
 ],
 "metadata": {
  "kernelspec": {
   "display_name": "Python 3 (ipykernel)",
   "language": "python",
   "name": "python3"
  },
  "language_info": {
   "codemirror_mode": {
    "name": "ipython",
    "version": 3
   },
   "file_extension": ".py",
   "mimetype": "text/x-python",
   "name": "python",
   "nbconvert_exporter": "python",
   "pygments_lexer": "ipython3",
   "version": "3.9.13"
  }
 },
 "nbformat": 4,
 "nbformat_minor": 5
}
