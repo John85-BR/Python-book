{
 "cells": [
  {
   "cell_type": "code",
   "execution_count": 22,
   "id": "8962f395-adb8-4a36-a49c-41177b168d88",
   "metadata": {},
   "outputs": [
    {
     "name": "stdout",
     "output_type": "stream",
     "text": [
      "[[28 69 14 34 25]\n",
      " [25  0 37 26 61]\n",
      " [69 16 10 19 49]\n",
      " [41 16 37 40 57]\n",
      " [41 21  2 31 82]]\n",
      "[1 0 1 0 0 0 0 0 0 0 1 0 0 0 1 0 2 0 0 1 0 1 0 0 0 2 1 0 1 0 0 1 0 0 1 0 0\n",
      " 2 0 0 1 2 0 0 0 0 0 0 0 1 0 0 0 0 0 0 0 1 0 0 0 1 0 0 0 0 0 0 0 2 0 0 0 0\n",
      " 0 0 0 0 0 0 0 0 1]\n"
     ]
    }
   ],
   "source": [
    "import numpy as np\n",
    "import random as rd\n",
    "\n",
    "array = np.array([rd.randrange(0,100) for i in range(25)]).reshape(5,5)\n",
    "print(array)\n",
    "\n",
    "print(np.bincount(array.flatten()))\n"
   ]
  },
  {
   "cell_type": "code",
   "execution_count": null,
   "id": "d3ef947c-98b4-46a9-9fc9-1c924b3263e1",
   "metadata": {},
   "outputs": [],
   "source": []
  }
 ],
 "metadata": {
  "kernelspec": {
   "display_name": "Python 3 (ipykernel)",
   "language": "python",
   "name": "python3"
  },
  "language_info": {
   "codemirror_mode": {
    "name": "ipython",
    "version": 3
   },
   "file_extension": ".py",
   "mimetype": "text/x-python",
   "name": "python",
   "nbconvert_exporter": "python",
   "pygments_lexer": "ipython3",
   "version": "3.9.13"
  }
 },
 "nbformat": 4,
 "nbformat_minor": 5
}
