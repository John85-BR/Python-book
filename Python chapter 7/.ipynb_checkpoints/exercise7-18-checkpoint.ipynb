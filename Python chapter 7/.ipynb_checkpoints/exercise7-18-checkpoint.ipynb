{
 "cells": [
  {
   "cell_type": "code",
   "execution_count": 7,
   "id": "1eb1fd14-efef-4cbb-a0ef-172167c5d72f",
   "metadata": {},
   "outputs": [
    {
     "name": "stdout",
     "output_type": "stream",
     "text": [
      "[[37 80 80 31 53 26]\n",
      " [23 87 87 24 28 54]\n",
      " [68 23 77 53 55 49]\n",
      " [90 72 18 72 45 15]\n",
      " [86 12 98 79 17 93]\n",
      " [22 90 18 21  9 85]]\n",
      "Median 53.5\n"
     ]
    }
   ],
   "source": [
    "import numpy as np\n",
    "import random as rd\n",
    "\n",
    "def mode_array(array):\n",
    "    \n",
    "    array_test = np.bincount(array.flatten())\n",
    "    return np.where(array_test==max(array_test))[0]\n",
    "    \n",
    "def median_array(array):\n",
    "    array_test = np.sort(array.flatten())\n",
    "    if len(array_test)%2==0:\n",
    "        x = int(len(array_test)/2)\n",
    "        y = int((len(array_test)/2)+1)\n",
    "        value = array_test[x] + array_test[y]\n",
    "     \n",
    "        return value/2\n",
    "    else:\n",
    "        x = (int(len(array_test)/2)+1)-1\n",
    "        return array_test[x]\n",
    "        \n",
    "array = np.array([rd.randrange(0,100) for i in range(36)]).reshape(6,6)\n",
    "print(array)\n",
    "\n",
    "print(f'Median {median_array(array)}')"
   ]
  },
  {
   "cell_type": "code",
   "execution_count": null,
   "id": "fd5a9961-e04c-40c6-8f91-d8aa01afc0b0",
   "metadata": {},
   "outputs": [],
   "source": []
  }
 ],
 "metadata": {
  "kernelspec": {
   "display_name": "Python 3 (ipykernel)",
   "language": "python",
   "name": "python3"
  },
  "language_info": {
   "codemirror_mode": {
    "name": "ipython",
    "version": 3
   },
   "file_extension": ".py",
   "mimetype": "text/x-python",
   "name": "python",
   "nbconvert_exporter": "python",
   "pygments_lexer": "ipython3",
   "version": "3.9.13"
  }
 },
 "nbformat": 4,
 "nbformat_minor": 5
}
