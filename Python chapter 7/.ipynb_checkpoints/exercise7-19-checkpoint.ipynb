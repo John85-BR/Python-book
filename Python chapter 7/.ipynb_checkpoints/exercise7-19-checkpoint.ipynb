{
 "cells": [
  {
   "cell_type": "code",
   "execution_count": 14,
   "id": "b2d9044c-b7a4-41d4-9b7b-05e9833eebfd",
   "metadata": {},
   "outputs": [
    {
     "name": "stdout",
     "output_type": "stream",
     "text": [
      "[30 88 79 54 97] : [30 54 79 88 97]\n",
      "[17 35 61 37 28] : [17 28 35 37 61]\n",
      "[73 85 35 83 89] : [35 73 83 85 89]\n",
      "[46 11 88 58 63] : [11 46 58 63 88]\n",
      "[46 26  4 90 79] : [ 4 26 46 79 90]\n",
      "\n"
     ]
    }
   ],
   "source": [
    "import numpy as np\n",
    "import random as rd\n",
    "\n",
    "def mode_array_2d(array, axis):\n",
    "\n",
    "    text = ''\n",
    "    \n",
    "    if axis==0:\n",
    "        for i in array:\n",
    "            array_test = np.bincount(i)\n",
    "            text += f'{i} : {np.where(array_test==max(array_test))[0]}\\n'\n",
    "    elif axis==1:\n",
    "        for i in array.T:\n",
    "            array_test = np.bincount(i)\n",
    "            text += f'{i} : {np.where(array_test==max(array_test))[0]}\\n'\n",
    "        \n",
    "    return text\n",
    "    \n",
    "def median_array_2d(array, axis):\n",
    "    array_test = np.sort(array.flatten())\n",
    "    if len(array_test)%2==0:\n",
    "        x = len(array_test)/2\n",
    "        y = (len(array_test)/2)+1\n",
    "        value = array_test[x] + array_test[y]\n",
    "        return value/2\n",
    "    else:\n",
    "        x = (int(len(array_test)/2)+1)-1\n",
    "        return array_test[x]\n",
    "        \n",
    "array = np.array([rd.randrange(0,100) for i in range(25)]).reshape(5,5)\n",
    "\n",
    "print(mode_array_2d(array,1))\n"
   ]
  },
  {
   "cell_type": "code",
   "execution_count": null,
   "id": "4dcb0a8d-13da-48be-aa9e-bff81e3353fd",
   "metadata": {},
   "outputs": [],
   "source": []
  }
 ],
 "metadata": {
  "kernelspec": {
   "display_name": "Python 3 (ipykernel)",
   "language": "python",
   "name": "python3"
  },
  "language_info": {
   "codemirror_mode": {
    "name": "ipython",
    "version": 3
   },
   "file_extension": ".py",
   "mimetype": "text/x-python",
   "name": "python",
   "nbconvert_exporter": "python",
   "pygments_lexer": "ipython3",
   "version": "3.9.13"
  }
 },
 "nbformat": 4,
 "nbformat_minor": 5
}
