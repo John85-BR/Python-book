{
 "cells": [
  {
   "cell_type": "code",
   "execution_count": 122,
   "id": "e932f253-af21-41be-ae67-267b8af68f56",
   "metadata": {},
   "outputs": [
    {
     "name": "stdout",
     "output_type": "stream",
     "text": [
      "[[ 0  1  2  3  4]\n",
      " [ 5  6  7  8  9]\n",
      " [10 11 12 13 14]\n",
      " [15 16 17 18 19]\n",
      " [20 21 22 23 24]]\n",
      "\n",
      "[[ 0  1  2  3  4]\n",
      " [ 5  6  7  8  9]\n",
      " [10 11 12 13 14]\n",
      " [15 16 17 18 19]\n",
      " [20 21 22 23 24]]\n"
     ]
    }
   ],
   "source": [
    "import numpy as np\n",
    "\n",
    "def print_array(x,y,array):\n",
    "    conty = 0\n",
    "    contx = 1\n",
    "\n",
    "    if len(array)!=(x*y):\n",
    "        raise ValueError(f'cannot make array of size {len(array)} into shape ({x},{y})')\n",
    "    \n",
    "    length=len(str(array.max()))\n",
    "  \n",
    "    print('[',end='')\n",
    "    for i in range(len(array)):\n",
    "        if i==0:\n",
    "            print('[',end='')\n",
    "        print(f'{array[i]:>{length}}',end='')\n",
    "        conty+=1\n",
    "        if conty==y and contx<x:\n",
    "            print(']',end='')\n",
    "            conty=0\n",
    "            contx+=1    \n",
    "            print()\n",
    "            print(' [',end='')\n",
    "        else:\n",
    "            if i==len(array)-1:\n",
    "                print(']]')\n",
    "            else:\n",
    "                print(end=' ')\n",
    "    print()\n",
    "    \n",
    "array = np.arange(0,25)\n",
    "\n",
    "\n",
    "print_array(5,5,array)\n",
    "\n",
    "#comparation with numpy\n",
    "array2 = np.arange(0,25).reshape(5,5)\n",
    "       \n",
    "print(array2)\n",
    "   \n",
    "       "
   ]
  },
  {
   "cell_type": "code",
   "execution_count": null,
   "id": "774b4e39-d87f-418f-aafb-861b27946fe3",
   "metadata": {},
   "outputs": [],
   "source": []
  }
 ],
 "metadata": {
  "kernelspec": {
   "display_name": "Python 3 (ipykernel)",
   "language": "python",
   "name": "python3"
  },
  "language_info": {
   "codemirror_mode": {
    "name": "ipython",
    "version": 3
   },
   "file_extension": ".py",
   "mimetype": "text/x-python",
   "name": "python",
   "nbconvert_exporter": "python",
   "pygments_lexer": "ipython3",
   "version": "3.9.13"
  }
 },
 "nbformat": 4,
 "nbformat_minor": 5
}
