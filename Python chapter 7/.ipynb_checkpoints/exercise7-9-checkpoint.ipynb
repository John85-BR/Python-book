{
 "cells": [
  {
   "cell_type": "code",
   "execution_count": 19,
   "id": "76cbb318-bf48-48e2-b3eb-0bd127a30ff8",
   "metadata": {},
   "outputs": [
    {
     "name": "stdout",
     "output_type": "stream",
     "text": [
      "[[ 1  2  3  4  5]\n",
      " [ 6  7  8  9 10]\n",
      " [11 12 13 14 15]]\n",
      "\n",
      "[11 12 13 14 15]\n",
      "[[ 5]\n",
      " [10]\n",
      " [15]]\n",
      "[[ 1  2  3  4  5]\n",
      " [ 6  7  8  9 10]]\n",
      "[[ 3  4  5]\n",
      " [ 8  9 10]\n",
      " [13 14 15]]\n",
      "10\n",
      "[[ 6  8 10]\n",
      " [11 13 15]]\n"
     ]
    }
   ],
   "source": [
    "import numpy as np\n",
    "\n",
    "array = np.arange(1,16).reshape(3,5)\n",
    "print(array)\n",
    "print()\n",
    "print(array[2])#a\n",
    "print(array[:,4:5])#b\n",
    "print(array[0:2])#c\n",
    "print(array[:,2:5])#d\n",
    "print(array[1][4])#e\n",
    "print(array[1:3,[0,2,4]])#f"
   ]
  },
  {
   "cell_type": "code",
   "execution_count": null,
   "id": "812638d8-655e-44f3-ab39-c9b0d1303702",
   "metadata": {},
   "outputs": [],
   "source": []
  },
  {
   "cell_type": "code",
   "execution_count": null,
   "id": "001853b3-771f-409a-ba32-aab9a52447f6",
   "metadata": {},
   "outputs": [],
   "source": []
  }
 ],
 "metadata": {
  "kernelspec": {
   "display_name": "Python 3 (ipykernel)",
   "language": "python",
   "name": "python3"
  },
  "language_info": {
   "codemirror_mode": {
    "name": "ipython",
    "version": 3
   },
   "file_extension": ".py",
   "mimetype": "text/x-python",
   "name": "python",
   "nbconvert_exporter": "python",
   "pygments_lexer": "ipython3",
   "version": "3.9.13"
  }
 },
 "nbformat": 4,
 "nbformat_minor": 5
}
