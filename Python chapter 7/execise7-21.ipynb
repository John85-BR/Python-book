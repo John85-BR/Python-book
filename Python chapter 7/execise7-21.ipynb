{
 "cells": [
  {
   "cell_type": "code",
   "execution_count": 6,
   "id": "8b8d2b08-bcba-47d7-890e-59f8b1a053f3",
   "metadata": {},
   "outputs": [
    {
     "name": "stdout",
     "output_type": "stream",
     "text": [
      "{'Sophia': [33, 88]}\n",
      "{'Sophia': [97, 88]}\n"
     ]
    }
   ],
   "source": [
    "import copy\n",
    "\n",
    "dictionary = {'Sophia' : [97,88]}\n",
    "\n",
    "dictionary_copy = copy.deepcopy(dictionary)\n",
    "\n",
    "dictionary_copy['Sophia'][0] = 33\n",
    "print(dictionary_copy)\n",
    "print(dictionary)"
   ]
  },
  {
   "cell_type": "code",
   "execution_count": null,
   "id": "114c78af-9081-4171-b9c6-0f1338926784",
   "metadata": {},
   "outputs": [],
   "source": []
  }
 ],
 "metadata": {
  "kernelspec": {
   "display_name": "Python 3 (ipykernel)",
   "language": "python",
   "name": "python3"
  },
  "language_info": {
   "codemirror_mode": {
    "name": "ipython",
    "version": 3
   },
   "file_extension": ".py",
   "mimetype": "text/x-python",
   "name": "python",
   "nbconvert_exporter": "python",
   "pygments_lexer": "ipython3",
   "version": "3.9.13"
  }
 },
 "nbformat": 4,
 "nbformat_minor": 5
}
