{
 "cells": [
  {
   "cell_type": "code",
   "execution_count": 1,
   "id": "15b99425-c4cf-443f-b79d-6b59c39a1331",
   "metadata": {},
   "outputs": [
    {
     "name": "stdin",
     "output_type": "stream",
     "text": [
      "Specify if you want go first(1) or second(2) 1\n"
     ]
    },
    {
     "name": "stdout",
     "output_type": "stream",
     "text": [
      "[[' ' ' ' ' ']\n",
      " [' ' ' ' ' ']\n",
      " [' ' ' ' ' ']]\n"
     ]
    },
    {
     "name": "stdin",
     "output_type": "stream",
     "text": [
      "Enter with the local where you want to place the mark the X  (x) value 1\n",
      "Enter with the local where you want to place the mark the X  (y) value 1\n"
     ]
    },
    {
     "name": "stdout",
     "output_type": "stream",
     "text": [
      "[[' ' 'O' ' ']\n",
      " [' ' 'X' ' ']\n",
      " [' ' ' ' ' ']]\n"
     ]
    },
    {
     "name": "stdin",
     "output_type": "stream",
     "text": [
      "Enter with the local where you want to place the mark the X  (x) value 0\n",
      "Enter with the local where you want to place the mark the X  (y) value 0\n"
     ]
    },
    {
     "name": "stdout",
     "output_type": "stream",
     "text": [
      "[['X' 'O' ' ']\n",
      " [' ' 'X' 'O']\n",
      " [' ' ' ' ' ']]\n"
     ]
    },
    {
     "name": "stdin",
     "output_type": "stream",
     "text": [
      "Enter with the local where you want to place the mark the X  (x) value 2\n",
      "Enter with the local where you want to place the mark the X  (y) value 0\n"
     ]
    },
    {
     "name": "stdout",
     "output_type": "stream",
     "text": [
      "[['X' 'O' ' ']\n",
      " ['O' 'X' 'O']\n",
      " ['X' ' ' ' ']]\n"
     ]
    },
    {
     "name": "stdin",
     "output_type": "stream",
     "text": [
      "Enter with the local where you want to place the mark the X  (x) value 2\n",
      "Enter with the local where you want to place the mark the X  (y) value 1\n"
     ]
    },
    {
     "name": "stdout",
     "output_type": "stream",
     "text": [
      "[['X' 'O' ' ']\n",
      " ['O' 'X' 'O']\n",
      " ['X' 'X' 'O']]\n"
     ]
    },
    {
     "name": "stdin",
     "output_type": "stream",
     "text": [
      "Enter with the local where you want to place the mark the X  (x) value 0\n",
      "Enter with the local where you want to place the mark the X  (y) value 2\n"
     ]
    },
    {
     "name": "stdout",
     "output_type": "stream",
     "text": [
      "player1 winner\n",
      "[['X' 'O' 'X']\n",
      " ['O' 'X' 'O']\n",
      " ['X' 'X' 'O']]\n"
     ]
    }
   ],
   "source": [
    "import numpy as np\n",
    "import random as rd\n",
    "\n",
    "def check_winner(array, char):\n",
    "    for i in range(1,4):\n",
    "        if np.all(array[(i-1):i]==char):\n",
    "            return True\n",
    "        if np.all(array[: , (i-1):i]==char):\n",
    "            return True\n",
    "        if array[0][0]==char and array[1][1]==char and array[2][2]==char:\n",
    "            return True\n",
    "        if array[0][2]==char and array[1][1]==char and array[2][0]==char:\n",
    "            return True\n",
    "    return False\n",
    "\n",
    "array = np.full((3,3),' ')\n",
    "cont = 0\n",
    "table_full = False\n",
    "has_winner = False\n",
    "\n",
    "choice = int(input('Specify if you want go first(1) or second(2)' ))\n",
    "player1_char = ''\n",
    "player2_char = ''\n",
    "\n",
    "if choice==1:\n",
    "    player1_char = 'X'\n",
    "    player2_char = 'O'\n",
    "else:\n",
    "    player1_char = 'O'\n",
    "    player2_char = 'X'\n",
    "    \n",
    "while not np.all(table_full) and not has_winner:\n",
    "    \n",
    "    print(array)\n",
    "    \n",
    "    if choice ==1:\n",
    "        \n",
    "        x = int(input(f'Enter with the local where you want to place the mark the {player1_char}  (x) value' ))\n",
    "        y = int(input(f'Enter with the local where you want to place the mark the {player1_char}  (y) value' ))\n",
    "\n",
    "        while True and not has_winner:\n",
    "            if x < 3 and y < 3:\n",
    "                if array[(x,y)] == ' ':        \n",
    "                    array[(x,y)] = player1_char\n",
    "                    if check_winner(array,player1_char):\n",
    "                        print(f'player1 winner')\n",
    "                        has_winner = True\n",
    "                    break        \n",
    "                else:\n",
    "                    x = int(input(f'Enter with in the empty local where you want to place the mark the {player1_char}  (x) value' ))\n",
    "                    y = int(input(f'Enter with in the empty local where you want to place the mark the {player1_char}  (y) value' ))\n",
    "            else:\n",
    "                x = int(input(f'Enter with in the empty local where you want to place the mark the {player1_char} (x) value' ))\n",
    "                y = int(input(f'Enter with in the empty local where you want to place the mark the {player1_char} (y) value' ))\n",
    "    \n",
    "    while True and not has_winner:\n",
    "        player2 = (rd.randrange(0,3),rd.randrange(0,3))\n",
    "        if array[player2] == ' ':        \n",
    "            array[player2] = player2_char  \n",
    "            if check_winner(array,player2_char):\n",
    "                print('Player2 winner')\n",
    "                has_winner = True\n",
    "            break\n",
    "    table_full = array!=' ' \n",
    "    choice=1\n",
    "\n",
    "if np.all(table_full) and not has_winner:\n",
    "    print('draw')\n",
    "print(array)\n",
    "\n"
   ]
  },
  {
   "cell_type": "code",
   "execution_count": null,
   "id": "4ff3508d-3567-410b-8b48-38c5ed8f2e47",
   "metadata": {},
   "outputs": [],
   "source": []
  }
 ],
 "metadata": {
  "kernelspec": {
   "display_name": "Python 3 (ipykernel)",
   "language": "python",
   "name": "python3"
  },
  "language_info": {
   "codemirror_mode": {
    "name": "ipython",
    "version": 3
   },
   "file_extension": ".py",
   "mimetype": "text/x-python",
   "name": "python",
   "nbconvert_exporter": "python",
   "pygments_lexer": "ipython3",
   "version": "3.9.13"
  }
 },
 "nbformat": 4,
 "nbformat_minor": 5
}
