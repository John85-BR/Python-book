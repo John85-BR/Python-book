{
 "cells": [
  {
   "cell_type": "code",
   "execution_count": 9,
   "id": "5e119559-193a-4c9f-ac0a-254047dbd9ed",
   "metadata": {},
   "outputs": [
    {
     "name": "stdout",
     "output_type": "stream",
     "text": [
      "[['-' '*' '-' '*' '-' '*']\n",
      " ['-' '*' '-' '*' '-' '*']\n",
      " ['-' '*' '-' '*' '-' '*']\n",
      " ['-' '*' '-' '*' '-' '*']\n",
      " ['-' '*' '-' '*' '-' '*']\n",
      " ['-' '*' '-' '*' '-' '*']\n",
      " ['-' '*' '-' '*' '-' '*']]\n"
     ]
    }
   ],
   "source": [
    "import numpy as np\n",
    "\n",
    "x = np.array(['-','*'])\n",
    "y = np.tile(x, (7,3))\n",
    "\n",
    "print(y)"
   ]
  },
  {
   "cell_type": "code",
   "execution_count": null,
   "id": "bc135d16-a2c0-4a83-ab44-b916d28b4770",
   "metadata": {},
   "outputs": [],
   "source": []
  }
 ],
 "metadata": {
  "kernelspec": {
   "display_name": "Python 3 (ipykernel)",
   "language": "python",
   "name": "python3"
  },
  "language_info": {
   "codemirror_mode": {
    "name": "ipython",
    "version": 3
   },
   "file_extension": ".py",
   "mimetype": "text/x-python",
   "name": "python",
   "nbconvert_exporter": "python",
   "pygments_lexer": "ipython3",
   "version": "3.9.13"
  }
 },
 "nbformat": 4,
 "nbformat_minor": 5
}
