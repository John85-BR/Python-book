{
 "cells": [
  {
   "cell_type": "code",
   "execution_count": 35,
   "id": "b2d9044c-b7a4-41d4-9b7b-05e9833eebfd",
   "metadata": {},
   "outputs": [
    {
     "name": "stdout",
     "output_type": "stream",
     "text": [
      "[23 93 90 71 46  7] : [ 7 23 46 71 90 93]\n",
      "[28 22 43 27 40 20] : [20 22 27 28 40 43]\n",
      "[74 93 77 54 73 63] : [54 63 73 74 77 93]\n",
      "[53 65 75 10  3 93] : [ 3 10 53 65 75 93]\n",
      "[ 1 32  7 87 85 95] : [ 1  7 32 85 87 95]\n",
      "[ 4  1  1 52 81 44] : [1]\n",
      "\n",
      "[ 1  4 23 28 53 74] : 40.5\n",
      "[ 1 22 32 65 93 93] : 79.0\n",
      "[ 1  7 43 75 77 90] : 76.0\n",
      "[10 27 52 54 71 87] : 62.5\n",
      "[ 3 40 46 73 81 85] : 77.0\n",
      "[ 7 20 44 63 93 95] : 78.0\n",
      "\n"
     ]
    }
   ],
   "source": [
    "import numpy as np\n",
    "import random as rd\n",
    "\n",
    "def mode_array_2d(array, axis):\n",
    "\n",
    "    text = ''\n",
    "    \n",
    "    if axis==0:\n",
    "        for i in array:\n",
    "            array_test = np.bincount(i)\n",
    "            text += f'{i} : {np.where(array_test==max(array_test))[0]}\\n'\n",
    "        return text\n",
    "    elif axis==1:\n",
    "        for i in array.T:\n",
    "            array_test = np.bincount(i)\n",
    "            text += f'{i} : {np.where(array_test==max(array_test))[0]}\\n'\n",
    "        return text\n",
    "    else:\n",
    "        return f'Error: Axis must be 1 or 0'\n",
    "\n",
    "    \n",
    "def median_array_2d(array, axis):\n",
    "    \n",
    "    text = ''\n",
    "    \n",
    "    if axis==0:\n",
    "        for i in array:\n",
    "            array_test = np.sort(i)\n",
    "            if len(array_test)%2==0:\n",
    "                x = int(len(array_test)/2)\n",
    "                y = int((len(array_test)/2)+1)\n",
    "                value = array_test[x] + array_test[y]\n",
    "                text += f'{array_test} : {value/2}\\n'\n",
    "            else:\n",
    "                x = (int(len(array_test)/2)+1)-1\n",
    "                text += f'{array_test} : {array_test[x]}\\n'\n",
    "        return text\n",
    "        \n",
    "    elif axis==1:\n",
    "        for i in array.T:\n",
    "            array_test = np.sort(i)\n",
    "            if len(array_test)%2==0:\n",
    "                x = int(len(array_test)/2)\n",
    "                y = int((len(array_test)/2)+1)\n",
    "                value = array_test[x] + array_test[y]           \n",
    "                text += f'{array_test} : {value/2}\\n'\n",
    "            else:\n",
    "                x = (int(len(array_test)/2)+1)-1\n",
    "                text += f'{array_test} : {array_test[x]}\\n'\n",
    "        return text\n",
    "    else:\n",
    "        return f'Error: Axis must be 1 or 0'\n",
    "    \n",
    "\n",
    "array = np.array([rd.randrange(0,100) for i in range(36)]).reshape(6,6)\n",
    "\n",
    "print(mode_array_2d(array,0))\n",
    "print(median_array_2d(array,1))"
   ]
  },
  {
   "cell_type": "code",
   "execution_count": null,
   "id": "4dcb0a8d-13da-48be-aa9e-bff81e3353fd",
   "metadata": {},
   "outputs": [],
   "source": []
  }
 ],
 "metadata": {
  "kernelspec": {
   "display_name": "Python 3 (ipykernel)",
   "language": "python",
   "name": "python3"
  },
  "language_info": {
   "codemirror_mode": {
    "name": "ipython",
    "version": 3
   },
   "file_extension": ".py",
   "mimetype": "text/x-python",
   "name": "python",
   "nbconvert_exporter": "python",
   "pygments_lexer": "ipython3",
   "version": "3.9.13"
  }
 },
 "nbformat": 4,
 "nbformat_minor": 5
}
