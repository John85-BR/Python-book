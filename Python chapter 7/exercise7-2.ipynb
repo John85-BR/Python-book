{
 "cells": [
  {
   "cell_type": "code",
   "execution_count": 7,
   "id": "1931d373-af90-43d7-adc2-93056a1b873b",
   "metadata": {},
   "outputs": [
    {
     "name": "stdout",
     "output_type": "stream",
     "text": [
      "[[ 0  1]\n",
      " [ 8 27]]\n",
      "[[ 7  8]\n",
      " [ 9 10]]\n",
      "[[0 2]\n",
      " [4 6]]\n"
     ]
    }
   ],
   "source": [
    "import numpy as np\n",
    "\n",
    "array = np.arange(0,4).reshape(2,2)\n",
    "\n",
    "print(array**3)#a\n",
    "print(array+7)#b\n",
    "print(array*2)#c"
   ]
  },
  {
   "cell_type": "code",
   "execution_count": null,
   "id": "626d6c75-81ac-4126-8649-f9c9c500a8a8",
   "metadata": {},
   "outputs": [],
   "source": []
  }
 ],
 "metadata": {
  "kernelspec": {
   "display_name": "Python 3 (ipykernel)",
   "language": "python",
   "name": "python3"
  },
  "language_info": {
   "codemirror_mode": {
    "name": "ipython",
    "version": 3
   },
   "file_extension": ".py",
   "mimetype": "text/x-python",
   "name": "python",
   "nbconvert_exporter": "python",
   "pygments_lexer": "ipython3",
   "version": "3.9.13"
  }
 },
 "nbformat": 4,
 "nbformat_minor": 5
}
