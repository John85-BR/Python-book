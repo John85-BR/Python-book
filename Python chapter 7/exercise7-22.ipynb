{
 "cells": [
  {
   "cell_type": "code",
   "execution_count": 19,
   "id": "67e9720f-603c-4304-be0e-2998d093b9a2",
   "metadata": {},
   "outputs": [
    {
     "name": "stdout",
     "output_type": "stream",
     "text": [
      "0     7\n",
      "1    11\n",
      "2    13\n",
      "3    17\n",
      "dtype: int64\n",
      "0    100\n",
      "1    100\n",
      "2    100\n",
      "3    100\n",
      "4    100\n",
      "dtype: int32\n",
      "count    20.000000\n",
      "mean     45.800000\n",
      "std      26.747553\n",
      "min       6.000000\n",
      "25%      24.500000\n",
      "50%      45.000000\n",
      "75%      64.000000\n",
      "max      93.000000\n",
      "dtype: float64\n",
      "Julie       98.6\n",
      "Charlie     98.9\n",
      "Sam        100.2\n",
      "Andrea      97.9\n",
      "dtype: float64\n",
      "Julie       98.6\n",
      "Charlie     98.9\n",
      "Sam        100.2\n",
      "Andrea      97.9\n",
      "dtype: float64\n"
     ]
    }
   ],
   "source": [
    "import pandas as pd\n",
    "import numpy as np\n",
    "import random as rd\n",
    "\n",
    "list_pd = pd.Series([7,11,13,17])\n",
    "\n",
    "print(list_pd)\n",
    "\n",
    "list2_pd = pd.Series(np.full(5,100))\n",
    "\n",
    "print(list2_pd)\n",
    "\n",
    "list3_pd = pd.Series(np.array([rd.randrange(0,100) for i in range(20)]))\n",
    "\n",
    "print(list3_pd.describe())\n",
    "\n",
    "temperatures = pd.Series([98.6,98.9,100.2,97.9], index=['Julie','Charlie','Sam','Andrea'])\n",
    "\n",
    "print(temperatures)\n",
    "\n",
    "dictionary_temperatures = {'Julie': 98.6, 'Charlie': 98.9, 'Sam': 100.2, 'Andrea': 97.9}\n",
    "\n",
    "temperatures2 = pd.Series(dictionary_temperatures)\n",
    "\n",
    "print(temperatures2)"
   ]
  },
  {
   "cell_type": "code",
   "execution_count": null,
   "id": "3adf0be4-d83e-4a30-9496-87363ebe5219",
   "metadata": {},
   "outputs": [],
   "source": []
  }
 ],
 "metadata": {
  "kernelspec": {
   "display_name": "Python 3 (ipykernel)",
   "language": "python",
   "name": "python3"
  },
  "language_info": {
   "codemirror_mode": {
    "name": "ipython",
    "version": 3
   },
   "file_extension": ".py",
   "mimetype": "text/x-python",
   "name": "python",
   "nbconvert_exporter": "python",
   "pygments_lexer": "ipython3",
   "version": "3.9.13"
  }
 },
 "nbformat": 4,
 "nbformat_minor": 5
}
