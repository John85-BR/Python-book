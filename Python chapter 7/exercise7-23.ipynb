{
 "cells": [
  {
   "cell_type": "code",
   "execution_count": 23,
   "id": "e2d548df-d3a9-4b45-a28a-934ee90fdcc4",
   "metadata": {},
   "outputs": [
    {
     "name": "stdout",
     "output_type": "stream",
     "text": [
      "   Maxine  James  Amanda\n",
      "0      10     11      12\n",
      "1      11     12      13\n",
      "2      12     13      14\n",
      "           Maxine  James  Amanda\n",
      "Morning        10     11      12\n",
      "Afternoon      11     12      13\n",
      "Evening        12     13      14\n",
      "Morning      10\n",
      "Afternoon    11\n",
      "Evening      12\n",
      "Name: Maxine, dtype: int64\n",
      "Maxine    10\n",
      "James     11\n",
      "Amanda    12\n",
      "Name: Morning, dtype: int64\n",
      "         Maxine  James  Amanda\n",
      "Morning      10     11      12\n",
      "Evening      12     13      14\n",
      "           Amanda  Maxine\n",
      "Morning        12      10\n",
      "Afternoon      13      11\n",
      "Evening        14      12\n",
      "         Amanda  Maxine\n",
      "Morning      12      10\n",
      "Evening      14      12\n",
      "       Maxine  James  Amanda\n",
      "count     3.0    3.0     3.0\n",
      "mean     11.0   12.0    13.0\n",
      "std       1.0    1.0     1.0\n",
      "min      10.0   11.0    12.0\n",
      "25%      10.5   11.5    12.5\n",
      "50%      11.0   12.0    13.0\n",
      "75%      11.5   12.5    13.5\n",
      "max      12.0   13.0    14.0\n",
      "        Morning  Afternoon  Evening\n",
      "Maxine       10         11       12\n",
      "James        11         12       13\n",
      "Amanda       12         13       14\n",
      "        Morning  Afternoon  Evening\n",
      "Amanda       12         13       14\n",
      "James        11         12       13\n",
      "Maxine       10         11       12\n"
     ]
    }
   ],
   "source": [
    "import numpy as np\n",
    "import pandas as pd\n",
    "\n",
    "dict_ = {'Maxine':[10,11,12], 'James':[11,12,13], 'Amanda':[12,13,14]}\n",
    "\n",
    "temperatures = pd.DataFrame(dict_)\n",
    "\n",
    "\n",
    "print(temperatures)\n",
    "\n",
    "temperatures = pd.DataFrame(dict_, index = ['Morning', 'Afternoon','Evening'])\n",
    "\n",
    "\n",
    "print(temperatures)\n",
    "\n",
    "print(temperatures['Maxine'])\n",
    "\n",
    "print(temperatures.loc['Morning'])\n",
    "\n",
    "print(temperatures.loc[['Morning','Evening']])\n",
    "\n",
    "print(temperatures[['Amanda','Maxine']])\n",
    "\n",
    "print(temperatures[['Amanda','Maxine']].loc[['Morning','Evening']])\n",
    "\n",
    "print(temperatures.describe())\n",
    "\n",
    "print(temperatures.T)\n",
    "\n",
    "\n",
    "print(temperatures.T.sort_values(by='Morning', ascending=False))"
   ]
  },
  {
   "cell_type": "code",
   "execution_count": null,
   "id": "a57549f7-64f4-4623-84d2-5b3a25ba208e",
   "metadata": {},
   "outputs": [],
   "source": []
  }
 ],
 "metadata": {
  "kernelspec": {
   "display_name": "Python 3 (ipykernel)",
   "language": "python",
   "name": "python3"
  },
  "language_info": {
   "codemirror_mode": {
    "name": "ipython",
    "version": 3
   },
   "file_extension": ".py",
   "mimetype": "text/x-python",
   "name": "python",
   "nbconvert_exporter": "python",
   "pygments_lexer": "ipython3",
   "version": "3.9.13"
  }
 },
 "nbformat": 4,
 "nbformat_minor": 5
}
