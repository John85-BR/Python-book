{
 "cells": [
  {
   "cell_type": "code",
   "execution_count": 16,
   "id": "eef387d5-060e-46bb-8c2a-c6ba8e78b61b",
   "metadata": {},
   "outputs": [
    {
     "name": "stdout",
     "output_type": "stream",
     "text": [
      "[[18 32 42]\n",
      " [48 50 48]\n",
      " [42 32 18]]\n"
     ]
    }
   ],
   "source": [
    "import numpy as np\n",
    "\n",
    "array = np.array([x for x in range(2,19) if x%2==0]).reshape(3,3)\n",
    "\n",
    "array2 = np.array([x for x in range(9,0,-1)]).reshape(3,3)\n",
    "\n",
    "print(array*array2)"
   ]
  },
  {
   "cell_type": "code",
   "execution_count": null,
   "id": "a7a67c2e-1202-4c84-bf6d-213f0c0d6dda",
   "metadata": {},
   "outputs": [],
   "source": []
  }
 ],
 "metadata": {
  "kernelspec": {
   "display_name": "Python 3 (ipykernel)",
   "language": "python",
   "name": "python3"
  },
  "language_info": {
   "codemirror_mode": {
    "name": "ipython",
    "version": 3
   },
   "file_extension": ".py",
   "mimetype": "text/x-python",
   "name": "python",
   "nbconvert_exporter": "python",
   "pygments_lexer": "ipython3",
   "version": "3.9.13"
  }
 },
 "nbformat": 4,
 "nbformat_minor": 5
}
