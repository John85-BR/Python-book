{
 "cells": [
  {
   "cell_type": "code",
   "execution_count": 39,
   "id": "9824c754-f7d2-4440-a281-33fcd0fbc19f",
   "metadata": {},
   "outputs": [
    {
     "name": "stdout",
     "output_type": "stream",
     "text": [
      "[ 1  2  4  8 16 32]\n",
      "[[ 1  2  4]\n",
      " [ 8 16 32]]\n",
      "[ 1  2  4  8 16 32]\n",
      "[[ 1  2  4]\n",
      " [ 8 16 32]]\n",
      "[ 0  2  4  8 16 32]\n",
      "[[ 0  2  4]\n",
      " [ 8 16 32]]\n"
     ]
    }
   ],
   "source": [
    "import numpy as np\n",
    "\n",
    "array = (np.full((1,6),2) ** np.arange(0,6)).reshape(2,3)\n",
    "flattened = array.flatten()\n",
    "print(flattened)\n",
    "print(array)\n",
    "\n",
    "raveled = array.ravel()\n",
    "print(raveled)\n",
    "print(array)\n",
    "\n",
    "raveled[0]=0\n",
    "\n",
    "print(raveled)\n",
    "print(array)"
   ]
  },
  {
   "cell_type": "code",
   "execution_count": null,
   "id": "cf6785db-72d2-4d33-b280-350d320ee720",
   "metadata": {},
   "outputs": [],
   "source": []
  }
 ],
 "metadata": {
  "kernelspec": {
   "display_name": "Python 3 (ipykernel)",
   "language": "python",
   "name": "python3"
  },
  "language_info": {
   "codemirror_mode": {
    "name": "ipython",
    "version": 3
   },
   "file_extension": ".py",
   "mimetype": "text/x-python",
   "name": "python",
   "nbconvert_exporter": "python",
   "pygments_lexer": "ipython3",
   "version": "3.9.13"
  }
 },
 "nbformat": 4,
 "nbformat_minor": 5
}
