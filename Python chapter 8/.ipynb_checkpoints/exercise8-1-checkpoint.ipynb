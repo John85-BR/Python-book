{
 "cells": [
  {
   "cell_type": "code",
   "execution_count": 40,
   "id": "7a0793a4-4761-4b2c-b432-2cb4c08c045e",
   "metadata": {},
   "outputs": [
    {
     "name": "stdout",
     "output_type": "stream",
     "text": [
      "----------\n",
      "****399.87\n",
      "----------\n",
      "399.87****\n",
      "----------\n",
      "**399.87**\n"
     ]
    }
   ],
   "source": [
    "number = 399.87\n",
    "\n",
    "print('----------')\n",
    "print(f'{399.87:*>10}')\n",
    "\n",
    "print('----------')\n",
    "print(f'{399.87:*<10}')\n",
    "\n",
    "print('----------')\n",
    "print(f'{399.87:*^10}')"
   ]
  },
  {
   "cell_type": "code",
   "execution_count": null,
   "id": "996838be-dfec-463d-bbb8-2830bba5a3dc",
   "metadata": {},
   "outputs": [],
   "source": []
  }
 ],
 "metadata": {
  "kernelspec": {
   "display_name": "Python 3 (ipykernel)",
   "language": "python",
   "name": "python3"
  },
  "language_info": {
   "codemirror_mode": {
    "name": "ipython",
    "version": 3
   },
   "file_extension": ".py",
   "mimetype": "text/x-python",
   "name": "python",
   "nbconvert_exporter": "python",
   "pygments_lexer": "ipython3",
   "version": "3.9.13"
  }
 },
 "nbformat": 4,
 "nbformat_minor": 5
}
