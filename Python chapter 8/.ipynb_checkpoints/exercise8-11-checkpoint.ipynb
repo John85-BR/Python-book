{
 "cells": [
  {
   "cell_type": "code",
   "execution_count": 6,
   "id": "b9f2f260-fc0c-4a81-8078-f467946036c9",
   "metadata": {},
   "outputs": [
    {
     "name": "stdout",
     "output_type": "stream",
     "text": [
      "-1\n"
     ]
    }
   ],
   "source": [
    "numbers = {'one':1, 'two':2, 'three':3, 'four':4,'five':5, 'six':6,'seven':7, 'eight':8, 'nine':9}\n",
    "\n",
    "\n",
    "string = \"two minus three\"\n",
    "\n",
    "list_string = string.split(' ')\n",
    "result = 0\n",
    "if list_string[1]=='times':\n",
    "    result = numbers[list_string[0]]*numbers[list_string[2]]\n",
    "elif list_string[1]=='plus':\n",
    "    result = numbers[list_string[0]]+numbers[list_string[2]]\n",
    "elif list_string[1]=='minus':\n",
    "    result = numbers[list_string[0]]-numbers[list_string[2]]\n",
    "elif list_string[1]=='divided by':\n",
    "    result = numbers[list_string[0]]/numbers[list_string[2]]\n",
    "print(result)\n"
   ]
  },
  {
   "cell_type": "code",
   "execution_count": null,
   "id": "a823fe46-9ecb-4e18-9630-280bcbbf2ff7",
   "metadata": {},
   "outputs": [],
   "source": []
  }
 ],
 "metadata": {
  "kernelspec": {
   "display_name": "Python 3 (ipykernel)",
   "language": "python",
   "name": "python3"
  },
  "language_info": {
   "codemirror_mode": {
    "name": "ipython",
    "version": 3
   },
   "file_extension": ".py",
   "mimetype": "text/x-python",
   "name": "python",
   "nbconvert_exporter": "python",
   "pygments_lexer": "ipython3",
   "version": "3.9.13"
  }
 },
 "nbformat": 4,
 "nbformat_minor": 5
}
