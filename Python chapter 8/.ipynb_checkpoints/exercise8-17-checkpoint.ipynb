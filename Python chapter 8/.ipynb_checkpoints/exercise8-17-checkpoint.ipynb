{
 "cells": [
  {
   "cell_type": "code",
   "execution_count": 293,
   "id": "074590bc-b901-497c-988c-0a260fcd7a75",
   "metadata": {},
   "outputs": [
    {
     "name": "stdout",
     "output_type": "stream",
     "text": [
      "[(' ', '*', '12345', '.12222', ' ')]\n"
     ]
    }
   ],
   "source": [
    "import re\n",
    "\n",
    "string1 = ' *12345.12222 1456745.12222'\n",
    "\n",
    "result = re.findall('([\\s+])([-+*/])*(\\d+)(.[1-9]+[0-9]*)*([\\s+])', string1)\n",
    "\n",
    "print(result)"
   ]
  },
  {
   "cell_type": "code",
   "execution_count": null,
   "id": "92ea9380-50c5-4026-99a7-44ace9fe5cb5",
   "metadata": {},
   "outputs": [],
   "source": []
  },
  {
   "cell_type": "code",
   "execution_count": null,
   "id": "dce56fe4-312f-48d4-8be8-e3d5bd128cff",
   "metadata": {},
   "outputs": [],
   "source": []
  }
 ],
 "metadata": {
  "kernelspec": {
   "display_name": "Python 3 (ipykernel)",
   "language": "python",
   "name": "python3"
  },
  "language_info": {
   "codemirror_mode": {
    "name": "ipython",
    "version": 3
   },
   "file_extension": ".py",
   "mimetype": "text/x-python",
   "name": "python",
   "nbconvert_exporter": "python",
   "pygments_lexer": "ipython3",
   "version": "3.9.13"
  }
 },
 "nbformat": 4,
 "nbformat_minor": 5
}
