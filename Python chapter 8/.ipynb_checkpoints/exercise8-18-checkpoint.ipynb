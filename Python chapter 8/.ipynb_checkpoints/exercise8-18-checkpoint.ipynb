{
 "cells": [
  {
   "cell_type": "code",
   "execution_count": 136,
   "id": "dc442e92-97f5-4b07-acdf-5de6210b54b9",
   "metadata": {},
   "outputs": [
    {
     "name": "stdout",
     "output_type": "stream",
     "text": [
      "\\w[-,._\\s]\\w[-,._\\s]\\w[-,._\\s]\\w[-,._\\s]\\w\n",
      "match\n",
      "match\n"
     ]
    }
   ],
   "source": [
    "import re\n",
    "\n",
    "password1= 'a-b-c,d.e'\n",
    "\n",
    "#FIRST CONDITION PASSWORD\n",
    "string2 = re.sub('\\W','',password1)\n",
    "\n",
    "if len(string2)>=5:\n",
    "\n",
    "    condition = '\\w'\n",
    "\n",
    "    for i in range(len(string2)-1):\n",
    "        condition+='[-,._\\s]\\w'\n",
    "\n",
    "    print(condition)\n",
    "    result = re.fullmatch(condition,password1)\n",
    "    print('match' if result else 'no match')\n",
    "else:\n",
    "    print('no match')\n",
    "\n",
    "#SECOND CONDITION PASSWORD\n",
    "\n",
    "password2= 'aBjr123.?'\n",
    "\n",
    "if len(password2)>=8:\n",
    "\n",
    "    if re.search('[!@#$%<^>&*?]',password2) and \\\n",
    "    re.search('[0-9]',password2) and \\\n",
    "    re.search('[a-z]',password2) and \\\n",
    "    re.search('[A-Z]',password2):\n",
    "        print('match')\n",
    "    else:\n",
    "        print('no match')\n",
    "            \n",
    "    \n",
    "    \n",
    "else:\n",
    "    print('no match')\n"
   ]
  },
  {
   "cell_type": "code",
   "execution_count": null,
   "id": "de7191f3-6015-4680-9d2d-1efea0b16205",
   "metadata": {},
   "outputs": [],
   "source": []
  }
 ],
 "metadata": {
  "kernelspec": {
   "display_name": "Python 3 (ipykernel)",
   "language": "python",
   "name": "python3"
  },
  "language_info": {
   "codemirror_mode": {
    "name": "ipython",
    "version": 3
   },
   "file_extension": ".py",
   "mimetype": "text/x-python",
   "name": "python",
   "nbconvert_exporter": "python",
   "pygments_lexer": "ipython3",
   "version": "3.9.13"
  }
 },
 "nbformat": 4,
 "nbformat_minor": 5
}
