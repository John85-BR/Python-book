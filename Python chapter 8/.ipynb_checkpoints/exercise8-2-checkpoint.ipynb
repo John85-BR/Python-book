{
 "cells": [
  {
   "cell_type": "code",
   "execution_count": 7,
   "id": "a7f074b2-bd94-47f2-bc75-028f1e5be46c",
   "metadata": {},
   "outputs": [
    {
     "name": "stdout",
     "output_type": "stream",
     "text": [
      "A year eat across.\n",
      "The people imitate against.\n",
      "A life listen near.\n",
      "A year eat across.\n",
      "A work scream down.\n",
      "An time cry above.\n",
      "The time cry above.\n",
      "A year eat across.\n",
      "A system whistle upon.\n",
      "The hand break beside.\n",
      "A question walk within.\n",
      "A system whistle upon.\n",
      "The state zip among.\n",
      "A woman skip of.\n",
      "The question walk within.\n",
      "The time cry above.\n",
      "The people imitate against.\n",
      "An time cry above.\n",
      "An thing sleep at.\n",
      "The state zip among.\n",
      "A hand break beside.\n"
     ]
    }
   ],
   "source": [
    "import numpy as np\n",
    "import random as rd\n",
    "\n",
    "article = np.array(['the','a','an'])\n",
    "noun = np.array(['time','year','people','way','man','thing','woman','hand','program','system','question','work','life','state','water'])\n",
    "verb = np.array(['cry','eat','imitate','see','jump','sleep','skip','break','run','whistle','walk','scream','listen','zip','paint'])\n",
    "preposition = np.array(['above','across','against','around','before','at','of','beside','under','upon','within','down','near','among','from'])\n",
    "\n",
    "count = 0\n",
    "\n",
    "while count<21:\n",
    "    number = rd.randrange(0,15)\n",
    "    art_number = rd.randrange(0,3)\n",
    "    sentence=[article[art_number],noun[number],verb[number],preposition[number]]\n",
    "    print(' '.join(sentence).capitalize()+'.')\n",
    "    count+=1"
   ]
  },
  {
   "cell_type": "code",
   "execution_count": null,
   "id": "c61ec30e-c825-4d1c-9ff0-b4b90d1e070a",
   "metadata": {},
   "outputs": [],
   "source": []
  }
 ],
 "metadata": {
  "kernelspec": {
   "display_name": "Python 3 (ipykernel)",
   "language": "python",
   "name": "python3"
  },
  "language_info": {
   "codemirror_mode": {
    "name": "ipython",
    "version": 3
   },
   "file_extension": ".py",
   "mimetype": "text/x-python",
   "name": "python",
   "nbconvert_exporter": "python",
   "pygments_lexer": "ipython3",
   "version": "3.9.13"
  }
 },
 "nbformat": 4,
 "nbformat_minor": 5
}
