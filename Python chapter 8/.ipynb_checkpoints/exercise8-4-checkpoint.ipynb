{
 "cells": [
  {
   "cell_type": "code",
   "execution_count": 10,
   "id": "fc12c1d7-855b-4b42-9010-2084bc762eda",
   "metadata": {},
   "outputs": [
    {
     "name": "stdout",
     "output_type": "stream",
     "text": [
      "bus by world the cross\n"
     ]
    }
   ],
   "source": [
    "import numpy as np\n",
    "import random as rd\n",
    "\n",
    "string = 'cross the world by bus'\n",
    "\n",
    "string_reversed = ' '.join(reversed(string.split()))\n",
    "\n",
    "print(string_reversed)\n"
   ]
  },
  {
   "cell_type": "code",
   "execution_count": null,
   "id": "84d4d268-a5e1-4e8f-9e79-36365e785112",
   "metadata": {},
   "outputs": [],
   "source": []
  }
 ],
 "metadata": {
  "kernelspec": {
   "display_name": "Python 3 (ipykernel)",
   "language": "python",
   "name": "python3"
  },
  "language_info": {
   "codemirror_mode": {
    "name": "ipython",
    "version": 3
   },
   "file_extension": ".py",
   "mimetype": "text/x-python",
   "name": "python",
   "nbconvert_exporter": "python",
   "pygments_lexer": "ipython3",
   "version": "3.9.13"
  }
 },
 "nbformat": 4,
 "nbformat_minor": 5
}
