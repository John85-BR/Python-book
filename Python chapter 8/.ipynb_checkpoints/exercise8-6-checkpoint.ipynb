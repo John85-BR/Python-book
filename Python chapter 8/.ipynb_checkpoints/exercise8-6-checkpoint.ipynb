{
 "cells": [
  {
   "cell_type": "code",
   "execution_count": 2,
   "id": "d4156cc7-893b-4acd-8cce-a1c71df8c290",
   "metadata": {},
   "outputs": [
    {
     "name": "stdout",
     "output_type": "stream",
     "text": [
      "speed\n"
     ]
    }
   ],
   "source": [
    "string = 'The speed is to fast'\n",
    "\n",
    "string_b = ' '.join([i for i in string.split(' ') if i.endswith('ed')])\n",
    "\n",
    "print(string_b)"
   ]
  },
  {
   "cell_type": "code",
   "execution_count": null,
   "id": "aef66894-302b-44b5-9762-ab6fd65ffee4",
   "metadata": {},
   "outputs": [],
   "source": []
  }
 ],
 "metadata": {
  "kernelspec": {
   "display_name": "Python 3 (ipykernel)",
   "language": "python",
   "name": "python3"
  },
  "language_info": {
   "codemirror_mode": {
    "name": "ipython",
    "version": 3
   },
   "file_extension": ".py",
   "mimetype": "text/x-python",
   "name": "python",
   "nbconvert_exporter": "python",
   "pygments_lexer": "ipython3",
   "version": "3.9.13"
  }
 },
 "nbformat": 4,
 "nbformat_minor": 5
}
