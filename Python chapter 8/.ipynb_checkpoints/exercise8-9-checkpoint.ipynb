{
 "cells": [
  {
   "cell_type": "code",
   "execution_count": 13,
   "id": "6c29410d-525d-4c3b-8b26-5474d96991e1",
   "metadata": {},
   "outputs": [
    {
     "name": "stdout",
     "output_type": "stream",
     "text": [
      "('b', 'a', 't')\n",
      "('b', 'a', 'h')\n",
      "('b', 'a', 'e')\n",
      "('b', 't', 'h')\n",
      "('b', 't', 'e')\n",
      "('b', 'h', 'e')\n",
      "('a', 't', 'h')\n",
      "('a', 't', 'e')\n",
      "('a', 'h', 'e')\n",
      "('t', 'h', 'e')\n"
     ]
    }
   ],
   "source": [
    "import itertools as it\n",
    "\n",
    "word = \"bathe\"\n",
    "\n",
    "word_list = it.combinations(word,3)\n",
    "\n",
    "for i in word_list:\n",
    "    print(i)\n"
   ]
  },
  {
   "cell_type": "code",
   "execution_count": null,
   "id": "db6199f5-bda5-4655-a831-bad0254023ae",
   "metadata": {},
   "outputs": [],
   "source": []
  }
 ],
 "metadata": {
  "kernelspec": {
   "display_name": "Python 3 (ipykernel)",
   "language": "python",
   "name": "python3"
  },
  "language_info": {
   "codemirror_mode": {
    "name": "ipython",
    "version": 3
   },
   "file_extension": ".py",
   "mimetype": "text/x-python",
   "name": "python",
   "nbconvert_exporter": "python",
   "pygments_lexer": "ipython3",
   "version": "3.9.13"
  }
 },
 "nbformat": 4,
 "nbformat_minor": 5
}
