{
 "cells": [
  {
   "cell_type": "code",
   "execution_count": 34,
   "id": "1e837054-e88e-45c7-8d11-9a21ffecabdd",
   "metadata": {},
   "outputs": [
    {
     "name": "stdout",
     "output_type": "stream",
     "text": [
      "wuonerfdl\n"
     ]
    }
   ],
   "source": [
    "import random as rd\n",
    "\n",
    "string = \"wonderful\"\n",
    "first = string[0]\n",
    "last = string[len(string)-1]\n",
    "string_list = []\n",
    "string_list+=string\n",
    "string_list.pop()\n",
    "string_list.reverse()\n",
    "string_list.pop()\n",
    "string_list.reverse()\n",
    "string_final = ''\n",
    "rd.shuffle(string_list)\n",
    "string_final = first+''.join(string_list)+last\n",
    "print(string_final)\n",
    "\n",
    "\n",
    "\n"
   ]
  },
  {
   "cell_type": "code",
   "execution_count": null,
   "id": "3fc8c37c-1d6a-46e6-ad25-676311a3ad53",
   "metadata": {},
   "outputs": [],
   "source": []
  }
 ],
 "metadata": {
  "kernelspec": {
   "display_name": "Python 3 (ipykernel)",
   "language": "python",
   "name": "python3"
  },
  "language_info": {
   "codemirror_mode": {
    "name": "ipython",
    "version": 3
   },
   "file_extension": ".py",
   "mimetype": "text/x-python",
   "name": "python",
   "nbconvert_exporter": "python",
   "pygments_lexer": "ipython3",
   "version": "3.9.13"
  }
 },
 "nbformat": 4,
 "nbformat_minor": 5
}
