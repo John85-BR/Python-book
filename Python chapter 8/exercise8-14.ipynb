{
 "cells": [
  {
   "cell_type": "code",
   "execution_count": 36,
   "id": "48889450-1b42-4296-a719-18eba94fecaa",
   "metadata": {},
   "outputs": [
    {
     "name": "stdout",
     "output_type": "stream",
     "text": [
      "['by', 'bus']\n",
      "['speed']\n"
     ]
    }
   ],
   "source": [
    "import re\n",
    "\n",
    "string1 = 'cross the world by bus'\n",
    "\n",
    "#string_b1 = ' '.join([i for i in string1.split(' ') if i.startswith('b')])\n",
    "method = '[b][a-z]*'\n",
    "string_b1 = re.findall(method,string1,flags=re.IGNORECASE)\n",
    "print(string_b1)\n",
    "\n",
    "\n",
    "string2 = 'The speed is to fast'\n",
    "\n",
    "method2 = '([A-Z]+?ed)'\n",
    "#string_b2 = ' '.join([i for i in string2.split(' ') if i.endswith('ed')])\n",
    "string_b2 = re.findall(method2,string2,flags=re.IGNORECASE)\n",
    "\n",
    "print(string_b2)\n"
   ]
  },
  {
   "cell_type": "code",
   "execution_count": null,
   "id": "1f93d57a-3fbf-4548-82a3-0f027aefdc38",
   "metadata": {},
   "outputs": [],
   "source": []
  }
 ],
 "metadata": {
  "kernelspec": {
   "display_name": "Python 3 (ipykernel)",
   "language": "python",
   "name": "python3"
  },
  "language_info": {
   "codemirror_mode": {
    "name": "ipython",
    "version": 3
   },
   "file_extension": ".py",
   "mimetype": "text/x-python",
   "name": "python",
   "nbconvert_exporter": "python",
   "pygments_lexer": "ipython3",
   "version": "3.9.13"
  }
 },
 "nbformat": 4,
 "nbformat_minor": 5
}
