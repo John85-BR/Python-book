{
 "cells": [
  {
   "cell_type": "code",
   "execution_count": 8,
   "id": "95587e4c-040e-4f63-a261-48776a31afa3",
   "metadata": {},
   "outputs": [
    {
     "name": "stdout",
     "output_type": "stream",
     "text": [
      "5\n",
      "5\n",
      "23\n",
      "23\n"
     ]
    }
   ],
   "source": [
    "import re\n",
    "\n",
    "string1 = 'cross the world by bus 12345'\n",
    "string_digits = re.findall('\\d',string1)\n",
    "string_spaces = re.findall('\\s',string1,flags=re.IGNORECASE)\n",
    "string_words = re.findall('\\w',string1,flags=re.IGNORECASE)\n",
    "string_ndigits = re.findall('\\D',string1,flags=re.IGNORECASE)\n",
    "\n",
    "print(len(string_digits))\n",
    "print(len(string_spaces))\n",
    "print(len(string_words))\n",
    "print(len(string_ndigits))\n"
   ]
  },
  {
   "cell_type": "code",
   "execution_count": null,
   "id": "87c159d8-66df-4774-8731-c103f94481f1",
   "metadata": {},
   "outputs": [],
   "source": []
  }
 ],
 "metadata": {
  "kernelspec": {
   "display_name": "Python 3 (ipykernel)",
   "language": "python",
   "name": "python3"
  },
  "language_info": {
   "codemirror_mode": {
    "name": "ipython",
    "version": 3
   },
   "file_extension": ".py",
   "mimetype": "text/x-python",
   "name": "python",
   "nbconvert_exporter": "python",
   "pygments_lexer": "ipython3",
   "version": "3.9.13"
  }
 },
 "nbformat": 4,
 "nbformat_minor": 5
}
