{
 "cells": [
  {
   "cell_type": "code",
   "execution_count": 49,
   "id": "2d7bf69f-6ad7-4ad4-bc76-ea1f434823fc",
   "metadata": {},
   "outputs": [
    {
     "name": "stdout",
     "output_type": "stream",
     "text": [
      "['http://www.deitel.com', 'http://www.deitel.uk', 'https://deitel.com']\n"
     ]
    }
   ],
   "source": [
    "import re\n",
    "\n",
    "string = \"http://www.deitel.com, 232244, kokgkogls, name:lolololo http://www.deitel.uk, https://deitel.com\"\n",
    "\n",
    "method = '(\\w{4,5}://[www]*.[a-z]+.\\w{2,3})'\n",
    "result = re.findall(method,string)\n",
    "print(result)\n",
    "\n"
   ]
  },
  {
   "cell_type": "code",
   "execution_count": null,
   "id": "7db39d45-da48-4c78-bf3b-2e306412f793",
   "metadata": {},
   "outputs": [],
   "source": []
  }
 ],
 "metadata": {
  "kernelspec": {
   "display_name": "Python 3 (ipykernel)",
   "language": "python",
   "name": "python3"
  },
  "language_info": {
   "codemirror_mode": {
    "name": "ipython",
    "version": 3
   },
   "file_extension": ".py",
   "mimetype": "text/x-python",
   "name": "python",
   "nbconvert_exporter": "python",
   "pygments_lexer": "ipython3",
   "version": "3.9.13"
  }
 },
 "nbformat": 4,
 "nbformat_minor": 5
}
