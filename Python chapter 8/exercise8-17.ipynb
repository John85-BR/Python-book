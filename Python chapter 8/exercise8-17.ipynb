{
 "cells": [
  {
   "cell_type": "code",
   "execution_count": 106,
   "id": "074590bc-b901-497c-988c-0a260fcd7a75",
   "metadata": {},
   "outputs": [
    {
     "name": "stdout",
     "output_type": "stream",
     "text": [
      "[('*', '12345', '.12222'), ('+', '1456745', '.12222')]\n"
     ]
    }
   ],
   "source": [
    "import re\n",
    "\n",
    "string1 = \" *12345.12222 work +1456745.12222 \"\n",
    "\n",
    "result = re.findall(r' ([-+*/])*(\\d+)(.[1-9]+[0-9]*)* ', string1)\n",
    "\n",
    "\n",
    "#result = re.findall(r' [-+*/]\\d+.[1-9][0-9]* ', string1)\n",
    "\n",
    "print(result)"
   ]
  },
  {
   "cell_type": "code",
   "execution_count": null,
   "id": "9b90b8d2-f0b7-4aa1-9f68-e7402dcb6c4f",
   "metadata": {},
   "outputs": [],
   "source": []
  },
  {
   "cell_type": "code",
   "execution_count": null,
   "id": "5555b282-10a9-4b18-9b7d-c244cbec2dad",
   "metadata": {},
   "outputs": [],
   "source": []
  }
 ],
 "metadata": {
  "kernelspec": {
   "display_name": "Python 3 (ipykernel)",
   "language": "python",
   "name": "python3"
  },
  "language_info": {
   "codemirror_mode": {
    "name": "ipython",
    "version": 3
   },
   "file_extension": ".py",
   "mimetype": "text/x-python",
   "name": "python",
   "nbconvert_exporter": "python",
   "pygments_lexer": "ipython3",
   "version": "3.9.13"
  }
 },
 "nbformat": 4,
 "nbformat_minor": 5
}
