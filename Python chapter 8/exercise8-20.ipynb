{
 "cells": [
  {
   "cell_type": "code",
   "execution_count": 96,
   "id": "b35ef811-e2f4-40e8-9eb4-4059eb39eee5",
   "metadata": {},
   "outputs": [
    {
     "name": "stdout",
     "output_type": "stream",
     "text": [
      "April 25, 1955\n",
      "04/25/1955\n",
      "04251955\n"
     ]
    }
   ],
   "source": [
    "import re\n",
    "\n",
    "month = {'01':'January', '02':'February','03':'March','04':'April','05':'May','06':'June','07':'July','08':'August','09':'September',\n",
    "         '10':'October','11':'November','12':'December'}\n",
    "\n",
    "string = 'April 25, 1955'\n",
    "\n",
    "format1 = r'(\\d{2})(\\d{2})(\\d{2})'\n",
    "format2 = r'(\\d{2})/(\\d{2})/(\\d{4})'\n",
    "format3 = r'([A-Z][a-z]*) (\\d{2}), (\\d{4})'\n",
    "\n",
    "result1 = re.fullmatch(format1,string)\n",
    "result2 = re.fullmatch(format2,string) \n",
    "result3 = re.fullmatch(format3,string) \n",
    "\n",
    "date_a = ''\n",
    "date_b = ''\n",
    "result = ''\n",
    "\n",
    "if result1:\n",
    "    result = result1.group()\n",
    "    date_a = f'{result1.group(1)}/{result1.group(2)}/19{result1.group(3)}'\n",
    "    #print('/'.join(result1.groups()) if result1 else '')\n",
    "    date_b = f'{month[result1.group(1)]} {result1.group(2)}, {result1.group(3)}'\n",
    "elif result2:\n",
    "    result = result2.group()\n",
    "    date_a = ''.join(re.split('/',result))\n",
    "    date_b = f'{month[result2.group(1)]} {result2.group(2)}, {result2.group(3)}'\n",
    "elif result3:\n",
    "    result = result3.group()\n",
    "    for key,item in month.items():\n",
    "        if item==result3.group(1):\n",
    "            date_b += key\n",
    "            date_a += key\n",
    "            break         \n",
    "    date_b += result3.group(2)+result3.group(3)\n",
    "    date_a += '/'+result3.group(2)+'/'+result3.group(3)\n",
    "                      \n",
    "else:\n",
    "    print('error')\n",
    "    \n",
    "print(f'{result}\\n{date_a}\\n{date_b}')"
   ]
  },
  {
   "cell_type": "code",
   "execution_count": null,
   "id": "2f633beb-0f0e-490e-baff-fbf47a9a8271",
   "metadata": {},
   "outputs": [],
   "source": []
  }
 ],
 "metadata": {
  "kernelspec": {
   "display_name": "Python 3 (ipykernel)",
   "language": "python",
   "name": "python3"
  },
  "language_info": {
   "codemirror_mode": {
    "name": "ipython",
    "version": 3
   },
   "file_extension": ".py",
   "mimetype": "text/x-python",
   "name": "python",
   "nbconvert_exporter": "python",
   "pygments_lexer": "ipython3",
   "version": "3.9.13"
  }
 },
 "nbformat": 4,
 "nbformat_minor": 5
}
