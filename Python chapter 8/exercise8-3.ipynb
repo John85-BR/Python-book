{
 "cells": [
  {
   "cell_type": "code",
   "execution_count": 16,
   "id": "066761bc-a0a6-42b5-aa93-0516e685e9f1",
   "metadata": {},
   "outputs": [
    {
     "name": "stdout",
     "output_type": "stream",
     "text": [
      "['An', 'thing', 'sleep', 'at']\n",
      "Anay hingtay leepsay atay\n"
     ]
    }
   ],
   "source": [
    "import numpy as np\n",
    "import random as rd\n",
    "\n",
    "article = np.array(['the','an'])\n",
    "noun = np.array(['time','year','people','way','man','thing','woman','hand','program','system','question','work','life','state','water'])\n",
    "verb = np.array(['cry','eat','imitate','see','jump','sleep','skip','break','run','whistle','walk','scream','listen','zip','paint'])\n",
    "preposition = np.array(['above','across','against','around','before','at','of','beside','under','upon','within','down','near','among','from'])\n",
    "\n",
    "\n",
    "number = rd.randrange(0,15)\n",
    "art_number = rd.randrange(0,2)\n",
    "sentence=[article[art_number],noun[number],verb[number],preposition[number]]\n",
    "string = ' '.join(sentence).capitalize()\n",
    "\n",
    "string_list = string.split(' ')\n",
    "list_pig = []\n",
    "print(string_list)\n",
    "\n",
    "for i in string_list:\n",
    "    if i[0].capitalize() in ['A','E','I','O','U']:\n",
    "        word_temp = i + 'ay'\n",
    "    else:\n",
    "        word_temp = i[1:]+i[0]+'ay'\n",
    "    \n",
    "    list_pig.append(word_temp)\n",
    "    \n",
    "print(' '.join(list_pig).capitalize())\n"
   ]
  },
  {
   "cell_type": "code",
   "execution_count": null,
   "id": "dbb1ae46-3455-428c-82e1-53d4c4c9f36c",
   "metadata": {},
   "outputs": [],
   "source": []
  }
 ],
 "metadata": {
  "kernelspec": {
   "display_name": "Python 3 (ipykernel)",
   "language": "python",
   "name": "python3"
  },
  "language_info": {
   "codemirror_mode": {
    "name": "ipython",
    "version": 3
   },
   "file_extension": ".py",
   "mimetype": "text/x-python",
   "name": "python",
   "nbconvert_exporter": "python",
   "pygments_lexer": "ipython3",
   "version": "3.9.13"
  }
 },
 "nbformat": 4,
 "nbformat_minor": 5
}
