{
 "cells": [
  {
   "cell_type": "code",
   "execution_count": 1,
   "id": "d4fd6671-50e9-4be7-a7ea-2d4189ce0449",
   "metadata": {},
   "outputs": [
    {
     "name": "stdout",
     "output_type": "stream",
     "text": [
      "by bus\n"
     ]
    }
   ],
   "source": [
    "string = 'cross the world by bus'\n",
    "\n",
    "string_b = ' '.join([i for i in string.split(' ') if i.startswith('b')])\n",
    "\n",
    "print(string_b)\n"
   ]
  },
  {
   "cell_type": "code",
   "execution_count": null,
   "id": "cef0d2c1-d755-4d50-a481-8303984716c8",
   "metadata": {},
   "outputs": [],
   "source": []
  }
 ],
 "metadata": {
  "kernelspec": {
   "display_name": "Python 3 (ipykernel)",
   "language": "python",
   "name": "python3"
  },
  "language_info": {
   "codemirror_mode": {
    "name": "ipython",
    "version": 3
   },
   "file_extension": ".py",
   "mimetype": "text/x-python",
   "name": "python",
   "nbconvert_exporter": "python",
   "pygments_lexer": "ipython3",
   "version": "3.9.13"
  }
 },
 "nbformat": 4,
 "nbformat_minor": 5
}
