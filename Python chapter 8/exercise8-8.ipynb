{
 "cells": [
  {
   "cell_type": "code",
   "execution_count": 21,
   "id": "7e5c30bb-ea6e-48f7-9ed9-289d631111d8",
   "metadata": {},
   "outputs": [
    {
     "name": "stdout",
     "output_type": "stream",
     "text": [
      "😀\n",
      "😃\n",
      "😄\n",
      "😁\n",
      "😆\n",
      "😅\n",
      "🤣\n",
      "😂\n",
      "🙂\n",
      "🙃\n"
     ]
    }
   ],
   "source": [
    "list_emojis = [0x1f600, 0x1f603,0x1f604,0x1f601,0x1f606,0x1f605,0x1f923,0x1f602,0x1f642,0x1f643]\n",
    "\n",
    "for i in list_emojis:\n",
    "    print(f'{i:c}')\n",
    "    "
   ]
  },
  {
   "cell_type": "code",
   "execution_count": null,
   "id": "da9a8c1c-61a3-4ef9-8b43-2376e642fb44",
   "metadata": {},
   "outputs": [],
   "source": []
  }
 ],
 "metadata": {
  "kernelspec": {
   "display_name": "Python 3 (ipykernel)",
   "language": "python",
   "name": "python3"
  },
  "language_info": {
   "codemirror_mode": {
    "name": "ipython",
    "version": 3
   },
   "file_extension": ".py",
   "mimetype": "text/x-python",
   "name": "python",
   "nbconvert_exporter": "python",
   "pygments_lexer": "ipython3",
   "version": "3.9.13"
  }
 },
 "nbformat": 4,
 "nbformat_minor": 5
}
